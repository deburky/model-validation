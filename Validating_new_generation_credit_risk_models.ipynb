{
  "cells": [
    {
      "cell_type": "markdown",
      "metadata": {
        "id": "view-in-github",
        "colab_type": "text"
      },
      "source": [
        "<a href=\"https://colab.research.google.com/github/deburky/model-validation/blob/main/Validating_new_generation_credit_risk_models.ipynb\" target=\"_parent\"><img src=\"https://colab.research.google.com/assets/colab-badge.svg\" alt=\"Open In Colab\"/></a>"
      ]
    },
    {
      "cell_type": "markdown",
      "metadata": {
        "id": "GAj2fxQt0hV9"
      },
      "source": [
        "\n",
        "\n",
        "# Technical appendix to *Validating new generation credit risk models*\n"
      ]
    },
    {
      "cell_type": "markdown",
      "source": [
        "<div class=\"alert alert-info\">\n",
        "<b>Description:</b> This notebook contains a technical appendix to the post on the validation of new generation credit risk models.\n",
        "</div>"
      ],
      "metadata": {
        "id": "k4pKJJbtcptn"
      }
    },
    {
      "cell_type": "code",
      "source": [
        "%%capture\n",
        "!pip3 install sklearn --upgrade\n",
        "!pip3 install lightgbm --upgrade\n",
        "!pip3 install autowoe --upgrade\n",
        "!pip3 install mlxtend --upgrade\n",
        "!pip3 install -U scikit-learn --upgrade\n",
        "!pip3 install optuna --upgrade"
      ],
      "metadata": {
        "id": "I9dREmFSV7Eb"
      },
      "execution_count": 1,
      "outputs": []
    },
    {
      "cell_type": "code",
      "execution_count": 2,
      "metadata": {
        "colab": {
          "base_uri": "https://localhost:8080/"
        },
        "id": "QXlseQ45xCR9",
        "outputId": "50a80042-64d1-4bce-c346-86fb5c1b22c3"
      },
      "outputs": [
        {
          "output_type": "stream",
          "name": "stdout",
          "text": [
            "1.0.2\n"
          ]
        }
      ],
      "source": [
        "import pandas as pd\n",
        "import numpy as np\n",
        "import lightgbm as lgb\n",
        "\n",
        "import sklearn\n",
        "print(sklearn.__version__)\n",
        "from sklearn.model_selection import train_test_split\n",
        "\n",
        "from collections import OrderedDict\n",
        "from sklearn.metrics import roc_auc_score\n",
        "from tqdm import tqdm\n",
        "from copy import deepcopy\n",
        "import joblib\n",
        "\n",
        "from autowoe import ReportDeco, AutoWoE"
      ]
    },
    {
      "cell_type": "markdown",
      "metadata": {
        "id": "jgg-FjFeBmSP"
      },
      "source": [
        "## Data"
      ]
    },
    {
      "cell_type": "markdown",
      "source": [
        "### Import data into Colab with via a json ([link](https://www.kaggle.com/general/74235))"
      ],
      "metadata": {
        "id": "Ng9XiD6NWPDb"
      }
    },
    {
      "cell_type": "markdown",
      "source": [
        "Please follow the steps below to download and use kaggle data within Google Colab:\n",
        "\n",
        "1. Go to your account, Scroll to API section and Click Expire API Token to remove previous tokens\n",
        "\n",
        "2. Click on Create New API Token - It will download kaggle.json file on your machine.\n",
        "\n",
        "3. Go to your Google Colab project file and run the following commands:"
      ],
      "metadata": {
        "id": "sCmSijHNWQHb"
      }
    },
    {
      "cell_type": "code",
      "source": [
        "from google.colab import files"
      ],
      "metadata": {
        "id": "HGUkz-YeWTuZ"
      },
      "execution_count": 3,
      "outputs": []
    },
    {
      "cell_type": "code",
      "source": [
        "!pip3 install -q kaggle"
      ],
      "metadata": {
        "id": "abprR5upWT0T"
      },
      "execution_count": 4,
      "outputs": []
    },
    {
      "cell_type": "code",
      "source": [
        "files.upload()"
      ],
      "metadata": {
        "colab": {
          "base_uri": "https://localhost:8080/",
          "height": 92
        },
        "id": "OY2DwsR7WXm0",
        "outputId": "de0f1eb5-9a1d-4e49-f010-ba7407e9a81c"
      },
      "execution_count": 5,
      "outputs": [
        {
          "output_type": "display_data",
          "data": {
            "text/plain": [
              "<IPython.core.display.HTML object>"
            ],
            "text/html": [
              "\n",
              "     <input type=\"file\" id=\"files-462d660f-b44f-4153-9012-bf9d513104bf\" name=\"files[]\" multiple disabled\n",
              "        style=\"border:none\" />\n",
              "     <output id=\"result-462d660f-b44f-4153-9012-bf9d513104bf\">\n",
              "      Upload widget is only available when the cell has been executed in the\n",
              "      current browser session. Please rerun this cell to enable.\n",
              "      </output>\n",
              "      <script>// Copyright 2017 Google LLC\n",
              "//\n",
              "// Licensed under the Apache License, Version 2.0 (the \"License\");\n",
              "// you may not use this file except in compliance with the License.\n",
              "// You may obtain a copy of the License at\n",
              "//\n",
              "//      http://www.apache.org/licenses/LICENSE-2.0\n",
              "//\n",
              "// Unless required by applicable law or agreed to in writing, software\n",
              "// distributed under the License is distributed on an \"AS IS\" BASIS,\n",
              "// WITHOUT WARRANTIES OR CONDITIONS OF ANY KIND, either express or implied.\n",
              "// See the License for the specific language governing permissions and\n",
              "// limitations under the License.\n",
              "\n",
              "/**\n",
              " * @fileoverview Helpers for google.colab Python module.\n",
              " */\n",
              "(function(scope) {\n",
              "function span(text, styleAttributes = {}) {\n",
              "  const element = document.createElement('span');\n",
              "  element.textContent = text;\n",
              "  for (const key of Object.keys(styleAttributes)) {\n",
              "    element.style[key] = styleAttributes[key];\n",
              "  }\n",
              "  return element;\n",
              "}\n",
              "\n",
              "// Max number of bytes which will be uploaded at a time.\n",
              "const MAX_PAYLOAD_SIZE = 100 * 1024;\n",
              "\n",
              "function _uploadFiles(inputId, outputId) {\n",
              "  const steps = uploadFilesStep(inputId, outputId);\n",
              "  const outputElement = document.getElementById(outputId);\n",
              "  // Cache steps on the outputElement to make it available for the next call\n",
              "  // to uploadFilesContinue from Python.\n",
              "  outputElement.steps = steps;\n",
              "\n",
              "  return _uploadFilesContinue(outputId);\n",
              "}\n",
              "\n",
              "// This is roughly an async generator (not supported in the browser yet),\n",
              "// where there are multiple asynchronous steps and the Python side is going\n",
              "// to poll for completion of each step.\n",
              "// This uses a Promise to block the python side on completion of each step,\n",
              "// then passes the result of the previous step as the input to the next step.\n",
              "function _uploadFilesContinue(outputId) {\n",
              "  const outputElement = document.getElementById(outputId);\n",
              "  const steps = outputElement.steps;\n",
              "\n",
              "  const next = steps.next(outputElement.lastPromiseValue);\n",
              "  return Promise.resolve(next.value.promise).then((value) => {\n",
              "    // Cache the last promise value to make it available to the next\n",
              "    // step of the generator.\n",
              "    outputElement.lastPromiseValue = value;\n",
              "    return next.value.response;\n",
              "  });\n",
              "}\n",
              "\n",
              "/**\n",
              " * Generator function which is called between each async step of the upload\n",
              " * process.\n",
              " * @param {string} inputId Element ID of the input file picker element.\n",
              " * @param {string} outputId Element ID of the output display.\n",
              " * @return {!Iterable<!Object>} Iterable of next steps.\n",
              " */\n",
              "function* uploadFilesStep(inputId, outputId) {\n",
              "  const inputElement = document.getElementById(inputId);\n",
              "  inputElement.disabled = false;\n",
              "\n",
              "  const outputElement = document.getElementById(outputId);\n",
              "  outputElement.innerHTML = '';\n",
              "\n",
              "  const pickedPromise = new Promise((resolve) => {\n",
              "    inputElement.addEventListener('change', (e) => {\n",
              "      resolve(e.target.files);\n",
              "    });\n",
              "  });\n",
              "\n",
              "  const cancel = document.createElement('button');\n",
              "  inputElement.parentElement.appendChild(cancel);\n",
              "  cancel.textContent = 'Cancel upload';\n",
              "  const cancelPromise = new Promise((resolve) => {\n",
              "    cancel.onclick = () => {\n",
              "      resolve(null);\n",
              "    };\n",
              "  });\n",
              "\n",
              "  // Wait for the user to pick the files.\n",
              "  const files = yield {\n",
              "    promise: Promise.race([pickedPromise, cancelPromise]),\n",
              "    response: {\n",
              "      action: 'starting',\n",
              "    }\n",
              "  };\n",
              "\n",
              "  cancel.remove();\n",
              "\n",
              "  // Disable the input element since further picks are not allowed.\n",
              "  inputElement.disabled = true;\n",
              "\n",
              "  if (!files) {\n",
              "    return {\n",
              "      response: {\n",
              "        action: 'complete',\n",
              "      }\n",
              "    };\n",
              "  }\n",
              "\n",
              "  for (const file of files) {\n",
              "    const li = document.createElement('li');\n",
              "    li.append(span(file.name, {fontWeight: 'bold'}));\n",
              "    li.append(span(\n",
              "        `(${file.type || 'n/a'}) - ${file.size} bytes, ` +\n",
              "        `last modified: ${\n",
              "            file.lastModifiedDate ? file.lastModifiedDate.toLocaleDateString() :\n",
              "                                    'n/a'} - `));\n",
              "    const percent = span('0% done');\n",
              "    li.appendChild(percent);\n",
              "\n",
              "    outputElement.appendChild(li);\n",
              "\n",
              "    const fileDataPromise = new Promise((resolve) => {\n",
              "      const reader = new FileReader();\n",
              "      reader.onload = (e) => {\n",
              "        resolve(e.target.result);\n",
              "      };\n",
              "      reader.readAsArrayBuffer(file);\n",
              "    });\n",
              "    // Wait for the data to be ready.\n",
              "    let fileData = yield {\n",
              "      promise: fileDataPromise,\n",
              "      response: {\n",
              "        action: 'continue',\n",
              "      }\n",
              "    };\n",
              "\n",
              "    // Use a chunked sending to avoid message size limits. See b/62115660.\n",
              "    let position = 0;\n",
              "    do {\n",
              "      const length = Math.min(fileData.byteLength - position, MAX_PAYLOAD_SIZE);\n",
              "      const chunk = new Uint8Array(fileData, position, length);\n",
              "      position += length;\n",
              "\n",
              "      const base64 = btoa(String.fromCharCode.apply(null, chunk));\n",
              "      yield {\n",
              "        response: {\n",
              "          action: 'append',\n",
              "          file: file.name,\n",
              "          data: base64,\n",
              "        },\n",
              "      };\n",
              "\n",
              "      let percentDone = fileData.byteLength === 0 ?\n",
              "          100 :\n",
              "          Math.round((position / fileData.byteLength) * 100);\n",
              "      percent.textContent = `${percentDone}% done`;\n",
              "\n",
              "    } while (position < fileData.byteLength);\n",
              "  }\n",
              "\n",
              "  // All done.\n",
              "  yield {\n",
              "    response: {\n",
              "      action: 'complete',\n",
              "    }\n",
              "  };\n",
              "}\n",
              "\n",
              "scope.google = scope.google || {};\n",
              "scope.google.colab = scope.google.colab || {};\n",
              "scope.google.colab._files = {\n",
              "  _uploadFiles,\n",
              "  _uploadFilesContinue,\n",
              "};\n",
              "})(self);\n",
              "</script> "
            ]
          },
          "metadata": {}
        },
        {
          "output_type": "stream",
          "name": "stdout",
          "text": [
            "Saving kaggle.json to kaggle.json\n"
          ]
        },
        {
          "output_type": "execute_result",
          "data": {
            "text/plain": [
              "{'kaggle.json': b'{\"username\":\"deburky\",\"key\":\"fb411c83ce3eddce6dc2ec21601da483\"}'}"
            ]
          },
          "metadata": {},
          "execution_count": 5
        }
      ]
    },
    {
      "cell_type": "code",
      "source": [
        "!mkdir ~/.kaggle\n",
        "!cp kaggle.json ~/.kaggle/"
      ],
      "metadata": {
        "id": "8pAkxmzIWl7W"
      },
      "execution_count": 6,
      "outputs": []
    },
    {
      "cell_type": "code",
      "source": [
        "!chmod 600 ~/.kaggle/kaggle.json"
      ],
      "metadata": {
        "id": "DCQQCA21WnCU"
      },
      "execution_count": 7,
      "outputs": []
    },
    {
      "cell_type": "code",
      "source": [
        "# print datasets from Kaggle\n",
        "!kaggle datasets list"
      ],
      "metadata": {
        "colab": {
          "base_uri": "https://localhost:8080/"
        },
        "id": "QOsZ_D8VWprp",
        "outputId": "bf5bd84c-9662-45b5-be76-193c7c3bd58a"
      },
      "execution_count": 8,
      "outputs": [
        {
          "output_type": "stream",
          "name": "stdout",
          "text": [
            "ref                                                            title                                                size  lastUpdated          downloadCount  voteCount  usabilityRating  \n",
            "-------------------------------------------------------------  --------------------------------------------------  -----  -------------------  -------------  ---------  ---------------  \n",
            "akshaydattatraykhare/diabetes-dataset                          Diabetes Dataset                                      9KB  2022-10-06 08:55:25          16265        474  1.0              \n",
            "akshaydattatraykhare/data-for-admission-in-the-university      Data for Admission in the University                  4KB  2022-10-27 11:05:45           4177         98  1.0              \n",
            "thedevastator/jobs-dataset-from-glassdoor                      Salary Prediction                                     3MB  2022-11-16 13:52:31            716         26  1.0              \n",
            "swaptr/layoffs-2022                                            Layoffs 2022                                         30KB  2022-11-20 18:05:26           1300         40  1.0              \n",
            "meirnizri/covid19-dataset                                      COVID-19 Dataset                                      5MB  2022-11-13 15:47:17           1260         35  1.0              \n",
            "dheerajmukati/india-gdp-19602022                               India GDP 1960-2022                                   1KB  2022-11-11 12:08:46            668         25  1.0              \n",
            "whenamancodes/predict-diabities                                Predict Diabetes                                      9KB  2022-11-09 12:18:49           1928         43  1.0              \n",
            "elmoallistair/fertility-rate-19602020                          Fertility Rate (1960-2020)                           19KB  2022-11-17 01:31:16            369         25  0.9117647        \n",
            "zvr842/global-pollution-by-counties                            Global pollution by counties                         15KB  2022-11-14 10:57:31            668         24  0.9705882        \n",
            "whenamancodes/credit-card-customers-prediction                 Credit Card Customers Prediction                    379KB  2022-10-30 13:03:27           2789         62  1.0              \n",
            "whenamancodes/covid-19-coronavirus-pandemic-dataset            COVID -19 Coronavirus Pandemic Dataset               11KB  2022-09-30 04:05:11          11862        370  1.0              \n",
            "jillanisofttech/flight-price-prediction-dataset                Flight Price Prediction DataSet                     602KB  2022-11-18 10:37:29            738         26  0.7941176        \n",
            "ifteshanajnin/carinsuranceclaimprediction-classification       Car Insurance Claim Prediction                        2MB  2022-11-14 15:38:26            537         24  1.0              \n",
            "dbarteaux99/stable-diffusion-1-5                               Stable Diffusion 1.5 (normal and EMAonly) with vae    7GB  2022-10-23 15:40:29             42         16  0.9375           \n",
            "maharshipandya/-spotify-tracks-dataset                         🎹 Spotify Tracks Dataset                              8MB  2022-10-22 14:40:15           3528        101  1.0              \n",
            "aneesayoub/world-universities-ranking-2022                     World Universities Ranking 2022                      41KB  2022-11-17 03:47:37           1220         33  0.9117647        \n",
            "hasibalmuzdadid/global-air-pollution-dataset                   Global Air Pollution Dataset                        371KB  2022-11-08 14:43:32           2068         56  1.0              \n",
            "thedevastator/cancer-patients-and-air-pollution-a-new-link      Lung Cancer Prediction                               7KB  2022-11-14 13:40:40            838         29  1.0              \n",
            "salmankhaliq22/road-traffic-collision-dataset                  UK Road Traffic Collision Dataset                    99MB  2022-11-09 06:46:16            557         32  1.0              \n",
            "thedevastator/top-selling-nintendo-entertainment-system-games  Nintendo Entertainment System Games                  23KB  2022-11-11 17:47:38            502         22  0.85294116       \n"
          ]
        }
      ]
    },
    {
      "cell_type": "markdown",
      "metadata": {
        "id": "7_jeuWMmG1n7"
      },
      "source": [
        "#### Default of Credit Card Clients\n",
        "##### Default Payments of Credit Card Clients in Taiwan from 2005\n",
        "\n",
        "#### Sample Information\n",
        "***\n",
        "This sample contains information on default payments, demographic factors, credit data, history of payment, and bill statements of credit card clients in Taiwan from April 2005 to September 2005.\n",
        "\n",
        "#### Features\n",
        "***\n",
        "There are 25 features in the sample:\n",
        "\n",
        "*   `ID`: ID of each client\n",
        "*   `LIMIT_BAL`: Amount of given credit in NT dollars (includes individual and family/supplementary credit)\n",
        "*   `SEX`: Gender (1=male, 2=female)\n",
        "*   `EDUCATION`: (1=graduate school, 2=university, 3=high school, 4=others, 5=unknown, 6=unknown)\n",
        "*   `MARRIAGE`: Marital status (1=married, 2=single, 3=others)\n",
        "*   `AGE`: Age in years\n",
        "*   `PAY_0`: Repayment status in September, 2005 (-1=pay duly, 1=payment delay for one month, 2=payment delay for two months, … 8=payment delay for eight months, 9=payment delay for nine months and above)\n",
        "*   `PAY_2`: Repayment status in August, 2005 (scale same as above)\n",
        "*   `PAY_3`: Repayment status in July, 2005 (scale same as above)\n",
        "*   `PAY_4`: Repayment status in June, 2005 (scale same as above)\n",
        "*   `PAY_5`: Repayment status in May, 2005 (scale same as above)\n",
        "*   `PAY_6`: Repayment status in April, 2005 (scale same as above)\n",
        "*   `BILL_AMT1`: Amount of bill statement in September, 2005 (NT dollar)\n",
        "*   `BILL_AMT2`: Amount of bill statement in August, 2005 (NT dollar)\n",
        "*   `BILL_AMT3`: Amount of bill statement in July, 2005 (NT dollar)\n",
        "*   `BILL_AMT4`: Amount of bill statement in June, 2005 (NT dollar)\n",
        "*   `BILL_AMT5`: Amount of bill statement in May, 2005 (NT dollar)\n",
        "*   `BILL_AMT6`: Amount of bill statement in April, 2005 (NT dollar)\n",
        "*   `PAY_AMT1`: Amount of previous payment in September, 2005 (NT dollar)\n",
        "*   `PAY_AMT2`: Amount of previous payment in August, 2005 (NT dollar)\n",
        "*   `PAY_AMT3`: Amount of previous payment in July, 2005 (NT dollar)\n",
        "*   `PAY_AMT4`: Amount of previous payment in June, 2005 (NT dollar)\n",
        "*   `PAY_AMT5`: Amount of previous payment in May, 2005 (NT dollar)\n",
        "*   `PAY_AMT6`: Amount of previous payment in April, 2005 (NT dollar)\n",
        "*   `default.payment.next.month`: Default payment (1=yes, 0=no)"
      ]
    },
    {
      "cell_type": "markdown",
      "metadata": {
        "id": "sMb5bBABGXQz"
      },
      "source": [
        "### Preparing data"
      ]
    },
    {
      "cell_type": "code",
      "source": [
        "!kaggle datasets download -d uciml/default-of-credit-card-clients-dataset # https://www.kaggle.com/general/156610"
      ],
      "metadata": {
        "colab": {
          "base_uri": "https://localhost:8080/"
        },
        "id": "aFHMhVBXWunX",
        "outputId": "03f5acb3-679a-495e-e48c-a99b351f67a3"
      },
      "execution_count": 9,
      "outputs": [
        {
          "output_type": "stream",
          "name": "stdout",
          "text": [
            "Downloading default-of-credit-card-clients-dataset.zip to /content\n",
            "\r  0% 0.00/0.98M [00:00<?, ?B/s]\n",
            "\r100% 0.98M/0.98M [00:00<00:00, 180MB/s]\n"
          ]
        }
      ]
    },
    {
      "cell_type": "code",
      "source": [
        "!mkdir train"
      ],
      "metadata": {
        "id": "Wrs-CYgVWxJu"
      },
      "execution_count": 10,
      "outputs": []
    },
    {
      "cell_type": "code",
      "source": [
        "!unzip default-of-credit-card-clients-dataset.zip -d train"
      ],
      "metadata": {
        "id": "5OPFTAsfWyTg",
        "colab": {
          "base_uri": "https://localhost:8080/"
        },
        "outputId": "25df4099-dd52-40d3-be58-071ee855a27d"
      },
      "execution_count": 11,
      "outputs": [
        {
          "output_type": "stream",
          "name": "stdout",
          "text": [
            "Archive:  default-of-credit-card-clients-dataset.zip\n",
            "  inflating: train/UCI_Credit_Card.csv  \n"
          ]
        }
      ]
    },
    {
      "cell_type": "code",
      "execution_count": 12,
      "metadata": {
        "id": "sMavPvRdjeX5"
      },
      "outputs": [],
      "source": [
        "modeling_data = pd.read_csv('train/UCI_Credit_Card.csv')\n",
        "modeling_data.drop('ID', axis=1, inplace=True)"
      ]
    },
    {
      "cell_type": "code",
      "execution_count": 13,
      "metadata": {
        "colab": {
          "base_uri": "https://localhost:8080/",
          "height": 802
        },
        "id": "hCS6Vxb4R0oP",
        "outputId": "ffa4a119-7f52-493b-f920-31297ed8a837"
      },
      "outputs": [
        {
          "output_type": "execute_result",
          "data": {
            "text/plain": [
              "                                 min           mean        max\n",
              "LIMIT_BAL                    10000.0  167484.322667  1000000.0\n",
              "SEX                              1.0       1.603733        2.0\n",
              "EDUCATION                        0.0       1.853133        6.0\n",
              "MARRIAGE                         0.0       1.551867        3.0\n",
              "AGE                             21.0      35.485500       79.0\n",
              "PAY_0                           -2.0      -0.016700        8.0\n",
              "PAY_2                           -2.0      -0.133767        8.0\n",
              "PAY_3                           -2.0      -0.166200        8.0\n",
              "PAY_4                           -2.0      -0.220667        8.0\n",
              "PAY_5                           -2.0      -0.266200        8.0\n",
              "PAY_6                           -2.0      -0.291100        8.0\n",
              "BILL_AMT1                  -165580.0   51223.330900   964511.0\n",
              "BILL_AMT2                   -69777.0   49179.075167   983931.0\n",
              "BILL_AMT3                  -157264.0   47013.154800  1664089.0\n",
              "BILL_AMT4                  -170000.0   43262.948967   891586.0\n",
              "BILL_AMT5                   -81334.0   40311.400967   927171.0\n",
              "BILL_AMT6                  -339603.0   38871.760400   961664.0\n",
              "PAY_AMT1                         0.0    5663.580500   873552.0\n",
              "PAY_AMT2                         0.0    5921.163500  1684259.0\n",
              "PAY_AMT3                         0.0    5225.681500   896040.0\n",
              "PAY_AMT4                         0.0    4826.076867   621000.0\n",
              "PAY_AMT5                         0.0    4799.387633   426529.0\n",
              "PAY_AMT6                         0.0    5215.502567   528666.0\n",
              "default.payment.next.month       0.0       0.221200        1.0"
            ],
            "text/html": [
              "\n",
              "  <div id=\"df-dff839c3-79c1-4f04-9917-6c79a6a8b649\">\n",
              "    <div class=\"colab-df-container\">\n",
              "      <div>\n",
              "<style scoped>\n",
              "    .dataframe tbody tr th:only-of-type {\n",
              "        vertical-align: middle;\n",
              "    }\n",
              "\n",
              "    .dataframe tbody tr th {\n",
              "        vertical-align: top;\n",
              "    }\n",
              "\n",
              "    .dataframe thead th {\n",
              "        text-align: right;\n",
              "    }\n",
              "</style>\n",
              "<table border=\"1\" class=\"dataframe\">\n",
              "  <thead>\n",
              "    <tr style=\"text-align: right;\">\n",
              "      <th></th>\n",
              "      <th>min</th>\n",
              "      <th>mean</th>\n",
              "      <th>max</th>\n",
              "    </tr>\n",
              "  </thead>\n",
              "  <tbody>\n",
              "    <tr>\n",
              "      <th>LIMIT_BAL</th>\n",
              "      <td>10000.0</td>\n",
              "      <td>167484.322667</td>\n",
              "      <td>1000000.0</td>\n",
              "    </tr>\n",
              "    <tr>\n",
              "      <th>SEX</th>\n",
              "      <td>1.0</td>\n",
              "      <td>1.603733</td>\n",
              "      <td>2.0</td>\n",
              "    </tr>\n",
              "    <tr>\n",
              "      <th>EDUCATION</th>\n",
              "      <td>0.0</td>\n",
              "      <td>1.853133</td>\n",
              "      <td>6.0</td>\n",
              "    </tr>\n",
              "    <tr>\n",
              "      <th>MARRIAGE</th>\n",
              "      <td>0.0</td>\n",
              "      <td>1.551867</td>\n",
              "      <td>3.0</td>\n",
              "    </tr>\n",
              "    <tr>\n",
              "      <th>AGE</th>\n",
              "      <td>21.0</td>\n",
              "      <td>35.485500</td>\n",
              "      <td>79.0</td>\n",
              "    </tr>\n",
              "    <tr>\n",
              "      <th>PAY_0</th>\n",
              "      <td>-2.0</td>\n",
              "      <td>-0.016700</td>\n",
              "      <td>8.0</td>\n",
              "    </tr>\n",
              "    <tr>\n",
              "      <th>PAY_2</th>\n",
              "      <td>-2.0</td>\n",
              "      <td>-0.133767</td>\n",
              "      <td>8.0</td>\n",
              "    </tr>\n",
              "    <tr>\n",
              "      <th>PAY_3</th>\n",
              "      <td>-2.0</td>\n",
              "      <td>-0.166200</td>\n",
              "      <td>8.0</td>\n",
              "    </tr>\n",
              "    <tr>\n",
              "      <th>PAY_4</th>\n",
              "      <td>-2.0</td>\n",
              "      <td>-0.220667</td>\n",
              "      <td>8.0</td>\n",
              "    </tr>\n",
              "    <tr>\n",
              "      <th>PAY_5</th>\n",
              "      <td>-2.0</td>\n",
              "      <td>-0.266200</td>\n",
              "      <td>8.0</td>\n",
              "    </tr>\n",
              "    <tr>\n",
              "      <th>PAY_6</th>\n",
              "      <td>-2.0</td>\n",
              "      <td>-0.291100</td>\n",
              "      <td>8.0</td>\n",
              "    </tr>\n",
              "    <tr>\n",
              "      <th>BILL_AMT1</th>\n",
              "      <td>-165580.0</td>\n",
              "      <td>51223.330900</td>\n",
              "      <td>964511.0</td>\n",
              "    </tr>\n",
              "    <tr>\n",
              "      <th>BILL_AMT2</th>\n",
              "      <td>-69777.0</td>\n",
              "      <td>49179.075167</td>\n",
              "      <td>983931.0</td>\n",
              "    </tr>\n",
              "    <tr>\n",
              "      <th>BILL_AMT3</th>\n",
              "      <td>-157264.0</td>\n",
              "      <td>47013.154800</td>\n",
              "      <td>1664089.0</td>\n",
              "    </tr>\n",
              "    <tr>\n",
              "      <th>BILL_AMT4</th>\n",
              "      <td>-170000.0</td>\n",
              "      <td>43262.948967</td>\n",
              "      <td>891586.0</td>\n",
              "    </tr>\n",
              "    <tr>\n",
              "      <th>BILL_AMT5</th>\n",
              "      <td>-81334.0</td>\n",
              "      <td>40311.400967</td>\n",
              "      <td>927171.0</td>\n",
              "    </tr>\n",
              "    <tr>\n",
              "      <th>BILL_AMT6</th>\n",
              "      <td>-339603.0</td>\n",
              "      <td>38871.760400</td>\n",
              "      <td>961664.0</td>\n",
              "    </tr>\n",
              "    <tr>\n",
              "      <th>PAY_AMT1</th>\n",
              "      <td>0.0</td>\n",
              "      <td>5663.580500</td>\n",
              "      <td>873552.0</td>\n",
              "    </tr>\n",
              "    <tr>\n",
              "      <th>PAY_AMT2</th>\n",
              "      <td>0.0</td>\n",
              "      <td>5921.163500</td>\n",
              "      <td>1684259.0</td>\n",
              "    </tr>\n",
              "    <tr>\n",
              "      <th>PAY_AMT3</th>\n",
              "      <td>0.0</td>\n",
              "      <td>5225.681500</td>\n",
              "      <td>896040.0</td>\n",
              "    </tr>\n",
              "    <tr>\n",
              "      <th>PAY_AMT4</th>\n",
              "      <td>0.0</td>\n",
              "      <td>4826.076867</td>\n",
              "      <td>621000.0</td>\n",
              "    </tr>\n",
              "    <tr>\n",
              "      <th>PAY_AMT5</th>\n",
              "      <td>0.0</td>\n",
              "      <td>4799.387633</td>\n",
              "      <td>426529.0</td>\n",
              "    </tr>\n",
              "    <tr>\n",
              "      <th>PAY_AMT6</th>\n",
              "      <td>0.0</td>\n",
              "      <td>5215.502567</td>\n",
              "      <td>528666.0</td>\n",
              "    </tr>\n",
              "    <tr>\n",
              "      <th>default.payment.next.month</th>\n",
              "      <td>0.0</td>\n",
              "      <td>0.221200</td>\n",
              "      <td>1.0</td>\n",
              "    </tr>\n",
              "  </tbody>\n",
              "</table>\n",
              "</div>\n",
              "      <button class=\"colab-df-convert\" onclick=\"convertToInteractive('df-dff839c3-79c1-4f04-9917-6c79a6a8b649')\"\n",
              "              title=\"Convert this dataframe to an interactive table.\"\n",
              "              style=\"display:none;\">\n",
              "        \n",
              "  <svg xmlns=\"http://www.w3.org/2000/svg\" height=\"24px\"viewBox=\"0 0 24 24\"\n",
              "       width=\"24px\">\n",
              "    <path d=\"M0 0h24v24H0V0z\" fill=\"none\"/>\n",
              "    <path d=\"M18.56 5.44l.94 2.06.94-2.06 2.06-.94-2.06-.94-.94-2.06-.94 2.06-2.06.94zm-11 1L8.5 8.5l.94-2.06 2.06-.94-2.06-.94L8.5 2.5l-.94 2.06-2.06.94zm10 10l.94 2.06.94-2.06 2.06-.94-2.06-.94-.94-2.06-.94 2.06-2.06.94z\"/><path d=\"M17.41 7.96l-1.37-1.37c-.4-.4-.92-.59-1.43-.59-.52 0-1.04.2-1.43.59L10.3 9.45l-7.72 7.72c-.78.78-.78 2.05 0 2.83L4 21.41c.39.39.9.59 1.41.59.51 0 1.02-.2 1.41-.59l7.78-7.78 2.81-2.81c.8-.78.8-2.07 0-2.86zM5.41 20L4 18.59l7.72-7.72 1.47 1.35L5.41 20z\"/>\n",
              "  </svg>\n",
              "      </button>\n",
              "      \n",
              "  <style>\n",
              "    .colab-df-container {\n",
              "      display:flex;\n",
              "      flex-wrap:wrap;\n",
              "      gap: 12px;\n",
              "    }\n",
              "\n",
              "    .colab-df-convert {\n",
              "      background-color: #E8F0FE;\n",
              "      border: none;\n",
              "      border-radius: 50%;\n",
              "      cursor: pointer;\n",
              "      display: none;\n",
              "      fill: #1967D2;\n",
              "      height: 32px;\n",
              "      padding: 0 0 0 0;\n",
              "      width: 32px;\n",
              "    }\n",
              "\n",
              "    .colab-df-convert:hover {\n",
              "      background-color: #E2EBFA;\n",
              "      box-shadow: 0px 1px 2px rgba(60, 64, 67, 0.3), 0px 1px 3px 1px rgba(60, 64, 67, 0.15);\n",
              "      fill: #174EA6;\n",
              "    }\n",
              "\n",
              "    [theme=dark] .colab-df-convert {\n",
              "      background-color: #3B4455;\n",
              "      fill: #D2E3FC;\n",
              "    }\n",
              "\n",
              "    [theme=dark] .colab-df-convert:hover {\n",
              "      background-color: #434B5C;\n",
              "      box-shadow: 0px 1px 3px 1px rgba(0, 0, 0, 0.15);\n",
              "      filter: drop-shadow(0px 1px 2px rgba(0, 0, 0, 0.3));\n",
              "      fill: #FFFFFF;\n",
              "    }\n",
              "  </style>\n",
              "\n",
              "      <script>\n",
              "        const buttonEl =\n",
              "          document.querySelector('#df-dff839c3-79c1-4f04-9917-6c79a6a8b649 button.colab-df-convert');\n",
              "        buttonEl.style.display =\n",
              "          google.colab.kernel.accessAllowed ? 'block' : 'none';\n",
              "\n",
              "        async function convertToInteractive(key) {\n",
              "          const element = document.querySelector('#df-dff839c3-79c1-4f04-9917-6c79a6a8b649');\n",
              "          const dataTable =\n",
              "            await google.colab.kernel.invokeFunction('convertToInteractive',\n",
              "                                                     [key], {});\n",
              "          if (!dataTable) return;\n",
              "\n",
              "          const docLinkHtml = 'Like what you see? Visit the ' +\n",
              "            '<a target=\"_blank\" href=https://colab.research.google.com/notebooks/data_table.ipynb>data table notebook</a>'\n",
              "            + ' to learn more about interactive tables.';\n",
              "          element.innerHTML = '';\n",
              "          dataTable['output_type'] = 'display_data';\n",
              "          await google.colab.output.renderOutput(dataTable, element);\n",
              "          const docLink = document.createElement('div');\n",
              "          docLink.innerHTML = docLinkHtml;\n",
              "          element.appendChild(docLink);\n",
              "        }\n",
              "      </script>\n",
              "    </div>\n",
              "  </div>\n",
              "  "
            ]
          },
          "metadata": {},
          "execution_count": 13
        }
      ],
      "source": [
        "modeling_data.describe().loc[['min', 'mean', 'max']].transpose()"
      ]
    },
    {
      "cell_type": "code",
      "execution_count": 14,
      "metadata": {
        "id": "4xzHzv2rLMWN"
      },
      "outputs": [],
      "source": [
        "num_col = ['LIMIT_BAL', 'AGE', 'BILL_AMT1', 'BILL_AMT2', 'BILL_AMT3', 'BILL_AMT4', 'BILL_AMT5', 'BILL_AMT6', \\\n",
        "           'PAY_AMT1', 'PAY_AMT2', 'PAY_AMT3', 'PAY_AMT4', 'PAY_AMT5', 'PAY_AMT6']\n",
        "\n",
        "cat_col = ['SEX', 'EDUCATION', 'MARRIAGE', 'PAY_0', 'PAY_2', 'PAY_3', 'PAY_4', 'PAY_5', 'PAY_6']\n",
        "\n",
        "num_feature_type = {x: \"real\" for x in num_col}\n",
        "cat_feature_type = {x: \"cat\" for x in cat_col}\n",
        "\n",
        "features_type = dict(**num_feature_type,\n",
        "                     **cat_feature_type,)"
      ]
    },
    {
      "cell_type": "code",
      "execution_count": 15,
      "metadata": {
        "id": "7qjMgsK15ftA"
      },
      "outputs": [],
      "source": [
        "features = cat_col + num_col\n",
        "target = 'default.payment.next.month'"
      ]
    },
    {
      "cell_type": "markdown",
      "metadata": {
        "id": "tKgDX4X6O_bz"
      },
      "source": [
        "### Train/validation/test split\n",
        "After splitting the data into training and testing datasets, the validation dataset is created by splitting the training dataset into two parts.\n"
      ]
    },
    {
      "cell_type": "code",
      "execution_count": 16,
      "metadata": {
        "colab": {
          "base_uri": "https://localhost:8080/"
        },
        "id": "b2-gLhPbTE9t",
        "outputId": "993c0d22-573c-4ef4-81a2-12ac5ee5271f"
      },
      "outputs": [
        {
          "output_type": "stream",
          "name": "stdout",
          "text": [
            "Train set: (18000, 24)\n",
            "Validation set: (6000, 24)\n",
            "Test set: (6000, 24)\n"
          ]
        }
      ],
      "source": [
        "# splitting dataset into full train and test sets\n",
        "X_train_full, X_test, y_train_full, y_test = train_test_split(\n",
        "    modeling_data[features], \n",
        "    modeling_data[target], \n",
        "    test_size=0.2, \n",
        "    random_state=62)\n",
        "\n",
        "# splitting full train into train and validation sets\n",
        "X_train, X_val, y_train, y_val = train_test_split(\n",
        "    X_train_full, \n",
        "    y_train_full, \n",
        "    test_size=0.25, \n",
        "    random_state=62)\n",
        "\n",
        "# join features and the target together\n",
        "train = pd.concat([X_train, y_train], axis=1)\n",
        "test = pd.concat([X_test, y_test], axis=1)\n",
        "validation = pd.concat([X_val, y_val], axis=1)\n",
        "\n",
        "print(f\"Train set: {train.shape}\\nValidation set: {validation.shape}\\nTest set: {test.shape}\")"
      ]
    },
    {
      "cell_type": "markdown",
      "metadata": {
        "id": "XMFZhzyM6713"
      },
      "source": [
        "## Development"
      ]
    },
    {
      "cell_type": "markdown",
      "metadata": {
        "id": "0omZ6bpuVyMJ"
      },
      "source": [
        "Training the model with LightAutoML AutoWoE library"
      ]
    },
    {
      "cell_type": "code",
      "execution_count": 17,
      "metadata": {
        "id": "YcTJs12179RD"
      },
      "outputs": [],
      "source": [
        "auto_woe = AutoWoE(\n",
        "    task='BIN',\n",
        "    interpreted_model=True,\n",
        "    monotonic=False,\n",
        "    max_bin_count=5,\n",
        "    select_type=None,\n",
        "    pearson_th=0.9,\n",
        "    metric_th=.55,\n",
        "    vif_th=10.,\n",
        "    imp_th=0,\n",
        "    th_const=32,\n",
        "    force_single_split=True,\n",
        "    th_nan=0.01,\n",
        "    th_cat=0.005,\n",
        "    woe_diff_th=0.01,\n",
        "    min_bin_size=0.01,\n",
        "    min_bin_mults=(2, 4),\n",
        "    min_gains_to_split=(0.0, 0.5, 1.0),\n",
        "    auc_tol=1e-4,\n",
        "    cat_alpha=100,\n",
        "    cat_merge_to=\"to_woe_0\",\n",
        "    nan_merge_to=\"to_woe_0\",\n",
        "    oof_woe=True,\n",
        "    n_folds=6,\n",
        "    n_jobs=4,\n",
        "    l1_grid_size=20,\n",
        "    l1_exp_scale=6,\n",
        "    imp_type=\"feature_imp\",\n",
        "    regularized_refit=False,\n",
        "    p_val=0.05,\n",
        "    debug=False,\n",
        "    verbose=0)\n",
        "\n",
        "auto_woe = ReportDeco(auto_woe)"
      ]
    },
    {
      "cell_type": "code",
      "execution_count": 18,
      "metadata": {
        "colab": {
          "base_uri": "https://localhost:8080/"
        },
        "id": "Gkcufa6-8O0k",
        "outputId": "67daaa52-d6c0-4bbb-855f-f1abd67e83fc"
      },
      "outputs": [
        {
          "output_type": "stream",
          "name": "stdout",
          "text": [
            "[LightGBM] [Info] Number of positive: 3217, number of negative: 11183\n",
            "[LightGBM] [Warning] Auto-choosing row-wise multi-threading, the overhead of testing was 0.001041 seconds.\n",
            "You can set `force_row_wise=true` to remove the overhead.\n",
            "And if memory is not enough, you can set `force_col_wise=true`.\n",
            "[LightGBM] [Info] Total Bins 3260\n",
            "[LightGBM] [Info] Number of data points in the train set: 14400, number of used features: 23\n",
            "[LightGBM] [Info] [binary:BoostFromScore]: pavg=0.223403 -> initscore=-1.245946\n",
            "[LightGBM] [Info] Start training from score -1.245946\n"
          ]
        }
      ],
      "source": [
        "# training the model\n",
        "auto_woe.fit(\n",
        "    train[features + [target]], \n",
        "    target_name=str(target),\n",
        "    group_kf=None,\n",
        "    validation=test)"
      ]
    },
    {
      "cell_type": "code",
      "execution_count": 19,
      "metadata": {
        "id": "LuT4BGw7Shxa"
      },
      "outputs": [],
      "source": [
        "# saving the serialized model\n",
        "joblib.dump(auto_woe.model, 'autowoe_model.pkl')\n",
        "model = joblib.load('autowoe_model.pkl')"
      ]
    },
    {
      "cell_type": "code",
      "execution_count": 20,
      "metadata": {
        "colab": {
          "base_uri": "https://localhost:8080/"
        },
        "id": "O6yJVLVsAfla",
        "outputId": "88fcb326-525d-475c-ea28-15be45a31a3a"
      },
      "outputs": [
        {
          "output_type": "stream",
          "name": "stdout",
          "text": [
            "Train Gini : 53.95%\n",
            "Test Gini : 56.13%\n"
          ]
        }
      ],
      "source": [
        "# testing discriminatory power\n",
        "train_predictions = model.predict_proba(train)\n",
        "print(f\"Train Gini : {roc_auc_score(train[target], train_predictions)*2-1:.2%}\")\n",
        "\n",
        "test_predictions = model.predict_proba(test)\n",
        "print(f\"Test Gini : {roc_auc_score(test[target], test_predictions)*2-1:.2%}\")"
      ]
    },
    {
      "cell_type": "code",
      "execution_count": 21,
      "metadata": {
        "colab": {
          "base_uri": "https://localhost:8080/"
        },
        "id": "ZWUszIpKB1sI",
        "outputId": "47a2e2c6-2be6-48a4-92ca-f165640685cd"
      },
      "outputs": [
        {
          "output_type": "stream",
          "name": "stdout",
          "text": [
            "SELECT\n",
            "  1 / (1 + EXP(-(\n",
            "    -1.234\n",
            "    -0.768*WOE_TAB.PAY_0\n",
            "    -0.22*WOE_TAB.PAY_3\n",
            "    -0.422*WOE_TAB.LIMIT_BAL\n",
            "    -0.215*WOE_TAB.PAY_AMT1\n",
            "    -0.234*WOE_TAB.PAY_5\n",
            "    -0.282*WOE_TAB.PAY_AMT2\n",
            "    -0.326*WOE_TAB.PAY_AMT3\n",
            "    -0.219*WOE_TAB.PAY_6\n",
            "  ))) as PROB,\n",
            "  WOE_TAB.*\n",
            "FROM \n",
            "    (SELECT\n",
            "    CASE\n",
            "      WHEN (PAY_0 IS NULL OR PAY_0 = 'NaN') THEN 0\n",
            "      WHEN PAY_0 <= -1.5 THEN 0.596\n",
            "      WHEN PAY_0 <= -0.0 THEN 0.299\n",
            "      WHEN PAY_0 <= 0.0 THEN 0.666\n",
            "      WHEN PAY_0 <= 1.5 THEN -0.586\n",
            "      ELSE -2.082\n",
            "    END AS PAY_0,\n",
            "    CASE\n",
            "      WHEN (PAY_3 IS NULL OR PAY_3 = 'NaN') THEN 0\n",
            "      WHEN PAY_3 <= -1.5 THEN 0.246\n",
            "      WHEN PAY_3 <= -0.0 THEN 0.395\n",
            "      WHEN PAY_3 <= 0.0 THEN 0.297\n",
            "      WHEN PAY_3 <= 2.5 THEN -1.331\n",
            "      ELSE -1.661\n",
            "    END AS PAY_3,\n",
            "    CASE\n",
            "      WHEN (LIMIT_BAL IS NULL OR LIMIT_BAL = 'NaN') THEN 0\n",
            "      WHEN LIMIT_BAL <= 45000.0 THEN -0.714\n",
            "      WHEN LIMIT_BAL <= 125000.0 THEN -0.187\n",
            "      WHEN LIMIT_BAL <= 145000.0 THEN 0.012\n",
            "      WHEN LIMIT_BAL <= 265000.0 THEN 0.335\n",
            "      ELSE 0.566\n",
            "    END AS LIMIT_BAL,\n",
            "    CASE\n",
            "      WHEN (PAY_AMT1 IS NULL OR PAY_AMT1 = 'NaN') THEN 0\n",
            "      WHEN PAY_AMT1 <= 22.5 THEN -0.655\n",
            "      WHEN PAY_AMT1 <= 2000.5 THEN -0.047\n",
            "      WHEN PAY_AMT1 <= 4801.5 THEN 0.075\n",
            "      WHEN PAY_AMT1 <= 22790.5 THEN 0.488\n",
            "      ELSE 1.153\n",
            "    END AS PAY_AMT1,\n",
            "    CASE\n",
            "      WHEN (PAY_5 IS NULL OR PAY_5 = 'NaN') THEN 0\n",
            "      WHEN PAY_5 <= -1.5 THEN 0.139\n",
            "      WHEN PAY_5 <= -0.0 THEN 0.38\n",
            "      WHEN PAY_5 <= 0.0 THEN 0.199\n",
            "      WHEN PAY_5 <= 2.5 THEN -1.409\n",
            "      ELSE -1.814\n",
            "    END AS PAY_5,\n",
            "    CASE\n",
            "      WHEN (PAY_AMT2 IS NULL OR PAY_AMT2 = 'NaN') THEN 0\n",
            "      WHEN PAY_AMT2 <= 72.5 THEN -0.552\n",
            "      WHEN PAY_AMT2 <= 1635.5 THEN -0.141\n",
            "      WHEN PAY_AMT2 <= 4975.5 THEN 0.058\n",
            "      WHEN PAY_AMT2 <= 15001.0 THEN 0.443\n",
            "      ELSE 1.217\n",
            "    END AS PAY_AMT2,\n",
            "    CASE\n",
            "      WHEN (PAY_AMT3 IS NULL OR PAY_AMT3 = 'NaN') THEN 0\n",
            "      WHEN PAY_AMT3 <= 0.0 THEN -0.516\n",
            "      WHEN PAY_AMT3 <= 2900.5 THEN -0.043\n",
            "      WHEN PAY_AMT3 <= 3900.5 THEN 0.195\n",
            "      WHEN PAY_AMT3 <= 12014.5 THEN 0.374\n",
            "      ELSE 0.829\n",
            "    END AS PAY_AMT3,\n",
            "    CASE\n",
            "      WHEN (PAY_6 IS NULL OR PAY_6 = 'NaN') THEN 0\n",
            "      WHEN PAY_6 <= -1.5 THEN 0.123\n",
            "      WHEN PAY_6 <= 0.0 THEN 0.226\n",
            "      WHEN PAY_6 <= 2.5 THEN -1.266\n",
            "      ELSE -1.803\n",
            "    END AS PAY_6\n",
            "  FROM table) as WOE_TAB\n"
          ]
        }
      ],
      "source": [
        "# SQL-like output\n",
        "print(model.get_sql_inference_query('table'))"
      ]
    },
    {
      "cell_type": "code",
      "execution_count": 22,
      "metadata": {
        "scrolled": true,
        "colab": {
          "base_uri": "https://localhost:8080/"
        },
        "id": "N2e7y9PYVyMK",
        "outputId": "47527a0d-2676-408f-be92-af30ac796bc0"
      },
      "outputs": [
        {
          "output_type": "execute_result",
          "data": {
            "text/plain": [
              "('-inf', '-1.50')     0.595837\n",
              "('-1.50', '-0.00')    0.299413\n",
              "('-0.00', '0.00')     0.666357\n",
              "('0.00', '1.50')     -0.586369\n",
              "('1.50', 'inf')      -2.082435\n",
              "__NaN_0__             0.000000\n",
              "dtype: float64"
            ]
          },
          "metadata": {},
          "execution_count": 22
        }
      ],
      "source": [
        "model.get_woe('PAY_0')"
      ]
    },
    {
      "cell_type": "markdown",
      "metadata": {
        "id": "-lp0rq9bPcL5"
      },
      "source": [
        "## Validation\n",
        "We will assess the following dimensions of model quality:\n",
        "\n",
        "* **Model choice:** is there a simpler useful alternative that delivers similar predictive performance?\n",
        "* **Model parsimony:** does the model include relevant features which are meaningful?\n",
        "* **Model performance:** are the model's estimates stable and reliable?\n"
      ]
    },
    {
      "cell_type": "code",
      "execution_count": 23,
      "metadata": {
        "id": "HdHuyUjH_zkO"
      },
      "outputs": [],
      "source": [
        "from sklearn.linear_model import LogisticRegression\n",
        "from sklearn.compose import ColumnTransformer\n",
        "from sklearn.compose import make_column_transformer\n",
        "from sklearn.preprocessing import OneHotEncoder\n",
        "from sklearn.pipeline import make_pipeline\n",
        "from sklearn.model_selection import cross_val_score\n",
        "from sklearn import model_selection\n",
        "from sklearn.tree import DecisionTreeClassifier\n",
        "from sklearn import tree\n",
        "import matplotlib.pyplot as plt\n",
        "from sklearn.tree import export_graphviz\n",
        "import graphviz\n",
        "import seaborn as sns"
      ]
    },
    {
      "cell_type": "code",
      "execution_count": 24,
      "metadata": {
        "colab": {
          "base_uri": "https://localhost:8080/"
        },
        "id": "nzaDM7HjSZ1Q",
        "outputId": "c1f679d5-081d-4c78-bd43-b476b4a6bfa8"
      },
      "outputs": [
        {
          "output_type": "stream",
          "name": "stdout",
          "text": [
            "Final list of model features : ['PAY_0', 'PAY_3', 'LIMIT_BAL', 'PAY_AMT1', 'PAY_5', 'PAY_AMT2', 'PAY_AMT3', 'PAY_6']\n"
          ]
        }
      ],
      "source": [
        "# Final features\n",
        "final_features = list(model.features_fit.index.values)\n",
        "print(f\"Final list of model features : {final_features}\")"
      ]
    },
    {
      "cell_type": "markdown",
      "metadata": {
        "id": "KYVVYt7So7Ol"
      },
      "source": [
        "### Development and validation data\n",
        "We recreate the full development set (train + test) to use it for validation tests"
      ]
    },
    {
      "cell_type": "code",
      "execution_count": 25,
      "metadata": {
        "colab": {
          "base_uri": "https://localhost:8080/"
        },
        "id": "LDWHrJneo-PY",
        "outputId": "281f9550-82a4-4e14-ff42-0f8191036c0c"
      },
      "outputs": [
        {
          "output_type": "stream",
          "name": "stdout",
          "text": [
            "Development set : (24000, 24)\n",
            "Validation set : (6000, 24)\n"
          ]
        }
      ],
      "source": [
        "# stacking train and test data together into development data\n",
        "development = pd.concat([train, test]) \n",
        "print(f\"Development set : {development.shape}\\nValidation set : {validation.shape}\")"
      ]
    },
    {
      "cell_type": "markdown",
      "metadata": {
        "id": "8oV4wpQnkn6d"
      },
      "source": [
        "### Model choice"
      ]
    },
    {
      "cell_type": "markdown",
      "metadata": {
        "id": "1elP15maTfWG"
      },
      "source": [
        "We challenge the modeling choice by running two challenger models with higher interpretability to see if we are able to achieve similar discriminatory power to the model being validated"
      ]
    },
    {
      "cell_type": "code",
      "execution_count": 26,
      "metadata": {
        "id": "fIGgxI1s_JFh"
      },
      "outputs": [],
      "source": [
        "def evaluate_predictions(\n",
        "        clf, X_train, y_train,\n",
        "        X_test, y_test, cv_scoring=False):\n",
        "  \n",
        "  \"\"\"\n",
        "  Evaluate predictions of the model\n",
        "  Metric: Gini coefficient\n",
        "  \"\"\"\n",
        "  \n",
        "  train_predictions = clf.predict_proba(X_train)[:, 1]\n",
        "  test_predictions = clf.predict_proba(X_test)[:, 1]\n",
        "\n",
        "  train_gini = roc_auc_score(y_train, train_predictions)*2-1\n",
        "  test_gini = roc_auc_score(y_test, test_predictions)*2-1\n",
        "\n",
        "  if cv_scoring:\n",
        "  # allow for cross-validation\n",
        "    X = pd.concat([X_train, X_test])\n",
        "    y = pd.concat([y_train, y_test])\n",
        "\n",
        "    cv_scores = cross_val_score(clf, X, y, cv=5, scoring='roc_auc')*2-1\n",
        "\n",
        "  # saving the results\n",
        "  results_dict = {'Train Gini coefficient': f\"{train_gini:.2%}\", \n",
        "                  'Test Gini coefficient': f\"{test_gini:.2%}\", \n",
        "                  'CV Gini coefficient': f\"{cv_scores.mean():.2%}\",\n",
        "                  }\n",
        "\n",
        "  # printing the scores\n",
        "  for key in results_dict:\n",
        "    print (f\"{key}: {results_dict[key]}\")\n",
        "\n",
        "  return results_dict"
      ]
    },
    {
      "cell_type": "code",
      "execution_count": 27,
      "metadata": {
        "id": "6RAp8s38_XCi"
      },
      "outputs": [],
      "source": [
        "# stratified K-Fold\n",
        "skf = model_selection.StratifiedKFold(\n",
        "    n_splits=10, \n",
        "    shuffle=True, \n",
        "    random_state=72)"
      ]
    },
    {
      "cell_type": "markdown",
      "metadata": {
        "id": "zOMFlpvFb2yX"
      },
      "source": [
        "#### Baseline 1: Logistic regression"
      ]
    },
    {
      "cell_type": "code",
      "execution_count": 28,
      "metadata": {
        "colab": {
          "base_uri": "https://localhost:8080/"
        },
        "id": "q2KBkNBqYWDV",
        "outputId": "92d9c536-b1e7-466a-db3d-ff519163f48b"
      },
      "outputs": [
        {
          "output_type": "stream",
          "name": "stdout",
          "text": [
            "Numeric features : ['LIMIT_BAL', 'PAY_AMT2', 'PAY_AMT1', 'PAY_AMT3']\n",
            "Categorical features : ['PAY_5', 'PAY_0', 'PAY_6', 'PAY_3']\n"
          ]
        }
      ],
      "source": [
        "# selecting numerical and categorical features from the final features\n",
        "num = list(set(final_features) - set(cat_col))\n",
        "cat = list(set(final_features) - set(num_col))\n",
        "print(f\"Numeric features : {num}\\nCategorical features : {cat}\")"
      ]
    },
    {
      "cell_type": "code",
      "execution_count": 29,
      "metadata": {
        "colab": {
          "base_uri": "https://localhost:8080/"
        },
        "id": "6G9cc1_myZQg",
        "outputId": "96e036b8-7304-4b71-e4f3-48c56d0c00bc"
      },
      "outputs": [
        {
          "output_type": "stream",
          "name": "stdout",
          "text": [
            "Train Gini coefficient: 52.77%\n",
            "Test Gini coefficient: 54.42%\n",
            "CV Gini coefficient: 52.85%\n"
          ]
        },
        {
          "output_type": "execute_result",
          "data": {
            "text/plain": [
              "{'Train Gini coefficient': '52.77%',\n",
              " 'Test Gini coefficient': '54.42%',\n",
              " 'CV Gini coefficient': '52.85%'}"
            ]
          },
          "metadata": {},
          "execution_count": 29
        }
      ],
      "source": [
        "# mirroring statsmodels logistic regression\n",
        "params = {\"fit_intercept\": True, \n",
        "          \"penalty\": \"none\",\n",
        "          \"random_state\": 72,\n",
        "          \"solver\": \"newton-cg\",         \n",
        "          }\n",
        "\n",
        "# one-hot encoding categorical features\n",
        "transformer = ColumnTransformer(\n",
        "    transformers=[('OneHotEncoder', OneHotEncoder(drop='first', handle_unknown='ignore'), cat)], \n",
        "    remainder='passthrough', \n",
        "    verbose_feature_names_out=False)\n",
        "\n",
        "# creating a pipeline\n",
        "sk_lr_model = make_pipeline(\n",
        "    transformer,\n",
        "    LogisticRegression(**params))\n",
        "\n",
        "# training the model\n",
        "sk_lr_model.fit(train[final_features], train[target])\n",
        "\n",
        "# evaluating the model\n",
        "evaluate_predictions(\n",
        "    sk_lr_model, \n",
        "    train[final_features], \n",
        "    train[target], \n",
        "    test[final_features], \n",
        "    test[target], \n",
        "    cv_scoring=True)"
      ]
    },
    {
      "cell_type": "markdown",
      "metadata": {
        "id": "-HLR0Oikb59D"
      },
      "source": [
        "#### Baseline 2: Decision Tree"
      ]
    },
    {
      "cell_type": "code",
      "execution_count": 30,
      "metadata": {
        "id": "tp0IsFbM544G"
      },
      "outputs": [],
      "source": [
        "def out_of_fold_prediction(\n",
        "        clf, X, y, \n",
        "        folds, scale=False):\n",
        "    \n",
        "    prediction = y.copy()\n",
        "    \n",
        "    for i, (train_idx, test_idx) in enumerate(folds):\n",
        "        \n",
        "        X_train, X_test = X.iloc[train_idx, :], X.iloc[test_idx,:]\n",
        "        y_train, y_test = y.iloc[train_idx], y.iloc[test_idx]\n",
        "\n",
        "        clf.fit(X_train, y_train)\n",
        "        \n",
        "        prediction.iloc[test_idx] = clf.predict_proba(X_test)[:, 1]\n",
        "        \n",
        "    return(prediction)"
      ]
    },
    {
      "cell_type": "code",
      "execution_count": 31,
      "metadata": {
        "colab": {
          "base_uri": "https://localhost:8080/"
        },
        "id": "188HeqBEUXwP",
        "outputId": "4db094d8-7736-47fd-d1c3-ba6c91cbcc2e"
      },
      "outputs": [
        {
          "output_type": "stream",
          "name": "stdout",
          "text": [
            "   Tree Depth    Gini\n",
            "0           1  27.16%\n",
            "1           3  45.57%\n",
            "2           5  49.12%\n",
            "3           6  49.59%\n",
            "4           8  49.72%\n",
            "5          10  49.79%\n"
          ]
        }
      ],
      "source": [
        "scores = []\n",
        "depths = [1, 3, 5, 6, 8, 10]\n",
        "\n",
        "# training the model\n",
        "for depth in depths:\n",
        "\n",
        "    pred = out_of_fold_prediction(\n",
        "        DecisionTreeClassifier(\n",
        "            criterion='entropy',\n",
        "            max_depth=depth,\n",
        "#             class_weight='balanced',\n",
        "            min_weight_fraction_leaf=0.05, \n",
        "            random_state=72),\n",
        "        train[final_features], train[target], \n",
        "        skf.split(train[final_features], train[target]))\n",
        "\n",
        "    gini = roc_auc_score(train[target], pred)*2-1\n",
        "\n",
        "    scores.append(f\"{gini:.2%}\")\n",
        "\n",
        "elements = list(zip(depths, scores))\n",
        "model_outcomes = pd.DataFrame(elements, columns=['Tree Depth', 'Gini'])\n",
        "\n",
        "print(model_outcomes)"
      ]
    },
    {
      "cell_type": "code",
      "execution_count": 32,
      "metadata": {
        "colab": {
          "base_uri": "https://localhost:8080/"
        },
        "id": "Z1rsjtCO-4Jw",
        "outputId": "a10e7546-d624-4e03-dcb4-addd4e96d078"
      },
      "outputs": [
        {
          "output_type": "stream",
          "name": "stdout",
          "text": [
            "Train Gini coefficient: 51.06%\n",
            "Test Gini coefficient: 52.52%\n",
            "CV Gini coefficient: 50.81%\n"
          ]
        },
        {
          "output_type": "execute_result",
          "data": {
            "text/plain": [
              "{'Train Gini coefficient': '51.06%',\n",
              " 'Test Gini coefficient': '52.52%',\n",
              " 'CV Gini coefficient': '50.81%'}"
            ]
          },
          "metadata": {},
          "execution_count": 32
        }
      ],
      "source": [
        "# retraining based on cross-validated parameters\n",
        "sk_dt_model = DecisionTreeClassifier(max_depth=6, min_weight_fraction_leaf=0.05)\n",
        "sk_dt_model.fit(train[final_features], train[target])\n",
        "\n",
        "# evaluating the model\n",
        "evaluate_predictions(\n",
        "    sk_dt_model,\n",
        "    train[final_features],\n",
        "    train[target],\n",
        "    test[final_features],\n",
        "    test[target],\n",
        "    cv_scoring=True)"
      ]
    },
    {
      "cell_type": "code",
      "execution_count": 33,
      "metadata": {
        "colab": {
          "base_uri": "https://localhost:8080/",
          "height": 0
        },
        "id": "XezUo4KCUDNo",
        "outputId": "44682d37-c756-4b9c-ea6e-2b18624a2ee6"
      },
      "outputs": [
        {
          "output_type": "display_data",
          "data": {
            "text/plain": [
              "<Figure size 2400x1800 with 1 Axes>"
            ],
            "image/png": "[encoded data removed]"
          },
          "metadata": {
            "needs_background": "light"
          }
        }
      ],
      "source": [
        "feat_labels = train[final_features].columns\n",
        "importances = sk_dt_model.feature_importances_\n",
        "indices = np.argsort(importances)[::-1]\n",
        "\n",
        "# plot feature importance\n",
        "f, ax = plt.subplots(figsize=(8, 6), dpi=300)\n",
        "plt.title(\"Feature Importance - Decision Tree\")\n",
        "sns.set_color_codes(\"pastel\")\n",
        "sns.barplot(y=[feat_labels[i] for i in indices], \n",
        "            x=importances[indices], \n",
        "            label=\"Total\", color=\"b\")\n",
        "ax.set(ylabel=\"Feature\", xlabel=\"Importance\")\n",
        "sns.despine(left=True, bottom=True)\n",
        "plt.savefig('dt_importances.png')"
      ]
    },
    {
      "cell_type": "code",
      "execution_count": 34,
      "metadata": {
        "colab": {
          "base_uri": "https://localhost:8080/",
          "height": 0
        },
        "id": "G8t4JabwYkNp",
        "outputId": "dde9aedf-2ff9-4b44-962e-efa111f61812"
      },
      "outputs": [
        {
          "output_type": "stream",
          "name": "stdout",
          "text": [
            "[0 1]\n"
          ]
        },
        {
          "output_type": "execute_result",
          "data": {
            "text/plain": [
              "<graphviz.files.Source at 0x7fe187207ed0>"
            ],
            "image/svg+xml": "<?xml version=\"1.0\" encoding=\"UTF-8\" standalone=\"no\"?>\n<!DOCTYPE svg PUBLIC \"-//W3C//DTD SVG 1.1//EN\"\n \"http://www.w3.org/Graphics/SVG/1.1/DTD/svg11.dtd\">\n<!-- Generated by graphviz version 2.40.1 (20161225.0304)\n -->\n<!-- Title: Tree Pages: 1 -->\n<svg width=\"1362pt\" height=\"601pt\"\n viewBox=\"0.00 0.00 1362.00 601.00\" xmlns=\"http://www.w3.org/2000/svg\" xmlns:xlink=\"http://www.w3.org/1999/xlink\">\n<g id=\"graph0\" class=\"graph\" transform=\"scale(1 1) rotate(0) translate(4 597)\">\n<title>Tree</title>\n<polygon fill=\"#ffffff\" stroke=\"transparent\" points=\"-4,4 -4,-597 1358,-597 1358,4 -4,4\"/>\n<!-- 0 -->\n<g id=\"node1\" class=\"node\">\n<title>0</title>\n<path fill=\"#eca572\" stroke=\"#000000\" d=\"M144,-173.5C144,-173.5 12,-173.5 12,-173.5 6,-173.5 0,-167.5 0,-161.5 0,-161.5 0,-117.5 0,-117.5 0,-111.5 6,-105.5 12,-105.5 12,-105.5 144,-105.5 144,-105.5 150,-105.5 156,-111.5 156,-117.5 156,-117.5 156,-161.5 156,-161.5 156,-167.5 150,-173.5 144,-173.5\"/>\n<text text-anchor=\"middle\" x=\"78\" y=\"-158.3\" font-family=\"Helvetica,sans-Serif\" font-size=\"14.00\" fill=\"#000000\">PAY_0 &lt;= 1.5</text>\n<text text-anchor=\"middle\" x=\"78\" y=\"-143.3\" font-family=\"Helvetica,sans-Serif\" font-size=\"14.00\" fill=\"#000000\">samples = 100.0%</text>\n<text text-anchor=\"middle\" x=\"78\" y=\"-128.3\" font-family=\"Helvetica,sans-Serif\" font-size=\"14.00\" fill=\"#000000\">value = [0.776, 0.224]</text>\n<text text-anchor=\"middle\" x=\"78\" y=\"-113.3\" font-family=\"Helvetica,sans-Serif\" font-size=\"14.00\" fill=\"#000000\">class = Good</text>\n</g>\n<!-- 1 -->\n<g id=\"node2\" class=\"node\">\n<title>1</title>\n<path fill=\"#ea9b61\" stroke=\"#000000\" d=\"M338.5,-216.5C338.5,-216.5 206.5,-216.5 206.5,-216.5 200.5,-216.5 194.5,-210.5 194.5,-204.5 194.5,-204.5 194.5,-160.5 194.5,-160.5 194.5,-154.5 200.5,-148.5 206.5,-148.5 206.5,-148.5 338.5,-148.5 338.5,-148.5 344.5,-148.5 350.5,-154.5 350.5,-160.5 350.5,-160.5 350.5,-204.5 350.5,-204.5 350.5,-210.5 344.5,-216.5 338.5,-216.5\"/>\n<text text-anchor=\"middle\" x=\"272.5\" y=\"-201.3\" font-family=\"Helvetica,sans-Serif\" font-size=\"14.00\" fill=\"#000000\">PAY_0 &lt;= 0.5</text>\n<text text-anchor=\"middle\" x=\"272.5\" y=\"-186.3\" font-family=\"Helvetica,sans-Serif\" font-size=\"14.00\" fill=\"#000000\">samples = 89.6%</text>\n<text text-anchor=\"middle\" x=\"272.5\" y=\"-171.3\" font-family=\"Helvetica,sans-Serif\" font-size=\"14.00\" fill=\"#000000\">value = [0.831, 0.169]</text>\n<text text-anchor=\"middle\" x=\"272.5\" y=\"-156.3\" font-family=\"Helvetica,sans-Serif\" font-size=\"14.00\" fill=\"#000000\">class = Good</text>\n</g>\n<!-- 0&#45;&gt;1 -->\n<g id=\"edge1\" class=\"edge\">\n<title>0&#45;&gt;1</title>\n<path fill=\"none\" stroke=\"#000000\" d=\"M156.2699,-156.8039C165.5929,-158.865 175.1581,-160.9797 184.6044,-163.0681\"/>\n<polygon fill=\"#000000\" stroke=\"#000000\" points=\"183.8706,-166.4903 194.3904,-165.2315 185.3817,-159.6553 183.8706,-166.4903\"/>\n<text text-anchor=\"middle\" x=\"173.3135\" y=\"-174.9764\" font-family=\"Helvetica,sans-Serif\" font-size=\"14.00\" fill=\"#000000\">True</text>\n</g>\n<!-- 22 -->\n<g id=\"node23\" class=\"node\">\n<title>22</title>\n<path fill=\"#8fc7f0\" stroke=\"#000000\" d=\"M341,-130.5C341,-130.5 204,-130.5 204,-130.5 198,-130.5 192,-124.5 192,-118.5 192,-118.5 192,-74.5 192,-74.5 192,-68.5 198,-62.5 204,-62.5 204,-62.5 341,-62.5 341,-62.5 347,-62.5 353,-68.5 353,-74.5 353,-74.5 353,-118.5 353,-118.5 353,-124.5 347,-130.5 341,-130.5\"/>\n<text text-anchor=\"middle\" x=\"272.5\" y=\"-115.3\" font-family=\"Helvetica,sans-Serif\" font-size=\"14.00\" fill=\"#000000\">PAY_AMT1 &lt;= 1889.5</text>\n<text text-anchor=\"middle\" x=\"272.5\" y=\"-100.3\" font-family=\"Helvetica,sans-Serif\" font-size=\"14.00\" fill=\"#000000\">samples = 10.4%</text>\n<text text-anchor=\"middle\" x=\"272.5\" y=\"-85.3\" font-family=\"Helvetica,sans-Serif\" font-size=\"14.00\" fill=\"#000000\">value = [0.302, 0.698]</text>\n<text text-anchor=\"middle\" x=\"272.5\" y=\"-70.3\" font-family=\"Helvetica,sans-Serif\" font-size=\"14.00\" fill=\"#000000\">class = Bad</text>\n</g>\n<!-- 0&#45;&gt;22 -->\n<g id=\"edge22\" class=\"edge\">\n<title>0&#45;&gt;22</title>\n<path fill=\"none\" stroke=\"#000000\" d=\"M156.2699,-122.1961C164.6915,-120.3343 173.3108,-118.4287 181.8615,-116.5383\"/>\n<polygon fill=\"#000000\" stroke=\"#000000\" points=\"182.8433,-119.9059 191.852,-114.3296 181.3322,-113.0709 182.8433,-119.9059\"/>\n<text text-anchor=\"middle\" x=\"170.7751\" y=\"-97.1848\" font-family=\"Helvetica,sans-Serif\" font-size=\"14.00\" fill=\"#000000\">False</text>\n</g>\n<!-- 2 -->\n<g id=\"node3\" class=\"node\">\n<title>2</title>\n<path fill=\"#e9965a\" stroke=\"#000000\" d=\"M538,-300.5C538,-300.5 401,-300.5 401,-300.5 395,-300.5 389,-294.5 389,-288.5 389,-288.5 389,-244.5 389,-244.5 389,-238.5 395,-232.5 401,-232.5 401,-232.5 538,-232.5 538,-232.5 544,-232.5 550,-238.5 550,-244.5 550,-244.5 550,-288.5 550,-288.5 550,-294.5 544,-300.5 538,-300.5\"/>\n<text text-anchor=\"middle\" x=\"469.5\" y=\"-285.3\" font-family=\"Helvetica,sans-Serif\" font-size=\"14.00\" fill=\"#000000\">PAY_AMT2 &lt;= 1500.5</text>\n<text text-anchor=\"middle\" x=\"469.5\" y=\"-270.3\" font-family=\"Helvetica,sans-Serif\" font-size=\"14.00\" fill=\"#000000\">samples = 77.4%</text>\n<text text-anchor=\"middle\" x=\"469.5\" y=\"-255.3\" font-family=\"Helvetica,sans-Serif\" font-size=\"14.00\" fill=\"#000000\">value = [0.859, 0.141]</text>\n<text text-anchor=\"middle\" x=\"469.5\" y=\"-240.3\" font-family=\"Helvetica,sans-Serif\" font-size=\"14.00\" fill=\"#000000\">class = Good</text>\n</g>\n<!-- 1&#45;&gt;2 -->\n<g id=\"edge2\" class=\"edge\">\n<title>1&#45;&gt;2</title>\n<path fill=\"none\" stroke=\"#000000\" d=\"M350.6426,-215.8197C360.33,-219.9504 370.2922,-224.1982 380.1318,-228.3938\"/>\n<polygon fill=\"#000000\" stroke=\"#000000\" points=\"378.9436,-231.692 389.5151,-232.3948 381.6893,-225.2529 378.9436,-231.692\"/>\n</g>\n<!-- 19 -->\n<g id=\"node20\" class=\"node\">\n<title>19</title>\n<path fill=\"#f2c29f\" stroke=\"#000000\" d=\"M535.5,-214.5C535.5,-214.5 403.5,-214.5 403.5,-214.5 397.5,-214.5 391.5,-208.5 391.5,-202.5 391.5,-202.5 391.5,-158.5 391.5,-158.5 391.5,-152.5 397.5,-146.5 403.5,-146.5 403.5,-146.5 535.5,-146.5 535.5,-146.5 541.5,-146.5 547.5,-152.5 547.5,-158.5 547.5,-158.5 547.5,-202.5 547.5,-202.5 547.5,-208.5 541.5,-214.5 535.5,-214.5\"/>\n<text text-anchor=\"middle\" x=\"469.5\" y=\"-199.3\" font-family=\"Helvetica,sans-Serif\" font-size=\"14.00\" fill=\"#000000\">PAY_3 &lt;= &#45;0.5</text>\n<text text-anchor=\"middle\" x=\"469.5\" y=\"-184.3\" font-family=\"Helvetica,sans-Serif\" font-size=\"14.00\" fill=\"#000000\">samples = 12.3%</text>\n<text text-anchor=\"middle\" x=\"469.5\" y=\"-169.3\" font-family=\"Helvetica,sans-Serif\" font-size=\"14.00\" fill=\"#000000\">value = [0.659, 0.341]</text>\n<text text-anchor=\"middle\" x=\"469.5\" y=\"-154.3\" font-family=\"Helvetica,sans-Serif\" font-size=\"14.00\" fill=\"#000000\">class = Good</text>\n</g>\n<!-- 1&#45;&gt;19 -->\n<g id=\"edge19\" class=\"edge\">\n<title>1&#45;&gt;19</title>\n<path fill=\"none\" stroke=\"#000000\" d=\"M350.6426,-181.7067C360.7136,-181.6044 371.0815,-181.4992 381.2999,-181.3954\"/>\n<polygon fill=\"#000000\" stroke=\"#000000\" points=\"381.488,-184.8938 391.452,-181.2924 381.4169,-177.8942 381.488,-184.8938\"/>\n</g>\n<!-- 3 -->\n<g id=\"node4\" class=\"node\">\n<title>3</title>\n<path fill=\"#eca16b\" stroke=\"#000000\" d=\"M748,-404.5C748,-404.5 598,-404.5 598,-404.5 592,-404.5 586,-398.5 586,-392.5 586,-392.5 586,-348.5 586,-348.5 586,-342.5 592,-336.5 598,-336.5 598,-336.5 748,-336.5 748,-336.5 754,-336.5 760,-342.5 760,-348.5 760,-348.5 760,-392.5 760,-392.5 760,-398.5 754,-404.5 748,-404.5\"/>\n<text text-anchor=\"middle\" x=\"673\" y=\"-389.3\" font-family=\"Helvetica,sans-Serif\" font-size=\"14.00\" fill=\"#000000\">LIMIT_BAL &lt;= 125000.0</text>\n<text text-anchor=\"middle\" x=\"673\" y=\"-374.3\" font-family=\"Helvetica,sans-Serif\" font-size=\"14.00\" fill=\"#000000\">samples = 26.4%</text>\n<text text-anchor=\"middle\" x=\"673\" y=\"-359.3\" font-family=\"Helvetica,sans-Serif\" font-size=\"14.00\" fill=\"#000000\">value = [0.798, 0.202]</text>\n<text text-anchor=\"middle\" x=\"673\" y=\"-344.3\" font-family=\"Helvetica,sans-Serif\" font-size=\"14.00\" fill=\"#000000\">class = Good</text>\n</g>\n<!-- 2&#45;&gt;3 -->\n<g id=\"edge3\" class=\"edge\">\n<title>2&#45;&gt;3</title>\n<path fill=\"none\" stroke=\"#000000\" d=\"M536.1335,-300.5535C555.6346,-310.5197 577.0973,-321.4883 597.127,-331.7246\"/>\n<polygon fill=\"#000000\" stroke=\"#000000\" points=\"595.7195,-334.9358 606.2168,-336.37 598.905,-328.7026 595.7195,-334.9358\"/>\n</g>\n<!-- 10 -->\n<g id=\"node11\" class=\"node\">\n<title>10</title>\n<path fill=\"#e89151\" stroke=\"#000000\" d=\"M744,-298.5C744,-298.5 602,-298.5 602,-298.5 596,-298.5 590,-292.5 590,-286.5 590,-286.5 590,-242.5 590,-242.5 590,-236.5 596,-230.5 602,-230.5 602,-230.5 744,-230.5 744,-230.5 750,-230.5 756,-236.5 756,-242.5 756,-242.5 756,-286.5 756,-286.5 756,-292.5 750,-298.5 744,-298.5\"/>\n<text text-anchor=\"middle\" x=\"673\" y=\"-283.3\" font-family=\"Helvetica,sans-Serif\" font-size=\"14.00\" fill=\"#000000\">LIMIT_BAL &lt;= 75000.0</text>\n<text text-anchor=\"middle\" x=\"673\" y=\"-268.3\" font-family=\"Helvetica,sans-Serif\" font-size=\"14.00\" fill=\"#000000\">samples = 51.0%</text>\n<text text-anchor=\"middle\" x=\"673\" y=\"-253.3\" font-family=\"Helvetica,sans-Serif\" font-size=\"14.00\" fill=\"#000000\">value = [0.89, 0.11]</text>\n<text text-anchor=\"middle\" x=\"673\" y=\"-238.3\" font-family=\"Helvetica,sans-Serif\" font-size=\"14.00\" fill=\"#000000\">class = Good</text>\n</g>\n<!-- 2&#45;&gt;10 -->\n<g id=\"edge10\" class=\"edge\">\n<title>2&#45;&gt;10</title>\n<path fill=\"none\" stroke=\"#000000\" d=\"M550.2209,-265.7067C559.8569,-265.612 569.7561,-265.5147 579.552,-265.4184\"/>\n<polygon fill=\"#000000\" stroke=\"#000000\" points=\"579.7425,-268.9168 589.7076,-265.3186 579.6736,-261.9171 579.7425,-268.9168\"/>\n</g>\n<!-- 4 -->\n<g id=\"node5\" class=\"node\">\n<title>4</title>\n<path fill=\"#eda775\" stroke=\"#000000\" d=\"M945,-529.5C945,-529.5 808,-529.5 808,-529.5 802,-529.5 796,-523.5 796,-517.5 796,-517.5 796,-473.5 796,-473.5 796,-467.5 802,-461.5 808,-461.5 808,-461.5 945,-461.5 945,-461.5 951,-461.5 957,-467.5 957,-473.5 957,-473.5 957,-517.5 957,-517.5 957,-523.5 951,-529.5 945,-529.5\"/>\n<text text-anchor=\"middle\" x=\"876.5\" y=\"-514.3\" font-family=\"Helvetica,sans-Serif\" font-size=\"14.00\" fill=\"#000000\">PAY_AMT1 &lt;= 1268.5</text>\n<text text-anchor=\"middle\" x=\"876.5\" y=\"-499.3\" font-family=\"Helvetica,sans-Serif\" font-size=\"14.00\" fill=\"#000000\">samples = 13.0%</text>\n<text text-anchor=\"middle\" x=\"876.5\" y=\"-484.3\" font-family=\"Helvetica,sans-Serif\" font-size=\"14.00\" fill=\"#000000\">value = [0.766, 0.234]</text>\n<text text-anchor=\"middle\" x=\"876.5\" y=\"-469.3\" font-family=\"Helvetica,sans-Serif\" font-size=\"14.00\" fill=\"#000000\">class = Good</text>\n</g>\n<!-- 3&#45;&gt;4 -->\n<g id=\"edge4\" class=\"edge\">\n<title>3&#45;&gt;4</title>\n<path fill=\"none\" stroke=\"#000000\" d=\"M728.6073,-404.6568C754.5173,-420.572 785.4918,-439.5982 812.3838,-456.1166\"/>\n<polygon fill=\"#000000\" stroke=\"#000000\" points=\"810.6072,-459.1328 820.96,-461.3845 814.271,-453.1682 810.6072,-459.1328\"/>\n</g>\n<!-- 7 -->\n<g id=\"node8\" class=\"node\">\n<title>7</title>\n<path fill=\"#ea9b62\" stroke=\"#000000\" d=\"M942.5,-404.5C942.5,-404.5 810.5,-404.5 810.5,-404.5 804.5,-404.5 798.5,-398.5 798.5,-392.5 798.5,-392.5 798.5,-348.5 798.5,-348.5 798.5,-342.5 804.5,-336.5 810.5,-336.5 810.5,-336.5 942.5,-336.5 942.5,-336.5 948.5,-336.5 954.5,-342.5 954.5,-348.5 954.5,-348.5 954.5,-392.5 954.5,-392.5 954.5,-398.5 948.5,-404.5 942.5,-404.5\"/>\n<text text-anchor=\"middle\" x=\"876.5\" y=\"-389.3\" font-family=\"Helvetica,sans-Serif\" font-size=\"14.00\" fill=\"#000000\">PAY_AMT3 &lt;= 581.0</text>\n<text text-anchor=\"middle\" x=\"876.5\" y=\"-374.3\" font-family=\"Helvetica,sans-Serif\" font-size=\"14.00\" fill=\"#000000\">samples = 13.3%</text>\n<text text-anchor=\"middle\" x=\"876.5\" y=\"-359.3\" font-family=\"Helvetica,sans-Serif\" font-size=\"14.00\" fill=\"#000000\">value = [0.829, 0.171]</text>\n<text text-anchor=\"middle\" x=\"876.5\" y=\"-344.3\" font-family=\"Helvetica,sans-Serif\" font-size=\"14.00\" fill=\"#000000\">class = Good</text>\n</g>\n<!-- 3&#45;&gt;7 -->\n<g id=\"edge7\" class=\"edge\">\n<title>3&#45;&gt;7</title>\n<path fill=\"none\" stroke=\"#000000\" d=\"M760.1879,-370.5C769.5362,-370.5 779.0519,-370.5 788.4106,-370.5\"/>\n<polygon fill=\"#000000\" stroke=\"#000000\" points=\"788.4888,-374.0001 798.4888,-370.5 788.4887,-367.0001 788.4888,-374.0001\"/>\n</g>\n<!-- 5 -->\n<g id=\"node6\" class=\"node\">\n<title>5</title>\n<path fill=\"#efb083\" stroke=\"#000000\" d=\"M1143.5,-593C1143.5,-593 1011.5,-593 1011.5,-593 1005.5,-593 999.5,-587 999.5,-581 999.5,-581 999.5,-552 999.5,-552 999.5,-546 1005.5,-540 1011.5,-540 1011.5,-540 1143.5,-540 1143.5,-540 1149.5,-540 1155.5,-546 1155.5,-552 1155.5,-552 1155.5,-581 1155.5,-581 1155.5,-587 1149.5,-593 1143.5,-593\"/>\n<text text-anchor=\"middle\" x=\"1077.5\" y=\"-577.8\" font-family=\"Helvetica,sans-Serif\" font-size=\"14.00\" fill=\"#000000\">samples = 5.0%</text>\n<text text-anchor=\"middle\" x=\"1077.5\" y=\"-562.8\" font-family=\"Helvetica,sans-Serif\" font-size=\"14.00\" fill=\"#000000\">value = [0.729, 0.271]</text>\n<text text-anchor=\"middle\" x=\"1077.5\" y=\"-547.8\" font-family=\"Helvetica,sans-Serif\" font-size=\"14.00\" fill=\"#000000\">class = Good</text>\n</g>\n<!-- 4&#45;&gt;5 -->\n<g id=\"edge5\" class=\"edge\">\n<title>4&#45;&gt;5</title>\n<path fill=\"none\" stroke=\"#000000\" d=\"M957.0962,-523.9693C968.9029,-528.1398 981.0913,-532.4452 992.974,-536.6426\"/>\n<polygon fill=\"#000000\" stroke=\"#000000\" points=\"991.8302,-539.9504 1002.425,-539.981 994.1617,-533.3501 991.8302,-539.9504\"/>\n</g>\n<!-- 6 -->\n<g id=\"node7\" class=\"node\">\n<title>6</title>\n<path fill=\"#eca36e\" stroke=\"#000000\" d=\"M1135.5,-522C1135.5,-522 1019.5,-522 1019.5,-522 1013.5,-522 1007.5,-516 1007.5,-510 1007.5,-510 1007.5,-481 1007.5,-481 1007.5,-475 1013.5,-469 1019.5,-469 1019.5,-469 1135.5,-469 1135.5,-469 1141.5,-469 1147.5,-475 1147.5,-481 1147.5,-481 1147.5,-510 1147.5,-510 1147.5,-516 1141.5,-522 1135.5,-522\"/>\n<text text-anchor=\"middle\" x=\"1077.5\" y=\"-506.8\" font-family=\"Helvetica,sans-Serif\" font-size=\"14.00\" fill=\"#000000\">samples = 8.0%</text>\n<text text-anchor=\"middle\" x=\"1077.5\" y=\"-491.8\" font-family=\"Helvetica,sans-Serif\" font-size=\"14.00\" fill=\"#000000\">value = [0.79, 0.21]</text>\n<text text-anchor=\"middle\" x=\"1077.5\" y=\"-476.8\" font-family=\"Helvetica,sans-Serif\" font-size=\"14.00\" fill=\"#000000\">class = Good</text>\n</g>\n<!-- 4&#45;&gt;6 -->\n<g id=\"edge6\" class=\"edge\">\n<title>4&#45;&gt;6</title>\n<path fill=\"none\" stroke=\"#000000\" d=\"M957.0962,-495.5C970.1956,-495.5 983.7649,-495.5 996.8652,-495.5\"/>\n<polygon fill=\"#000000\" stroke=\"#000000\" points=\"997.2529,-499.0001 1007.2529,-495.5 997.2528,-492.0001 997.2529,-499.0001\"/>\n</g>\n<!-- 8 -->\n<g id=\"node9\" class=\"node\">\n<title>8</title>\n<path fill=\"#eca46f\" stroke=\"#000000\" d=\"M1143.5,-451C1143.5,-451 1011.5,-451 1011.5,-451 1005.5,-451 999.5,-445 999.5,-439 999.5,-439 999.5,-410 999.5,-410 999.5,-404 1005.5,-398 1011.5,-398 1011.5,-398 1143.5,-398 1143.5,-398 1149.5,-398 1155.5,-404 1155.5,-410 1155.5,-410 1155.5,-439 1155.5,-439 1155.5,-445 1149.5,-451 1143.5,-451\"/>\n<text text-anchor=\"middle\" x=\"1077.5\" y=\"-435.8\" font-family=\"Helvetica,sans-Serif\" font-size=\"14.00\" fill=\"#000000\">samples = 7.1%</text>\n<text text-anchor=\"middle\" x=\"1077.5\" y=\"-420.8\" font-family=\"Helvetica,sans-Serif\" font-size=\"14.00\" fill=\"#000000\">value = [0.784, 0.216]</text>\n<text text-anchor=\"middle\" x=\"1077.5\" y=\"-405.8\" font-family=\"Helvetica,sans-Serif\" font-size=\"14.00\" fill=\"#000000\">class = Good</text>\n</g>\n<!-- 7&#45;&gt;8 -->\n<g id=\"edge8\" class=\"edge\">\n<title>7&#45;&gt;8</title>\n<path fill=\"none\" stroke=\"#000000\" d=\"M954.7874,-391.5324C966.2409,-394.6095 978.0996,-397.7954 989.7273,-400.9193\"/>\n<polygon fill=\"#000000\" stroke=\"#000000\" points=\"988.8606,-404.3105 999.4263,-403.525 990.6768,-397.5502 988.8606,-404.3105\"/>\n</g>\n<!-- 9 -->\n<g id=\"node10\" class=\"node\">\n<title>9</title>\n<path fill=\"#e99254\" stroke=\"#000000\" d=\"M1143.5,-380C1143.5,-380 1011.5,-380 1011.5,-380 1005.5,-380 999.5,-374 999.5,-368 999.5,-368 999.5,-339 999.5,-339 999.5,-333 1005.5,-327 1011.5,-327 1011.5,-327 1143.5,-327 1143.5,-327 1149.5,-327 1155.5,-333 1155.5,-339 1155.5,-339 1155.5,-368 1155.5,-368 1155.5,-374 1149.5,-380 1143.5,-380\"/>\n<text text-anchor=\"middle\" x=\"1077.5\" y=\"-364.8\" font-family=\"Helvetica,sans-Serif\" font-size=\"14.00\" fill=\"#000000\">samples = 6.2%</text>\n<text text-anchor=\"middle\" x=\"1077.5\" y=\"-349.8\" font-family=\"Helvetica,sans-Serif\" font-size=\"14.00\" fill=\"#000000\">value = [0.879, 0.121]</text>\n<text text-anchor=\"middle\" x=\"1077.5\" y=\"-334.8\" font-family=\"Helvetica,sans-Serif\" font-size=\"14.00\" fill=\"#000000\">class = Good</text>\n</g>\n<!-- 7&#45;&gt;9 -->\n<g id=\"edge9\" class=\"edge\">\n<title>7&#45;&gt;9</title>\n<path fill=\"none\" stroke=\"#000000\" d=\"M954.7874,-363.8787C966.1264,-362.9197 977.8625,-361.9271 989.3784,-360.9531\"/>\n<polygon fill=\"#000000\" stroke=\"#000000\" points=\"989.7568,-364.4337 999.4263,-360.1033 989.1668,-357.4586 989.7568,-364.4337\"/>\n</g>\n<!-- 11 -->\n<g id=\"node12\" class=\"node\">\n<title>11</title>\n<path fill=\"#ea9a60\" stroke=\"#000000\" d=\"M945,-298.5C945,-298.5 808,-298.5 808,-298.5 802,-298.5 796,-292.5 796,-286.5 796,-286.5 796,-242.5 796,-242.5 796,-236.5 802,-230.5 808,-230.5 808,-230.5 945,-230.5 945,-230.5 951,-230.5 957,-236.5 957,-242.5 957,-242.5 957,-286.5 957,-286.5 957,-292.5 951,-298.5 945,-298.5\"/>\n<text text-anchor=\"middle\" x=\"876.5\" y=\"-283.3\" font-family=\"Helvetica,sans-Serif\" font-size=\"14.00\" fill=\"#000000\">PAY_AMT3 &lt;= 1409.0</text>\n<text text-anchor=\"middle\" x=\"876.5\" y=\"-268.3\" font-family=\"Helvetica,sans-Serif\" font-size=\"14.00\" fill=\"#000000\">samples = 11.7%</text>\n<text text-anchor=\"middle\" x=\"876.5\" y=\"-253.3\" font-family=\"Helvetica,sans-Serif\" font-size=\"14.00\" fill=\"#000000\">value = [0.834, 0.166]</text>\n<text text-anchor=\"middle\" x=\"876.5\" y=\"-238.3\" font-family=\"Helvetica,sans-Serif\" font-size=\"14.00\" fill=\"#000000\">class = Good</text>\n</g>\n<!-- 10&#45;&gt;11 -->\n<g id=\"edge11\" class=\"edge\">\n<title>10&#45;&gt;11</title>\n<path fill=\"none\" stroke=\"#000000\" d=\"M756.0648,-264.5C765.7714,-264.5 775.7129,-264.5 785.5195,-264.5\"/>\n<polygon fill=\"#000000\" stroke=\"#000000\" points=\"785.6747,-268.0001 795.6746,-264.5 785.6746,-261.0001 785.6747,-268.0001\"/>\n</g>\n<!-- 14 -->\n<g id=\"node15\" class=\"node\">\n<title>14</title>\n<path fill=\"#e88e4d\" stroke=\"#000000\" d=\"M945,-174.5C945,-174.5 808,-174.5 808,-174.5 802,-174.5 796,-168.5 796,-162.5 796,-162.5 796,-118.5 796,-118.5 796,-112.5 802,-106.5 808,-106.5 808,-106.5 945,-106.5 945,-106.5 951,-106.5 957,-112.5 957,-118.5 957,-118.5 957,-162.5 957,-162.5 957,-168.5 951,-174.5 945,-174.5\"/>\n<text text-anchor=\"middle\" x=\"876.5\" y=\"-159.3\" font-family=\"Helvetica,sans-Serif\" font-size=\"14.00\" fill=\"#000000\">PAY_AMT3 &lt;= 1003.0</text>\n<text text-anchor=\"middle\" x=\"876.5\" y=\"-144.3\" font-family=\"Helvetica,sans-Serif\" font-size=\"14.00\" fill=\"#000000\">samples = 39.3%</text>\n<text text-anchor=\"middle\" x=\"876.5\" y=\"-129.3\" font-family=\"Helvetica,sans-Serif\" font-size=\"14.00\" fill=\"#000000\">value = [0.907, 0.093]</text>\n<text text-anchor=\"middle\" x=\"876.5\" y=\"-114.3\" font-family=\"Helvetica,sans-Serif\" font-size=\"14.00\" fill=\"#000000\">class = Good</text>\n</g>\n<!-- 10&#45;&gt;14 -->\n<g id=\"edge14\" class=\"edge\">\n<title>10&#45;&gt;14</title>\n<path fill=\"none\" stroke=\"#000000\" d=\"M737.5032,-230.4851C745.1423,-226.2123 752.7835,-221.8225 760,-217.5 779.389,-205.8863 800.1056,-192.5203 818.6117,-180.2181\"/>\n<polygon fill=\"#000000\" stroke=\"#000000\" points=\"820.5749,-183.1158 826.9463,-174.6507 816.6867,-177.295 820.5749,-183.1158\"/>\n</g>\n<!-- 12 -->\n<g id=\"node13\" class=\"node\">\n<title>12</title>\n<path fill=\"#eb9e66\" stroke=\"#000000\" d=\"M1143.5,-309C1143.5,-309 1011.5,-309 1011.5,-309 1005.5,-309 999.5,-303 999.5,-297 999.5,-297 999.5,-268 999.5,-268 999.5,-262 1005.5,-256 1011.5,-256 1011.5,-256 1143.5,-256 1143.5,-256 1149.5,-256 1155.5,-262 1155.5,-268 1155.5,-268 1155.5,-297 1155.5,-297 1155.5,-303 1149.5,-309 1143.5,-309\"/>\n<text text-anchor=\"middle\" x=\"1077.5\" y=\"-293.8\" font-family=\"Helvetica,sans-Serif\" font-size=\"14.00\" fill=\"#000000\">samples = 5.0%</text>\n<text text-anchor=\"middle\" x=\"1077.5\" y=\"-278.8\" font-family=\"Helvetica,sans-Serif\" font-size=\"14.00\" fill=\"#000000\">value = [0.814, 0.186]</text>\n<text text-anchor=\"middle\" x=\"1077.5\" y=\"-263.8\" font-family=\"Helvetica,sans-Serif\" font-size=\"14.00\" fill=\"#000000\">class = Good</text>\n</g>\n<!-- 11&#45;&gt;12 -->\n<g id=\"edge12\" class=\"edge\">\n<title>11&#45;&gt;12</title>\n<path fill=\"none\" stroke=\"#000000\" d=\"M957.0962,-271.7176C967.6076,-272.6589 978.4217,-273.6273 989.0531,-274.5794\"/>\n<polygon fill=\"#000000\" stroke=\"#000000\" points=\"988.902,-278.0798 999.1744,-275.4858 989.5264,-271.1077 988.902,-278.0798\"/>\n</g>\n<!-- 13 -->\n<g id=\"node14\" class=\"node\">\n<title>13</title>\n<path fill=\"#ea975c\" stroke=\"#000000\" d=\"M1143.5,-238C1143.5,-238 1011.5,-238 1011.5,-238 1005.5,-238 999.5,-232 999.5,-226 999.5,-226 999.5,-197 999.5,-197 999.5,-191 1005.5,-185 1011.5,-185 1011.5,-185 1143.5,-185 1143.5,-185 1149.5,-185 1155.5,-191 1155.5,-197 1155.5,-197 1155.5,-226 1155.5,-226 1155.5,-232 1149.5,-238 1143.5,-238\"/>\n<text text-anchor=\"middle\" x=\"1077.5\" y=\"-222.8\" font-family=\"Helvetica,sans-Serif\" font-size=\"14.00\" fill=\"#000000\">samples = 6.7%</text>\n<text text-anchor=\"middle\" x=\"1077.5\" y=\"-207.8\" font-family=\"Helvetica,sans-Serif\" font-size=\"14.00\" fill=\"#000000\">value = [0.849, 0.151]</text>\n<text text-anchor=\"middle\" x=\"1077.5\" y=\"-192.8\" font-family=\"Helvetica,sans-Serif\" font-size=\"14.00\" fill=\"#000000\">class = Good</text>\n</g>\n<!-- 11&#45;&gt;13 -->\n<g id=\"edge13\" class=\"edge\">\n<title>11&#45;&gt;13</title>\n<path fill=\"none\" stroke=\"#000000\" d=\"M957.0962,-243.2483C967.716,-240.448 978.6447,-237.5663 989.3818,-234.7351\"/>\n<polygon fill=\"#000000\" stroke=\"#000000\" points=\"990.3973,-238.0871 999.1744,-232.153 988.6124,-231.3184 990.3973,-238.0871\"/>\n</g>\n<!-- 15 -->\n<g id=\"node16\" class=\"node\">\n<title>15</title>\n<path fill=\"#e99559\" stroke=\"#000000\" d=\"M1143.5,-167C1143.5,-167 1011.5,-167 1011.5,-167 1005.5,-167 999.5,-161 999.5,-155 999.5,-155 999.5,-126 999.5,-126 999.5,-120 1005.5,-114 1011.5,-114 1011.5,-114 1143.5,-114 1143.5,-114 1149.5,-114 1155.5,-120 1155.5,-126 1155.5,-126 1155.5,-155 1155.5,-155 1155.5,-161 1149.5,-167 1143.5,-167\"/>\n<text text-anchor=\"middle\" x=\"1077.5\" y=\"-151.8\" font-family=\"Helvetica,sans-Serif\" font-size=\"14.00\" fill=\"#000000\">samples = 5.3%</text>\n<text text-anchor=\"middle\" x=\"1077.5\" y=\"-136.8\" font-family=\"Helvetica,sans-Serif\" font-size=\"14.00\" fill=\"#000000\">value = [0.862, 0.138]</text>\n<text text-anchor=\"middle\" x=\"1077.5\" y=\"-121.8\" font-family=\"Helvetica,sans-Serif\" font-size=\"14.00\" fill=\"#000000\">class = Good</text>\n</g>\n<!-- 14&#45;&gt;15 -->\n<g id=\"edge15\" class=\"edge\">\n<title>14&#45;&gt;15</title>\n<path fill=\"none\" stroke=\"#000000\" d=\"M957.0962,-140.5C967.6076,-140.5 978.4217,-140.5 989.0531,-140.5\"/>\n<polygon fill=\"#000000\" stroke=\"#000000\" points=\"989.1744,-144.0001 999.1744,-140.5 989.1743,-137.0001 989.1744,-144.0001\"/>\n</g>\n<!-- 16 -->\n<g id=\"node17\" class=\"node\">\n<title>16</title>\n<path fill=\"#e78d4c\" stroke=\"#000000\" d=\"M1150,-95.5C1150,-95.5 1005,-95.5 1005,-95.5 999,-95.5 993,-89.5 993,-83.5 993,-83.5 993,-39.5 993,-39.5 993,-33.5 999,-27.5 1005,-27.5 1005,-27.5 1150,-27.5 1150,-27.5 1156,-27.5 1162,-33.5 1162,-39.5 1162,-39.5 1162,-83.5 1162,-83.5 1162,-89.5 1156,-95.5 1150,-95.5\"/>\n<text text-anchor=\"middle\" x=\"1077.5\" y=\"-80.3\" font-family=\"Helvetica,sans-Serif\" font-size=\"14.00\" fill=\"#000000\">PAY_AMT2 &lt;= 12922.5</text>\n<text text-anchor=\"middle\" x=\"1077.5\" y=\"-65.3\" font-family=\"Helvetica,sans-Serif\" font-size=\"14.00\" fill=\"#000000\">samples = 34.0%</text>\n<text text-anchor=\"middle\" x=\"1077.5\" y=\"-50.3\" font-family=\"Helvetica,sans-Serif\" font-size=\"14.00\" fill=\"#000000\">value = [0.914, 0.086]</text>\n<text text-anchor=\"middle\" x=\"1077.5\" y=\"-35.3\" font-family=\"Helvetica,sans-Serif\" font-size=\"14.00\" fill=\"#000000\">class = Good</text>\n</g>\n<!-- 14&#45;&gt;16 -->\n<g id=\"edge16\" class=\"edge\">\n<title>14&#45;&gt;16</title>\n<path fill=\"none\" stroke=\"#000000\" d=\"M957.0962,-108.8229C965.7586,-105.4183 974.6265,-101.9329 983.4283,-98.4734\"/>\n<polygon fill=\"#000000\" stroke=\"#000000\" points=\"984.9139,-101.6503 992.9405,-94.7348 982.3533,-95.1354 984.9139,-101.6503\"/>\n</g>\n<!-- 17 -->\n<g id=\"node18\" class=\"node\">\n<title>17</title>\n<path fill=\"#e88e4d\" stroke=\"#000000\" d=\"M1342,-124C1342,-124 1210,-124 1210,-124 1204,-124 1198,-118 1198,-112 1198,-112 1198,-83 1198,-83 1198,-77 1204,-71 1210,-71 1210,-71 1342,-71 1342,-71 1348,-71 1354,-77 1354,-83 1354,-83 1354,-112 1354,-112 1354,-118 1348,-124 1342,-124\"/>\n<text text-anchor=\"middle\" x=\"1276\" y=\"-108.8\" font-family=\"Helvetica,sans-Serif\" font-size=\"14.00\" fill=\"#000000\">samples = 28.4%</text>\n<text text-anchor=\"middle\" x=\"1276\" y=\"-93.8\" font-family=\"Helvetica,sans-Serif\" font-size=\"14.00\" fill=\"#000000\">value = [0.908, 0.092]</text>\n<text text-anchor=\"middle\" x=\"1276\" y=\"-78.8\" font-family=\"Helvetica,sans-Serif\" font-size=\"14.00\" fill=\"#000000\">class = Good</text>\n</g>\n<!-- 16&#45;&gt;17 -->\n<g id=\"edge17\" class=\"edge\">\n<title>16&#45;&gt;17</title>\n<path fill=\"none\" stroke=\"#000000\" d=\"M1162.2576,-76.8717C1170.7403,-78.4101 1179.3673,-79.9747 1187.8835,-81.5192\"/>\n<polygon fill=\"#000000\" stroke=\"#000000\" points=\"1187.3506,-84.9795 1197.8147,-83.3203 1188.5998,-78.0919 1187.3506,-84.9795\"/>\n</g>\n<!-- 18 -->\n<g id=\"node19\" class=\"node\">\n<title>18</title>\n<path fill=\"#e78946\" stroke=\"#000000\" d=\"M1334,-53C1334,-53 1218,-53 1218,-53 1212,-53 1206,-47 1206,-41 1206,-41 1206,-12 1206,-12 1206,-6 1212,0 1218,0 1218,0 1334,0 1334,0 1340,0 1346,-6 1346,-12 1346,-12 1346,-41 1346,-41 1346,-47 1340,-53 1334,-53\"/>\n<text text-anchor=\"middle\" x=\"1276\" y=\"-37.8\" font-family=\"Helvetica,sans-Serif\" font-size=\"14.00\" fill=\"#000000\">samples = 5.6%</text>\n<text text-anchor=\"middle\" x=\"1276\" y=\"-22.8\" font-family=\"Helvetica,sans-Serif\" font-size=\"14.00\" fill=\"#000000\">value = [0.94, 0.06]</text>\n<text text-anchor=\"middle\" x=\"1276\" y=\"-7.8\" font-family=\"Helvetica,sans-Serif\" font-size=\"14.00\" fill=\"#000000\">class = Good</text>\n</g>\n<!-- 16&#45;&gt;18 -->\n<g id=\"edge18\" class=\"edge\">\n<title>16&#45;&gt;18</title>\n<path fill=\"none\" stroke=\"#000000\" d=\"M1162.2576,-46.5553C1173.3911,-44.5922 1184.7732,-42.5853 1195.8273,-40.6363\"/>\n<polygon fill=\"#000000\" stroke=\"#000000\" points=\"1196.6298,-44.0488 1205.8701,-38.8655 1195.4143,-37.1552 1196.6298,-44.0488\"/>\n</g>\n<!-- 20 -->\n<g id=\"node21\" class=\"node\">\n<title>20</title>\n<path fill=\"#efb082\" stroke=\"#000000\" d=\"M731,-209C731,-209 615,-209 615,-209 609,-209 603,-203 603,-197 603,-197 603,-168 603,-168 603,-162 609,-156 615,-156 615,-156 731,-156 731,-156 737,-156 743,-162 743,-168 743,-168 743,-197 743,-197 743,-203 737,-209 731,-209\"/>\n<text text-anchor=\"middle\" x=\"673\" y=\"-193.8\" font-family=\"Helvetica,sans-Serif\" font-size=\"14.00\" fill=\"#000000\">samples = 5.7%</text>\n<text text-anchor=\"middle\" x=\"673\" y=\"-178.8\" font-family=\"Helvetica,sans-Serif\" font-size=\"14.00\" fill=\"#000000\">value = [0.73, 0.27]</text>\n<text text-anchor=\"middle\" x=\"673\" y=\"-163.8\" font-family=\"Helvetica,sans-Serif\" font-size=\"14.00\" fill=\"#000000\">class = Good</text>\n</g>\n<!-- 19&#45;&gt;20 -->\n<g id=\"edge20\" class=\"edge\">\n<title>19&#45;&gt;20</title>\n<path fill=\"none\" stroke=\"#000000\" d=\"M547.5964,-181.2675C562.3497,-181.4125 577.8054,-181.5644 592.6273,-181.7101\"/>\n<polygon fill=\"#000000\" stroke=\"#000000\" points=\"592.737,-185.2112 602.771,-181.8098 592.8059,-178.2116 592.737,-185.2112\"/>\n</g>\n<!-- 21 -->\n<g id=\"node22\" class=\"node\">\n<title>21</title>\n<path fill=\"#f7d6bf\" stroke=\"#000000\" d=\"M739,-138C739,-138 607,-138 607,-138 601,-138 595,-132 595,-126 595,-126 595,-97 595,-97 595,-91 601,-85 607,-85 607,-85 739,-85 739,-85 745,-85 751,-91 751,-97 751,-97 751,-126 751,-126 751,-132 745,-138 739,-138\"/>\n<text text-anchor=\"middle\" x=\"673\" y=\"-122.8\" font-family=\"Helvetica,sans-Serif\" font-size=\"14.00\" fill=\"#000000\">samples = 6.5%</text>\n<text text-anchor=\"middle\" x=\"673\" y=\"-107.8\" font-family=\"Helvetica,sans-Serif\" font-size=\"14.00\" fill=\"#000000\">value = [0.597, 0.403]</text>\n<text text-anchor=\"middle\" x=\"673\" y=\"-92.8\" font-family=\"Helvetica,sans-Serif\" font-size=\"14.00\" fill=\"#000000\">class = Good</text>\n</g>\n<!-- 19&#45;&gt;21 -->\n<g id=\"edge21\" class=\"edge\">\n<title>19&#45;&gt;21</title>\n<path fill=\"none\" stroke=\"#000000\" d=\"M547.5964,-154.0201C559.9224,-149.8408 572.7386,-145.4953 585.2659,-141.2477\"/>\n<polygon fill=\"#000000\" stroke=\"#000000\" points=\"586.4298,-144.5488 594.7763,-138.023 584.182,-137.9195 586.4298,-144.5488\"/>\n</g>\n<!-- 23 -->\n<g id=\"node24\" class=\"node\">\n<title>23</title>\n<path fill=\"#96cbf1\" stroke=\"#000000\" d=\"M535.5,-125C535.5,-125 403.5,-125 403.5,-125 397.5,-125 391.5,-119 391.5,-113 391.5,-113 391.5,-84 391.5,-84 391.5,-78 397.5,-72 403.5,-72 403.5,-72 535.5,-72 535.5,-72 541.5,-72 547.5,-78 547.5,-84 547.5,-84 547.5,-113 547.5,-113 547.5,-119 541.5,-125 535.5,-125\"/>\n<text text-anchor=\"middle\" x=\"469.5\" y=\"-109.8\" font-family=\"Helvetica,sans-Serif\" font-size=\"14.00\" fill=\"#000000\">samples = 5.1%</text>\n<text text-anchor=\"middle\" x=\"469.5\" y=\"-94.8\" font-family=\"Helvetica,sans-Serif\" font-size=\"14.00\" fill=\"#000000\">value = [0.319, 0.681]</text>\n<text text-anchor=\"middle\" x=\"469.5\" y=\"-79.8\" font-family=\"Helvetica,sans-Serif\" font-size=\"14.00\" fill=\"#000000\">class = Bad</text>\n</g>\n<!-- 22&#45;&gt;23 -->\n<g id=\"edge23\" class=\"edge\">\n<title>22&#45;&gt;23</title>\n<path fill=\"none\" stroke=\"#000000\" d=\"M353.1959,-97.3192C362.4818,-97.4135 371.9862,-97.51 381.3638,-97.6052\"/>\n<polygon fill=\"#000000\" stroke=\"#000000\" points=\"381.4385,-101.1061 391.4735,-97.7079 381.5096,-94.1064 381.4385,-101.1061\"/>\n</g>\n<!-- 24 -->\n<g id=\"node25\" class=\"node\">\n<title>24</title>\n<path fill=\"#88c4ef\" stroke=\"#000000\" d=\"M535.5,-54C535.5,-54 403.5,-54 403.5,-54 397.5,-54 391.5,-48 391.5,-42 391.5,-42 391.5,-13 391.5,-13 391.5,-7 397.5,-1 403.5,-1 403.5,-1 535.5,-1 535.5,-1 541.5,-1 547.5,-7 547.5,-13 547.5,-13 547.5,-42 547.5,-42 547.5,-48 541.5,-54 535.5,-54\"/>\n<text text-anchor=\"middle\" x=\"469.5\" y=\"-38.8\" font-family=\"Helvetica,sans-Serif\" font-size=\"14.00\" fill=\"#000000\">samples = 5.2%</text>\n<text text-anchor=\"middle\" x=\"469.5\" y=\"-23.8\" font-family=\"Helvetica,sans-Serif\" font-size=\"14.00\" fill=\"#000000\">value = [0.286, 0.714]</text>\n<text text-anchor=\"middle\" x=\"469.5\" y=\"-8.8\" font-family=\"Helvetica,sans-Serif\" font-size=\"14.00\" fill=\"#000000\">class = Bad</text>\n</g>\n<!-- 22&#45;&gt;24 -->\n<g id=\"edge24\" class=\"edge\">\n<title>22&#45;&gt;24</title>\n<path fill=\"none\" stroke=\"#000000\" d=\"M353.1959,-68.236C363.3419,-64.6823 373.7486,-61.0373 383.9658,-57.4587\"/>\n<polygon fill=\"#000000\" stroke=\"#000000\" points=\"385.4082,-60.662 393.6891,-54.0531 383.0942,-54.0555 385.4082,-60.662\"/>\n</g>\n</g>\n</svg>\n"
          },
          "metadata": {},
          "execution_count": 34
        }
      ],
      "source": [
        "# assigning features and class labels for decision tree visualization\n",
        "print(sk_dt_model.classes_)\n",
        "class_labels = ['Good', 'Bad']\n",
        "\n",
        "# drawing a tree\n",
        "export_graphviz(\n",
        "    sk_dt_model,\n",
        "    out_file = 'tree_raw.dot',\n",
        "    class_names = class_labels,\n",
        "    feature_names=feat_labels,\n",
        "    rotate=True,\n",
        "    rounded=True,\n",
        "    impurity=False,\n",
        "    filled=True,\n",
        "    proportion=True)\n",
        "\n",
        "with open('tree_raw.dot') as f:\n",
        "  dot_graph = f.read()\n",
        "\n",
        "graphviz.Source(dot_graph)"
      ]
    },
    {
      "cell_type": "code",
      "execution_count": 35,
      "metadata": {
        "id": "MfYr_lj-VyML"
      },
      "outputs": [],
      "source": [
        "# saving as png\n",
        "png_bytes = graphviz.Source(dot_graph).pipe(format='png')\n",
        "with open('tree_plot.png','wb') as f:\n",
        "    f.write(png_bytes)"
      ]
    },
    {
      "cell_type": "code",
      "execution_count": 36,
      "metadata": {
        "colab": {
          "base_uri": "https://localhost:8080/"
        },
        "id": "1qFQE6yMFoNR",
        "outputId": "c01f714e-9b0d-4a3d-efea-7f237425127c"
      },
      "outputs": [
        {
          "output_type": "stream",
          "name": "stdout",
          "text": [
            "0.681\n",
            "0.714\n"
          ]
        }
      ],
      "source": [
        "test_eval = pd.concat([test[final_features], test[target]], axis=1)\n",
        "test_eval['pred'] = sk_dt_model.predict_proba(test_eval[final_features])[:, 1]\n",
        "# worst bad leaf nodes\n",
        "print(round(test_eval['pred'].nlargest(500).min(),3))\n",
        "print(round(test_eval['pred'].nlargest(500).max(),3))"
      ]
    },
    {
      "cell_type": "markdown",
      "metadata": {
        "id": "c4DC5MgiVyML"
      },
      "source": [
        "### Plotting ROC AUC curves"
      ]
    },
    {
      "cell_type": "code",
      "execution_count": 37,
      "metadata": {
        "id": "V3OMQM9QVyML"
      },
      "outputs": [],
      "source": [
        "from matplotlib.gridspec import GridSpec\n",
        "from sklearn.metrics import RocCurveDisplay"
      ]
    },
    {
      "cell_type": "code",
      "execution_count": 38,
      "metadata": {
        "id": "iFo9n5lCVyMM"
      },
      "outputs": [],
      "source": [
        "# model predictions to plot\n",
        "clf_list = [\n",
        "    (sk_lr_model, \"Logistic\"),\n",
        "    (sk_dt_model, \"Decision Tree\"),\n",
        "    (model, \"AutoWoE\"),\n",
        "]"
      ]
    },
    {
      "cell_type": "code",
      "execution_count": 39,
      "metadata": {
        "colab": {
          "base_uri": "https://localhost:8080/",
          "height": 902
        },
        "id": "pYcvgf0rVyMM",
        "outputId": "0a1e56df-cb3a-4f0e-bb9d-be8964dee827"
      },
      "outputs": [
        {
          "output_type": "display_data",
          "data": {
            "text/plain": [
              "<Figure size 3000x2400 with 1 Axes>"
            ],
            "image/png": "[encoded data removed]"
          },
          "metadata": {
            "needs_background": "light"
          }
        }
      ],
      "source": [
        "fig = plt.figure(figsize=(10, 8), dpi=300)\n",
        "gs = GridSpec(4, 2)\n",
        "colors = plt.cm.get_cmap(\"Dark2\")\n",
        "\n",
        "y_test = test[target]\n",
        "X_test = test[final_features]\n",
        "\n",
        "ax_roc_auc_curve = fig.add_subplot(gs[:3])\n",
        "roc_auc_displays = {}\n",
        "\n",
        "for i, (clf, name) in enumerate(clf_list):\n",
        "    if name == 'AutoWoE':\n",
        "        y_pred = clf.predict_proba(X_test)\n",
        "    else:\n",
        "        y_pred = clf.predict_proba(X_test)[:, 1]\n",
        "    display = RocCurveDisplay.from_predictions(\n",
        "    y_test, y_pred, ax=ax_roc_auc_curve, name=name, color=colors(i))\n",
        "    roc_auc_displays[name] = display\n",
        "\n",
        "ax_roc_auc_curve.grid()\n",
        "ax_roc_auc_curve.set_title(\"ROC AUC curve\")\n",
        "plt.tight_layout()\n",
        "plt.savefig('model_comparison.png', dpi=300)\n",
        "plt.show()"
      ]
    },
    {
      "cell_type": "markdown",
      "metadata": {
        "id": "mqbRjXex9LFH"
      },
      "source": [
        "### Model parsimony"
      ]
    },
    {
      "cell_type": "markdown",
      "metadata": {
        "id": "mNKaI4-bSm9m"
      },
      "source": [
        "Validation raw feature selection derive further insights into the choice of risk drivers to understand whether a different set of features could be used in an alternative model based on the whole list of inputs"
      ]
    },
    {
      "cell_type": "code",
      "execution_count": 40,
      "metadata": {
        "id": "EM3vnLbO9H1N"
      },
      "outputs": [],
      "source": [
        "import sys\n",
        "from mlxtend.feature_selection import SequentialFeatureSelector as sfs\n",
        "from mlxtend.plotting import plot_sequential_feature_selection as plot_sfs"
      ]
    },
    {
      "cell_type": "code",
      "execution_count": 41,
      "metadata": {
        "colab": {
          "base_uri": "https://localhost:8080/",
          "height": 349
        },
        "id": "rmXjfZ5O9H4G",
        "outputId": "1a7918ad-949c-4062-f4f1-096a5f7f7f36"
      },
      "outputs": [
        {
          "output_type": "display_data",
          "data": {
            "text/plain": [
              "<Figure size 432x288 with 1 Axes>"
            ],
            "image/png": "[encoded data removed]"
          },
          "metadata": {
            "needs_background": "light"
          }
        },
        {
          "output_type": "stream",
          "name": "stdout",
          "text": [
            "Selected features using SFS : ['PAY_0', 'PAY_2', 'PAY_3', 'LIMIT_BAL', 'BILL_AMT1', 'PAY_AMT1', 'PAY_AMT2', 'PAY_AMT3']\n",
            "Development Gini : 52.26%\n",
            "Validation Gini : 51.51%\n"
          ]
        }
      ],
      "source": [
        "# choosing cross-validation method for feature selection\n",
        "fivefold = model_selection.StratifiedKFold(n_splits=5, shuffle=True, random_state=0)\n",
        "\n",
        "# building a challenger model using sequential forward feature selection\n",
        "sfs_parsi_cv5 = sfs(\n",
        "    sk_dt_model, \n",
        "    k_features='parsimonious',\n",
        "    forward=True, \n",
        "    floating=False, \n",
        "    scoring='roc_auc', \n",
        "    verbose=0, \n",
        "    n_jobs=30, \n",
        "    cv=fivefold)\n",
        "\n",
        "# training the model\n",
        "sfs_parsi_cv5 = sfs_parsi_cv5.fit(development[features], development[target])\n",
        "\n",
        "# plotting the feature selection process\n",
        "plot_sfs(sfs_parsi_cv5.get_metric_dict(), kind='std_err', ylabel='ROC AUC Performance')\n",
        "plt.title(\"Sequential Forward Selection (w. Std Error)\")\n",
        "plt.savefig('sfs_feature_selection.png', dpi=300)\n",
        "plt.show()\n",
        "\n",
        "# getting the features included in the parsimonious model\n",
        "selected_features = list(sfs_parsi_cv5.k_feature_names_)\n",
        "print(f\"Selected features using SFS : {selected_features}\")\n",
        "print(f\"Development Gini : {sfs_parsi_cv5.k_score_*2-1:.2%}\")\n",
        "\n",
        "# training an alternative model with the most informative features\n",
        "sk_dt_model.fit(development[selected_features], development[target])\n",
        "y_pred = sk_dt_model.predict_proba(validation[selected_features])[:, 1]\n",
        "print(f\"Validation Gini : {roc_auc_score(validation[target], y_pred)*2-1:.2%}\")"
      ]
    },
    {
      "cell_type": "code",
      "execution_count": 42,
      "metadata": {
        "colab": {
          "base_uri": "https://localhost:8080/"
        },
        "id": "7E2HpJ8APYkF",
        "outputId": "e32608ea-bbc2-4f75-de5f-6b39b9c7df0e"
      },
      "outputs": [
        {
          "output_type": "stream",
          "name": "stdout",
          "text": [
            "Potential features considered : ['PAY_AMT1', 'PAY_AMT3', 'LIMIT_BAL', 'PAY_0', 'PAY_AMT2', 'PAY_3']\n",
            "Potential features that are not considered : ['PAY_2', 'BILL_AMT1']\n"
          ]
        }
      ],
      "source": [
        "# Reporting recommendations on potential features to be investigated\n",
        "print(f\"Potential features considered : {list(set(selected_features).intersection(final_features))}\")\n",
        "print(f\"Potential features that are not considered : {list(set(selected_features) - set(final_features))}\")"
      ]
    },
    {
      "cell_type": "markdown",
      "metadata": {
        "id": "pu2_skPETPq1"
      },
      "source": [
        "### Model complexity"
      ]
    },
    {
      "cell_type": "markdown",
      "metadata": {
        "id": "WwFJUQ4cVyMM"
      },
      "source": [
        "#### Validating model hyperparameters with Optuna"
      ]
    },
    {
      "cell_type": "code",
      "execution_count": 43,
      "metadata": {
        "id": "DQguA90oVyMM"
      },
      "outputs": [],
      "source": [
        "import optuna\n",
        "from optuna.samplers import TPESampler\n",
        "from optuna.visualization import plot_parallel_coordinate\n",
        "from optuna.visualization import plot_param_importances"
      ]
    },
    {
      "cell_type": "code",
      "execution_count": 44,
      "metadata": {
        "id": "1_hm9zX2VyMM"
      },
      "outputs": [],
      "source": [
        "def objective(trial, X, y, cv, model_params):\n",
        "    \n",
        "    train_gini = []\n",
        "    test_gini = []\n",
        "    scores = []\n",
        "    \n",
        "    params = {\n",
        "              \"pearson_th\"          : trial.suggest_categorical('pearson_th', [0.5, 0.7, 0.9]),\n",
        "              \"metric_th\"           : trial.suggest_categorical('metric_th', [0.5, 0.55, 0.6]),\n",
        "              \"force_single_split\"  : trial.suggest_categorical(\"force_single_split\", [True,False]),\n",
        "              \"oof_woe\"             : trial.suggest_categorical(\"oof_woe\", [True, False]),\n",
        "              \"imp_type\"            : trial.suggest_categorical(\"imp_type\", [\"feature_imp\", \"perm_imp\"]),\n",
        "              \"p_val\"               : trial.suggest_categorical(\"p_val\", [0.01, 0.05, 0.1]),\n",
        "      }\n",
        "    \n",
        "    # updating parameters and defining the model    \n",
        "    params.update(model_params)\n",
        "    autowoe = AutoWoE(**params)\n",
        "    \n",
        "    # aggregating X and Y along the column axis\n",
        "    input_data = pd.concat([X, y], axis=1)\n",
        "    \n",
        "    for i, (train_index, test_index) in enumerate(cv.split(X, y)):\n",
        "        print(f\"Fold {i}\")\n",
        "        train_set = input_data.iloc[train_index]\n",
        "        test_set = input_data.iloc[test_index]\n",
        "        # fitting the model\n",
        "        autowoe.fit(\n",
        "            train_set[final_features + [target]], \n",
        "            target_name=str(target),\n",
        "            group_kf=None,\n",
        "            validation=test_set)     \n",
        "        print(f\"Fold {i}: Fit complete\")\n",
        "        # making predictions\n",
        "        train_predictions = autowoe.predict_proba(train_set[final_features])\n",
        "        test_predictions = autowoe.predict_proba(test_set[final_features])\n",
        "        # calculating Gini\n",
        "        train_score = roc_auc_score(train_set[target], train_predictions)*2-1\n",
        "        test_score = roc_auc_score(test_set[target], test_predictions)*2-1\n",
        "        print(f\"Train Gini : {train_score:.2%}\")\n",
        "        print(f\"Test Gini : {test_score:.2%}\")          \n",
        "        train_gini.append(train_score)\n",
        "        test_gini.append(test_score)\n",
        "        # calculating a model score\n",
        "        train_err = 1 - train_score\n",
        "        test_err = 1 - test_score\n",
        "        score = test_score * abs(train_err / test_err)\n",
        "        print(f\"Fold {i} score: {score:.2%}\")\n",
        "        scores.append(score)\n",
        "      \n",
        "    mean_score = np.mean(scores)\n",
        "    mean_gini = np.mean(test_gini)\n",
        "\n",
        "    print(f\"Hyperparameters: {params}\",\n",
        "          f\"Gini: {mean_gini}\",\n",
        "          f\"Score: {mean_score}\")\n",
        "    \n",
        "    return mean_score"
      ]
    },
    {
      "cell_type": "code",
      "execution_count": 45,
      "metadata": {
        "scrolled": true,
        "colab": {
          "base_uri": "https://localhost:8080/"
        },
        "id": "YbzoSBt7VyMM",
        "outputId": "02d3d6e2-e367-4518-cb4d-cdeeb3c59d5f"
      },
      "outputs": [
        {
          "output_type": "stream",
          "name": "stderr",
          "text": [
            "\u001b[32m[I 2022-11-21 19:29:00,743]\u001b[0m A new study created in memory with name: no-name-65f3ecf0-965f-4e30-98e5-2ffe927ddfeb\u001b[0m\n"
          ]
        },
        {
          "output_type": "stream",
          "name": "stdout",
          "text": [
            "Fold 0\n",
            "[LightGBM] [Warning] min_gain_to_split is set=0.01, min_split_gain=0.0 will be ignored. Current value: min_gain_to_split=0.01\n",
            "Fold 0: Fit complete\n",
            "Train Gini : 50.75%\n",
            "Test Gini : 43.08%\n",
            "Fold 0 score: 37.27%\n",
            "Fold 1\n",
            "[LightGBM] [Warning] min_gain_to_split is set=0.01, min_split_gain=0.0 will be ignored. Current value: min_gain_to_split=0.01\n",
            "Fold 1: Fit complete\n",
            "Train Gini : 40.90%\n",
            "Test Gini : 45.18%\n",
            "Fold 1 score: 48.70%\n",
            "Fold 2\n",
            "[LightGBM] [Warning] min_gain_to_split is set=0.01, min_split_gain=0.0 will be ignored. Current value: min_gain_to_split=0.01\n",
            "Fold 2: Fit complete\n",
            "Train Gini : 47.73%\n",
            "Test Gini : 52.45%\n",
            "Fold 2 score: 57.66%\n",
            "Fold 3\n",
            "[LightGBM] [Warning] min_gain_to_split is set=0.01, min_split_gain=0.0 will be ignored. Current value: min_gain_to_split=0.01\n",
            "Fold 3: Fit complete\n",
            "Train Gini : 41.81%\n",
            "Test Gini : 44.49%\n",
            "Fold 3 score: 46.64%\n",
            "Fold 4\n",
            "[LightGBM] [Warning] min_gain_to_split is set=0.01, min_split_gain=0.0 will be ignored. Current value: min_gain_to_split=0.01\n",
            "Fold 4: Fit complete\n",
            "Train Gini : 38.98%\n",
            "Test Gini : 41.84%\n",
            "Fold 4 score: 43.89%\n",
            "Fold 5\n",
            "[LightGBM] [Warning] min_gain_to_split is set=0.01, min_split_gain=0.0 will be ignored. Current value: min_gain_to_split=0.01\n",
            "Fold 5: Fit complete\n",
            "Train Gini : 49.98%\n",
            "Test Gini : 51.02%\n",
            "Fold 5 score: 52.10%\n",
            "Fold 6\n",
            "[LightGBM] [Warning] min_gain_to_split is set=0.01, min_split_gain=0.0 will be ignored. Current value: min_gain_to_split=0.01\n",
            "Fold 6: Fit complete\n",
            "Train Gini : 47.04%\n",
            "Test Gini : 44.80%\n",
            "Fold 6 score: 42.98%\n",
            "Fold 7\n",
            "[LightGBM] [Warning] min_gain_to_split is set=0.01, min_split_gain=0.0 will be ignored. Current value: min_gain_to_split=0.01\n",
            "Fold 7: Fit complete\n",
            "Train Gini : 40.03%\n",
            "Test Gini : 50.80%\n",
            "Fold 7 score: 61.92%\n",
            "Fold 8\n",
            "[LightGBM] [Warning] min_gain_to_split is set=0.01, min_split_gain=0.0 will be ignored. Current value: min_gain_to_split=0.01\n",
            "Fold 8: Fit complete\n",
            "Train Gini : 38.67%\n",
            "Test Gini : 44.92%\n",
            "Fold 8 score: 50.02%\n",
            "Fold 9\n",
            "[LightGBM] [Warning] min_gain_to_split is set=0.01, min_split_gain=0.0 will be ignored. Current value: min_gain_to_split=0.01\n"
          ]
        },
        {
          "output_type": "stream",
          "name": "stderr",
          "text": [
            "\u001b[32m[I 2022-11-21 19:29:29,884]\u001b[0m Trial 0 finished with value: 0.4863753190950198 and parameters: {'pearson_th': 0.7, 'metric_th': 0.6, 'force_single_split': True, 'oof_woe': False, 'imp_type': 'perm_imp', 'p_val': 0.01}. Best is trial 0 with value: 0.4863753190950198.\u001b[0m\n"
          ]
        },
        {
          "output_type": "stream",
          "name": "stdout",
          "text": [
            "Fold 9: Fit complete\n",
            "Train Gini : 49.62%\n",
            "Test Gini : 47.29%\n",
            "Fold 9 score: 45.20%\n",
            "Hyperparameters: {'pearson_th': 0.7, 'metric_th': 0.6, 'force_single_split': True, 'oof_woe': False, 'imp_type': 'perm_imp', 'p_val': 0.01, 'task': 'BIN', 'interpreted_model': True, 'monotonic': True, 'max_bin_count': 5, 'select_type': None, 'vif_th': 10.0, 'imp_th': 0, 'th_const': 32, 'th_nan': 0.01, 'th_cat': 0.005, 'woe_diff_th': 0.01, 'min_bin_size': 0.01, 'min_bin_mults': (2, 4), 'min_gains_to_split': (0.0, 0.5, 1.0), 'auc_tol': 0.0001, 'cat_alpha': 100, 'cat_merge_to': 'to_woe_0', 'nan_merge_to': 'to_woe_0', 'n_folds': 6, 'n_jobs': 4, 'l1_grid_size': 20, 'l1_exp_scale': 6, 'regularized_refit': False, 'debug': False, 'verbose': 0} Gini: 0.4658562691671838 Score: 0.4863753190950198\n",
            "Fold 0\n",
            "[LightGBM] [Info] Number of positive: 934, number of negative: 3386\n",
            "[LightGBM] [Warning] Auto-choosing col-wise multi-threading, the overhead of testing was 0.000738 seconds.\n",
            "You can set `force_col_wise=true` to remove the overhead.\n",
            "[LightGBM] [Info] Total Bins 856\n",
            "[LightGBM] [Info] Number of data points in the train set: 4320, number of used features: 8\n",
            "[LightGBM] [Info] [binary:BoostFromScore]: pavg=0.216204 -> initscore=-1.287928\n",
            "[LightGBM] [Info] Start training from score -1.287928\n",
            "Fold 0: Fit complete\n",
            "Train Gini : 52.64%\n",
            "Test Gini : 42.83%\n",
            "Fold 0 score: 35.48%\n",
            "Fold 1\n",
            "[LightGBM] [Info] Number of positive: 929, number of negative: 3391\n",
            "[LightGBM] [Warning] Auto-choosing col-wise multi-threading, the overhead of testing was 0.000960 seconds.\n",
            "You can set `force_col_wise=true` to remove the overhead.\n",
            "[LightGBM] [Info] Total Bins 855\n",
            "[LightGBM] [Info] Number of data points in the train set: 4320, number of used features: 8\n",
            "[LightGBM] [Info] [binary:BoostFromScore]: pavg=0.215046 -> initscore=-1.294771\n",
            "[LightGBM] [Info] Start training from score -1.294771\n",
            "Fold 1: Fit complete\n",
            "Train Gini : 47.25%\n",
            "Test Gini : 49.70%\n",
            "Fold 1 score: 52.12%\n",
            "Fold 2\n",
            "[LightGBM] [Info] Number of positive: 940, number of negative: 3380\n",
            "[LightGBM] [Warning] Auto-choosing col-wise multi-threading, the overhead of testing was 0.003095 seconds.\n",
            "You can set `force_col_wise=true` to remove the overhead.\n",
            "[LightGBM] [Info] Total Bins 855\n",
            "[LightGBM] [Info] Number of data points in the train set: 4320, number of used features: 8\n",
            "[LightGBM] [Info] [binary:BoostFromScore]: pavg=0.217593 -> initscore=-1.279751\n",
            "[LightGBM] [Info] Start training from score -1.279751\n",
            "Fold 2: Fit complete\n",
            "Train Gini : 50.45%\n",
            "Test Gini : 54.21%\n",
            "Fold 2 score: 58.65%\n",
            "Fold 3\n",
            "[LightGBM] [Info] Number of positive: 945, number of negative: 3375\n",
            "[LightGBM] [Warning] Auto-choosing col-wise multi-threading, the overhead of testing was 0.000987 seconds.\n",
            "You can set `force_col_wise=true` to remove the overhead.\n",
            "[LightGBM] [Info] Total Bins 854\n",
            "[LightGBM] [Info] Number of data points in the train set: 4320, number of used features: 8\n",
            "[LightGBM] [Info] [binary:BoostFromScore]: pavg=0.218750 -> initscore=-1.272966\n",
            "[LightGBM] [Info] Start training from score -1.272966\n",
            "Fold 3: Fit complete\n",
            "Train Gini : 50.13%\n",
            "Test Gini : 50.74%\n",
            "Fold 3 score: 51.37%\n",
            "Fold 4\n",
            "[LightGBM] [Info] Number of positive: 936, number of negative: 3384\n",
            "[LightGBM] [Warning] Auto-choosing col-wise multi-threading, the overhead of testing was 0.000989 seconds.\n",
            "You can set `force_col_wise=true` to remove the overhead.\n",
            "[LightGBM] [Info] Total Bins 855\n",
            "[LightGBM] [Info] Number of data points in the train set: 4320, number of used features: 8\n",
            "[LightGBM] [Info] [binary:BoostFromScore]: pavg=0.216667 -> initscore=-1.285198\n",
            "[LightGBM] [Info] Start training from score -1.285198\n",
            "Fold 4: Fit complete\n",
            "Train Gini : 49.70%\n",
            "Test Gini : 50.76%\n",
            "Fold 4 score: 51.85%\n",
            "Fold 5\n",
            "[LightGBM] [Info] Number of positive: 916, number of negative: 3404\n",
            "[LightGBM] [Warning] Auto-choosing col-wise multi-threading, the overhead of testing was 0.000975 seconds.\n",
            "You can set `force_col_wise=true` to remove the overhead.\n",
            "[LightGBM] [Info] Total Bins 857\n",
            "[LightGBM] [Info] Number of data points in the train set: 4320, number of used features: 8\n",
            "[LightGBM] [Info] [binary:BoostFromScore]: pavg=0.212037 -> initscore=-1.312690\n",
            "[LightGBM] [Info] Start training from score -1.312690\n",
            "Fold 5: Fit complete\n",
            "Train Gini : 50.96%\n",
            "Test Gini : 52.50%\n",
            "Fold 5 score: 54.20%\n",
            "Fold 6\n",
            "[LightGBM] [Info] Number of positive: 942, number of negative: 3378\n",
            "[LightGBM] [Warning] Auto-choosing col-wise multi-threading, the overhead of testing was 0.001005 seconds.\n",
            "You can set `force_col_wise=true` to remove the overhead.\n",
            "[LightGBM] [Info] Total Bins 854\n",
            "[LightGBM] [Info] Number of data points in the train set: 4320, number of used features: 8\n",
            "[LightGBM] [Info] [binary:BoostFromScore]: pavg=0.218056 -> initscore=-1.277034\n",
            "[LightGBM] [Info] Start training from score -1.277034\n",
            "Fold 6: Fit complete\n",
            "Train Gini : 47.04%\n",
            "Test Gini : 44.80%\n",
            "Fold 6 score: 42.98%\n",
            "Fold 7\n",
            "[LightGBM] [Info] Number of positive: 936, number of negative: 3384\n",
            "[LightGBM] [Warning] Auto-choosing col-wise multi-threading, the overhead of testing was 0.000995 seconds.\n",
            "You can set `force_col_wise=true` to remove the overhead.\n",
            "[LightGBM] [Info] Total Bins 855\n",
            "[LightGBM] [Info] Number of data points in the train set: 4320, number of used features: 8\n",
            "[LightGBM] [Info] [binary:BoostFromScore]: pavg=0.216667 -> initscore=-1.285198\n",
            "[LightGBM] [Info] Start training from score -1.285198\n",
            "Fold 7: Fit complete\n",
            "Train Gini : 49.72%\n",
            "Test Gini : 56.48%\n",
            "Fold 7 score: 65.25%\n",
            "Fold 8\n",
            "[LightGBM] [Info] Number of positive: 936, number of negative: 3384\n",
            "[LightGBM] [Warning] Auto-choosing col-wise multi-threading, the overhead of testing was 0.000995 seconds.\n",
            "You can set `force_col_wise=true` to remove the overhead.\n",
            "[LightGBM] [Info] Total Bins 854\n",
            "[LightGBM] [Info] Number of data points in the train set: 4320, number of used features: 8\n",
            "[LightGBM] [Info] [binary:BoostFromScore]: pavg=0.216667 -> initscore=-1.285198\n",
            "[LightGBM] [Info] Start training from score -1.285198\n",
            "Fold 8: Fit complete\n",
            "Train Gini : 48.26%\n",
            "Test Gini : 54.52%\n",
            "Fold 8 score: 62.01%\n",
            "Fold 9\n",
            "[LightGBM] [Info] Number of positive: 925, number of negative: 3395\n",
            "[LightGBM] [Warning] Auto-choosing col-wise multi-threading, the overhead of testing was 0.000871 seconds.\n",
            "You can set `force_col_wise=true` to remove the overhead.\n",
            "[LightGBM] [Info] Total Bins 856\n",
            "[LightGBM] [Info] Number of data points in the train set: 4320, number of used features: 8\n",
            "[LightGBM] [Info] [binary:BoostFromScore]: pavg=0.214120 -> initscore=-1.300265\n",
            "[LightGBM] [Info] Start training from score -1.300265\n"
          ]
        },
        {
          "output_type": "stream",
          "name": "stderr",
          "text": [
            "\u001b[32m[I 2022-11-21 19:30:10,959]\u001b[0m Trial 1 finished with value: 0.5191214251954023 and parameters: {'pearson_th': 0.9, 'metric_th': 0.55, 'force_single_split': False, 'oof_woe': False, 'imp_type': 'feature_imp', 'p_val': 0.1}. Best is trial 1 with value: 0.5191214251954023.\u001b[0m\n"
          ]
        },
        {
          "output_type": "stream",
          "name": "stdout",
          "text": [
            "Fold 9: Fit complete\n",
            "Train Gini : 49.62%\n",
            "Test Gini : 47.29%\n",
            "Fold 9 score: 45.20%\n",
            "Hyperparameters: {'pearson_th': 0.9, 'metric_th': 0.55, 'force_single_split': False, 'oof_woe': False, 'imp_type': 'feature_imp', 'p_val': 0.1, 'task': 'BIN', 'interpreted_model': True, 'monotonic': True, 'max_bin_count': 5, 'select_type': None, 'vif_th': 10.0, 'imp_th': 0, 'th_const': 32, 'th_nan': 0.01, 'th_cat': 0.005, 'woe_diff_th': 0.01, 'min_bin_size': 0.01, 'min_bin_mults': (2, 4), 'min_gains_to_split': (0.0, 0.5, 1.0), 'auc_tol': 0.0001, 'cat_alpha': 100, 'cat_merge_to': 'to_woe_0', 'nan_merge_to': 'to_woe_0', 'n_folds': 6, 'n_jobs': 4, 'l1_grid_size': 20, 'l1_exp_scale': 6, 'regularized_refit': False, 'debug': False, 'verbose': 0} Gini: 0.503817219434918 Score: 0.5191214251954023\n",
            "Fold 0\n",
            "[LightGBM] [Info] Number of positive: 934, number of negative: 3386\n",
            "[LightGBM] [Warning] Auto-choosing col-wise multi-threading, the overhead of testing was 0.001009 seconds.\n",
            "You can set `force_col_wise=true` to remove the overhead.\n",
            "[LightGBM] [Info] Total Bins 856\n",
            "[LightGBM] [Info] Number of data points in the train set: 4320, number of used features: 8\n",
            "[LightGBM] [Info] [binary:BoostFromScore]: pavg=0.216204 -> initscore=-1.287928\n",
            "[LightGBM] [Info] Start training from score -1.287928\n",
            "Fold 0: Fit complete\n",
            "Train Gini : 51.80%\n",
            "Test Gini : 43.86%\n",
            "Fold 0 score: 37.66%\n",
            "Fold 1\n",
            "[LightGBM] [Info] Number of positive: 929, number of negative: 3391\n",
            "[LightGBM] [Warning] Auto-choosing col-wise multi-threading, the overhead of testing was 0.000868 seconds.\n",
            "You can set `force_col_wise=true` to remove the overhead.\n",
            "[LightGBM] [Info] Total Bins 855\n",
            "[LightGBM] [Info] Number of data points in the train set: 4320, number of used features: 8\n",
            "[LightGBM] [Info] [binary:BoostFromScore]: pavg=0.215046 -> initscore=-1.294771\n",
            "[LightGBM] [Info] Start training from score -1.294771\n",
            "Fold 1: Fit complete\n",
            "Train Gini : 47.25%\n",
            "Test Gini : 49.70%\n",
            "Fold 1 score: 52.12%\n",
            "Fold 2\n",
            "[LightGBM] [Info] Number of positive: 940, number of negative: 3380\n",
            "[LightGBM] [Warning] Auto-choosing col-wise multi-threading, the overhead of testing was 0.000987 seconds.\n",
            "You can set `force_col_wise=true` to remove the overhead.\n",
            "[LightGBM] [Info] Total Bins 855\n",
            "[LightGBM] [Info] Number of data points in the train set: 4320, number of used features: 8\n",
            "[LightGBM] [Info] [binary:BoostFromScore]: pavg=0.217593 -> initscore=-1.279751\n",
            "[LightGBM] [Info] Start training from score -1.279751\n",
            "Fold 2: Fit complete\n",
            "Train Gini : 50.45%\n",
            "Test Gini : 54.21%\n",
            "Fold 2 score: 58.65%\n",
            "Fold 3\n",
            "[LightGBM] [Info] Number of positive: 945, number of negative: 3375\n",
            "[LightGBM] [Warning] Auto-choosing col-wise multi-threading, the overhead of testing was 0.001004 seconds.\n",
            "You can set `force_col_wise=true` to remove the overhead.\n",
            "[LightGBM] [Info] Total Bins 854\n",
            "[LightGBM] [Info] Number of data points in the train set: 4320, number of used features: 8\n",
            "[LightGBM] [Info] [binary:BoostFromScore]: pavg=0.218750 -> initscore=-1.272966\n",
            "[LightGBM] [Info] Start training from score -1.272966\n",
            "Fold 3: Fit complete\n",
            "Train Gini : 51.16%\n",
            "Test Gini : 52.47%\n",
            "Fold 3 score: 53.91%\n",
            "Fold 4\n",
            "[LightGBM] [Info] Number of positive: 936, number of negative: 3384\n",
            "[LightGBM] [Warning] Auto-choosing col-wise multi-threading, the overhead of testing was 0.000917 seconds.\n",
            "You can set `force_col_wise=true` to remove the overhead.\n",
            "[LightGBM] [Info] Total Bins 855\n",
            "[LightGBM] [Info] Number of data points in the train set: 4320, number of used features: 8\n",
            "[LightGBM] [Info] [binary:BoostFromScore]: pavg=0.216667 -> initscore=-1.285198\n",
            "[LightGBM] [Info] Start training from score -1.285198\n",
            "Fold 4: Fit complete\n",
            "Train Gini : 49.31%\n",
            "Test Gini : 51.28%\n",
            "Fold 4 score: 53.36%\n",
            "Fold 5\n",
            "[LightGBM] [Info] Number of positive: 916, number of negative: 3404\n",
            "[LightGBM] [Warning] Auto-choosing col-wise multi-threading, the overhead of testing was 0.000886 seconds.\n",
            "You can set `force_col_wise=true` to remove the overhead.\n",
            "[LightGBM] [Info] Total Bins 857\n",
            "[LightGBM] [Info] Number of data points in the train set: 4320, number of used features: 8\n",
            "[LightGBM] [Info] [binary:BoostFromScore]: pavg=0.212037 -> initscore=-1.312690\n",
            "[LightGBM] [Info] Start training from score -1.312690\n",
            "Fold 5: Fit complete\n",
            "Train Gini : 50.45%\n",
            "Test Gini : 54.38%\n",
            "Fold 5 score: 59.07%\n",
            "Fold 6\n",
            "[LightGBM] [Info] Number of positive: 942, number of negative: 3378\n",
            "[LightGBM] [Warning] Auto-choosing col-wise multi-threading, the overhead of testing was 0.000875 seconds.\n",
            "You can set `force_col_wise=true` to remove the overhead.\n",
            "[LightGBM] [Info] Total Bins 854\n",
            "[LightGBM] [Info] Number of data points in the train set: 4320, number of used features: 8\n",
            "[LightGBM] [Info] [binary:BoostFromScore]: pavg=0.218056 -> initscore=-1.277034\n",
            "[LightGBM] [Info] Start training from score -1.277034\n",
            "Fold 6: Fit complete\n",
            "Train Gini : 47.31%\n",
            "Test Gini : 44.92%\n",
            "Fold 6 score: 42.97%\n",
            "Fold 7\n",
            "[LightGBM] [Info] Number of positive: 936, number of negative: 3384\n",
            "[LightGBM] [Warning] Auto-choosing col-wise multi-threading, the overhead of testing was 0.001012 seconds.\n",
            "You can set `force_col_wise=true` to remove the overhead.\n",
            "[LightGBM] [Info] Total Bins 855\n",
            "[LightGBM] [Info] Number of data points in the train set: 4320, number of used features: 8\n",
            "[LightGBM] [Info] [binary:BoostFromScore]: pavg=0.216667 -> initscore=-1.285198\n",
            "[LightGBM] [Info] Start training from score -1.285198\n",
            "Fold 7: Fit complete\n",
            "Train Gini : 49.72%\n",
            "Test Gini : 56.48%\n",
            "Fold 7 score: 65.25%\n",
            "Fold 8\n",
            "[LightGBM] [Info] Number of positive: 936, number of negative: 3384\n",
            "[LightGBM] [Warning] Auto-choosing col-wise multi-threading, the overhead of testing was 0.000730 seconds.\n",
            "You can set `force_col_wise=true` to remove the overhead.\n",
            "[LightGBM] [Info] Total Bins 854\n",
            "[LightGBM] [Info] Number of data points in the train set: 4320, number of used features: 8\n",
            "[LightGBM] [Info] [binary:BoostFromScore]: pavg=0.216667 -> initscore=-1.285198\n",
            "[LightGBM] [Info] Start training from score -1.285198\n",
            "Fold 8: Fit complete\n",
            "Train Gini : 50.04%\n",
            "Test Gini : 54.19%\n",
            "Fold 8 score: 59.10%\n",
            "Fold 9\n",
            "[LightGBM] [Info] Number of positive: 925, number of negative: 3395\n",
            "[LightGBM] [Warning] Auto-choosing col-wise multi-threading, the overhead of testing was 0.000708 seconds.\n",
            "You can set `force_col_wise=true` to remove the overhead.\n",
            "[LightGBM] [Info] Total Bins 856\n",
            "[LightGBM] [Info] Number of data points in the train set: 4320, number of used features: 8\n",
            "[LightGBM] [Info] [binary:BoostFromScore]: pavg=0.214120 -> initscore=-1.300265\n",
            "[LightGBM] [Info] Start training from score -1.300265\n"
          ]
        },
        {
          "output_type": "stream",
          "name": "stderr",
          "text": [
            "\u001b[32m[I 2022-11-21 19:30:50,303]\u001b[0m Trial 2 finished with value: 0.5307402298510921 and parameters: {'pearson_th': 0.5, 'metric_th': 0.5, 'force_single_split': True, 'oof_woe': False, 'imp_type': 'feature_imp', 'p_val': 0.1}. Best is trial 2 with value: 0.5307402298510921.\u001b[0m\n"
          ]
        },
        {
          "output_type": "stream",
          "name": "stdout",
          "text": [
            "Fold 9: Fit complete\n",
            "Train Gini : 50.53%\n",
            "Test Gini : 49.58%\n",
            "Fold 9 score: 48.65%\n",
            "Hyperparameters: {'pearson_th': 0.5, 'metric_th': 0.5, 'force_single_split': True, 'oof_woe': False, 'imp_type': 'feature_imp', 'p_val': 0.1, 'task': 'BIN', 'interpreted_model': True, 'monotonic': True, 'max_bin_count': 5, 'select_type': None, 'vif_th': 10.0, 'imp_th': 0, 'th_const': 32, 'th_nan': 0.01, 'th_cat': 0.005, 'woe_diff_th': 0.01, 'min_bin_size': 0.01, 'min_bin_mults': (2, 4), 'min_gains_to_split': (0.0, 0.5, 1.0), 'auc_tol': 0.0001, 'cat_alpha': 100, 'cat_merge_to': 'to_woe_0', 'nan_merge_to': 'to_woe_0', 'n_folds': 6, 'n_jobs': 4, 'l1_grid_size': 20, 'l1_exp_scale': 6, 'regularized_refit': False, 'debug': False, 'verbose': 0} Gini: 0.5110746600034196 Score: 0.5307402298510921\n",
            "Fold 0\n",
            "[LightGBM] [Info] Number of positive: 934, number of negative: 3386\n",
            "[LightGBM] [Warning] Auto-choosing col-wise multi-threading, the overhead of testing was 0.000992 seconds.\n",
            "You can set `force_col_wise=true` to remove the overhead.\n",
            "[LightGBM] [Info] Total Bins 856\n",
            "[LightGBM] [Info] Number of data points in the train set: 4320, number of used features: 8\n",
            "[LightGBM] [Info] [binary:BoostFromScore]: pavg=0.216204 -> initscore=-1.287928\n",
            "[LightGBM] [Info] Start training from score -1.287928\n",
            "Fold 0: Fit complete\n",
            "Train Gini : 50.75%\n",
            "Test Gini : 43.08%\n",
            "Fold 0 score: 37.27%\n",
            "Fold 1\n",
            "[LightGBM] [Info] Number of positive: 929, number of negative: 3391\n",
            "[LightGBM] [Warning] Auto-choosing col-wise multi-threading, the overhead of testing was 0.000887 seconds.\n",
            "You can set `force_col_wise=true` to remove the overhead.\n",
            "[LightGBM] [Info] Total Bins 855\n",
            "[LightGBM] [Info] Number of data points in the train set: 4320, number of used features: 8\n",
            "[LightGBM] [Info] [binary:BoostFromScore]: pavg=0.215046 -> initscore=-1.294771\n",
            "[LightGBM] [Info] Start training from score -1.294771\n",
            "Fold 1: Fit complete\n",
            "Train Gini : 41.83%\n",
            "Test Gini : 44.31%\n",
            "Fold 1 score: 46.27%\n",
            "Fold 2\n",
            "[LightGBM] [Info] Number of positive: 940, number of negative: 3380\n",
            "[LightGBM] [Warning] Auto-choosing col-wise multi-threading, the overhead of testing was 0.001665 seconds.\n",
            "You can set `force_col_wise=true` to remove the overhead.\n",
            "[LightGBM] [Info] Total Bins 855\n",
            "[LightGBM] [Info] Number of data points in the train set: 4320, number of used features: 8\n",
            "[LightGBM] [Info] [binary:BoostFromScore]: pavg=0.217593 -> initscore=-1.279751\n",
            "[LightGBM] [Info] Start training from score -1.279751\n",
            "Fold 2: Fit complete\n",
            "Train Gini : 47.73%\n",
            "Test Gini : 52.45%\n",
            "Fold 2 score: 57.66%\n",
            "Fold 3\n",
            "[LightGBM] [Info] Number of positive: 945, number of negative: 3375\n",
            "[LightGBM] [Warning] Auto-choosing col-wise multi-threading, the overhead of testing was 0.000895 seconds.\n",
            "You can set `force_col_wise=true` to remove the overhead.\n",
            "[LightGBM] [Info] Total Bins 854\n",
            "[LightGBM] [Info] Number of data points in the train set: 4320, number of used features: 8\n",
            "[LightGBM] [Info] [binary:BoostFromScore]: pavg=0.218750 -> initscore=-1.272966\n",
            "[LightGBM] [Info] Start training from score -1.272966\n",
            "Fold 3: Fit complete\n",
            "Train Gini : 41.53%\n",
            "Test Gini : 43.31%\n",
            "Fold 3 score: 44.68%\n",
            "Fold 4\n",
            "[LightGBM] [Info] Number of positive: 936, number of negative: 3384\n",
            "[LightGBM] [Warning] Auto-choosing col-wise multi-threading, the overhead of testing was 0.001009 seconds.\n",
            "You can set `force_col_wise=true` to remove the overhead.\n",
            "[LightGBM] [Info] Total Bins 855\n",
            "[LightGBM] [Info] Number of data points in the train set: 4320, number of used features: 8\n",
            "[LightGBM] [Info] [binary:BoostFromScore]: pavg=0.216667 -> initscore=-1.285198\n",
            "[LightGBM] [Info] Start training from score -1.285198\n",
            "Fold 4: Fit complete\n",
            "Train Gini : 39.69%\n",
            "Test Gini : 43.79%\n",
            "Fold 4 score: 47.00%\n",
            "Fold 5\n",
            "[LightGBM] [Info] Number of positive: 916, number of negative: 3404\n",
            "[LightGBM] [Warning] Auto-choosing col-wise multi-threading, the overhead of testing was 0.000877 seconds.\n",
            "You can set `force_col_wise=true` to remove the overhead.\n",
            "[LightGBM] [Info] Total Bins 857\n",
            "[LightGBM] [Info] Number of data points in the train set: 4320, number of used features: 8\n",
            "[LightGBM] [Info] [binary:BoostFromScore]: pavg=0.212037 -> initscore=-1.312690\n",
            "[LightGBM] [Info] Start training from score -1.312690\n",
            "Fold 5: Fit complete\n",
            "Train Gini : 49.98%\n",
            "Test Gini : 51.02%\n",
            "Fold 5 score: 52.10%\n",
            "Fold 6\n",
            "[LightGBM] [Info] Number of positive: 942, number of negative: 3378\n",
            "[LightGBM] [Warning] Auto-choosing col-wise multi-threading, the overhead of testing was 0.001001 seconds.\n",
            "You can set `force_col_wise=true` to remove the overhead.\n",
            "[LightGBM] [Info] Total Bins 854\n",
            "[LightGBM] [Info] Number of data points in the train set: 4320, number of used features: 8\n",
            "[LightGBM] [Info] [binary:BoostFromScore]: pavg=0.218056 -> initscore=-1.277034\n",
            "[LightGBM] [Info] Start training from score -1.277034\n",
            "Fold 6: Fit complete\n",
            "Train Gini : 46.05%\n",
            "Test Gini : 43.09%\n",
            "Fold 6 score: 40.85%\n",
            "Fold 7\n",
            "[LightGBM] [Info] Number of positive: 936, number of negative: 3384\n",
            "[LightGBM] [Warning] Auto-choosing col-wise multi-threading, the overhead of testing was 0.000987 seconds.\n",
            "You can set `force_col_wise=true` to remove the overhead.\n",
            "[LightGBM] [Info] Total Bins 855\n",
            "[LightGBM] [Info] Number of data points in the train set: 4320, number of used features: 8\n",
            "[LightGBM] [Info] [binary:BoostFromScore]: pavg=0.216667 -> initscore=-1.285198\n",
            "[LightGBM] [Info] Start training from score -1.285198\n",
            "Fold 7: Fit complete\n",
            "Train Gini : 40.03%\n",
            "Test Gini : 50.80%\n",
            "Fold 7 score: 61.92%\n",
            "Fold 8\n",
            "[LightGBM] [Info] Number of positive: 936, number of negative: 3384\n",
            "[LightGBM] [Warning] Auto-choosing col-wise multi-threading, the overhead of testing was 0.001040 seconds.\n",
            "You can set `force_col_wise=true` to remove the overhead.\n",
            "[LightGBM] [Info] Total Bins 854\n",
            "[LightGBM] [Info] Number of data points in the train set: 4320, number of used features: 8\n",
            "[LightGBM] [Info] [binary:BoostFromScore]: pavg=0.216667 -> initscore=-1.285198\n",
            "[LightGBM] [Info] Start training from score -1.285198\n",
            "Fold 8: Fit complete\n",
            "Train Gini : 38.67%\n",
            "Test Gini : 44.92%\n",
            "Fold 8 score: 50.02%\n",
            "Fold 9\n",
            "[LightGBM] [Info] Number of positive: 925, number of negative: 3395\n",
            "[LightGBM] [Warning] Auto-choosing col-wise multi-threading, the overhead of testing was 0.000997 seconds.\n",
            "You can set `force_col_wise=true` to remove the overhead.\n",
            "[LightGBM] [Info] Total Bins 856\n",
            "[LightGBM] [Info] Number of data points in the train set: 4320, number of used features: 8\n",
            "[LightGBM] [Info] [binary:BoostFromScore]: pavg=0.214120 -> initscore=-1.300265\n",
            "[LightGBM] [Info] Start training from score -1.300265\n"
          ]
        },
        {
          "output_type": "stream",
          "name": "stderr",
          "text": [
            "\u001b[32m[I 2022-11-21 19:31:28,623]\u001b[0m Trial 3 finished with value: 0.48377201950457166 and parameters: {'pearson_th': 0.5, 'metric_th': 0.5, 'force_single_split': True, 'oof_woe': False, 'imp_type': 'feature_imp', 'p_val': 0.01}. Best is trial 2 with value: 0.5307402298510921.\u001b[0m\n"
          ]
        },
        {
          "output_type": "stream",
          "name": "stdout",
          "text": [
            "Fold 9: Fit complete\n",
            "Train Gini : 49.77%\n",
            "Test Gini : 47.81%\n",
            "Fold 9 score: 46.00%\n",
            "Hyperparameters: {'pearson_th': 0.5, 'metric_th': 0.5, 'force_single_split': True, 'oof_woe': False, 'imp_type': 'feature_imp', 'p_val': 0.01, 'task': 'BIN', 'interpreted_model': True, 'monotonic': True, 'max_bin_count': 5, 'select_type': None, 'vif_th': 10.0, 'imp_th': 0, 'th_const': 32, 'th_nan': 0.01, 'th_cat': 0.005, 'woe_diff_th': 0.01, 'min_bin_size': 0.01, 'min_bin_mults': (2, 4), 'min_gains_to_split': (0.0, 0.5, 1.0), 'auc_tol': 0.0001, 'cat_alpha': 100, 'cat_merge_to': 'to_woe_0', 'nan_merge_to': 'to_woe_0', 'n_folds': 6, 'n_jobs': 4, 'l1_grid_size': 20, 'l1_exp_scale': 6, 'regularized_refit': False, 'debug': False, 'verbose': 0} Gini: 0.4645791240782039 Score: 0.48377201950457166\n",
            "Fold 0\n",
            "[LightGBM] [Warning] min_gain_to_split is set=0.01, min_split_gain=0.0 will be ignored. Current value: min_gain_to_split=0.01\n",
            "Fold 0: Fit complete\n",
            "Train Gini : 50.75%\n",
            "Test Gini : 43.08%\n",
            "Fold 0 score: 37.27%\n",
            "Fold 1\n",
            "[LightGBM] [Warning] min_gain_to_split is set=0.01, min_split_gain=0.0 will be ignored. Current value: min_gain_to_split=0.01\n",
            "Fold 1: Fit complete\n",
            "Train Gini : 42.53%\n",
            "Test Gini : 46.34%\n",
            "Fold 1 score: 49.63%\n",
            "Fold 2\n",
            "[LightGBM] [Warning] min_gain_to_split is set=0.01, min_split_gain=0.0 will be ignored. Current value: min_gain_to_split=0.01\n",
            "Fold 2: Fit complete\n",
            "Train Gini : 49.94%\n",
            "Test Gini : 55.49%\n",
            "Fold 2 score: 62.41%\n",
            "Fold 3\n",
            "[LightGBM] [Warning] min_gain_to_split is set=0.01, min_split_gain=0.0 will be ignored. Current value: min_gain_to_split=0.01\n",
            "Fold 3: Fit complete\n",
            "Train Gini : 50.13%\n",
            "Test Gini : 50.74%\n",
            "Fold 3 score: 51.37%\n",
            "Fold 4\n",
            "[LightGBM] [Warning] min_gain_to_split is set=0.01, min_split_gain=0.0 will be ignored. Current value: min_gain_to_split=0.01\n",
            "Fold 4: Fit complete\n",
            "Train Gini : 46.42%\n",
            "Test Gini : 49.86%\n",
            "Fold 4 score: 53.28%\n",
            "Fold 5\n",
            "[LightGBM] [Warning] min_gain_to_split is set=0.01, min_split_gain=0.0 will be ignored. Current value: min_gain_to_split=0.01\n",
            "Fold 5: Fit complete\n",
            "Train Gini : 49.98%\n",
            "Test Gini : 51.02%\n",
            "Fold 5 score: 52.10%\n",
            "Fold 6\n",
            "[LightGBM] [Warning] min_gain_to_split is set=0.01, min_split_gain=0.0 will be ignored. Current value: min_gain_to_split=0.01\n",
            "Fold 6: Fit complete\n",
            "Train Gini : 47.04%\n",
            "Test Gini : 44.80%\n",
            "Fold 6 score: 42.98%\n",
            "Fold 7\n",
            "[LightGBM] [Warning] min_gain_to_split is set=0.01, min_split_gain=0.0 will be ignored. Current value: min_gain_to_split=0.01\n",
            "Fold 7: Fit complete\n",
            "Train Gini : 49.16%\n",
            "Test Gini : 55.78%\n",
            "Fold 7 score: 64.12%\n",
            "Fold 8\n",
            "[LightGBM] [Warning] min_gain_to_split is set=0.01, min_split_gain=0.0 will be ignored. Current value: min_gain_to_split=0.01\n",
            "Fold 8: Fit complete\n",
            "Train Gini : 38.67%\n",
            "Test Gini : 44.92%\n",
            "Fold 8 score: 50.02%\n",
            "Fold 9\n",
            "[LightGBM] [Warning] min_gain_to_split is set=0.01, min_split_gain=0.0 will be ignored. Current value: min_gain_to_split=0.01\n"
          ]
        },
        {
          "output_type": "stream",
          "name": "stderr",
          "text": [
            "\u001b[32m[I 2022-11-21 19:31:59,433]\u001b[0m Trial 4 finished with value: 0.5083842007012561 and parameters: {'pearson_th': 0.9, 'metric_th': 0.6, 'force_single_split': True, 'oof_woe': False, 'imp_type': 'perm_imp', 'p_val': 0.05}. Best is trial 2 with value: 0.5307402298510921.\u001b[0m\n"
          ]
        },
        {
          "output_type": "stream",
          "name": "stdout",
          "text": [
            "Fold 9: Fit complete\n",
            "Train Gini : 49.62%\n",
            "Test Gini : 47.29%\n",
            "Fold 9 score: 45.20%\n",
            "Hyperparameters: {'pearson_th': 0.9, 'metric_th': 0.6, 'force_single_split': True, 'oof_woe': False, 'imp_type': 'perm_imp', 'p_val': 0.05, 'task': 'BIN', 'interpreted_model': True, 'monotonic': True, 'max_bin_count': 5, 'select_type': None, 'vif_th': 10.0, 'imp_th': 0, 'th_const': 32, 'th_nan': 0.01, 'th_cat': 0.005, 'woe_diff_th': 0.01, 'min_bin_size': 0.01, 'min_bin_mults': (2, 4), 'min_gains_to_split': (0.0, 0.5, 1.0), 'auc_tol': 0.0001, 'cat_alpha': 100, 'cat_merge_to': 'to_woe_0', 'nan_merge_to': 'to_woe_0', 'n_folds': 6, 'n_jobs': 4, 'l1_grid_size': 20, 'l1_exp_scale': 6, 'regularized_refit': False, 'debug': False, 'verbose': 0} Gini: 0.4893086400579631 Score: 0.5083842007012561\n"
          ]
        }
      ],
      "source": [
        "# testing on validation data\n",
        "X = validation[final_features]\n",
        "y = validation[target]\n",
        "\n",
        "# static hyperparameters we do not tune\n",
        "hyperparameters = {\n",
        "  \"task\"                       :\"BIN\",\n",
        "  \"interpreted_model\"          : True,\n",
        "  \"monotonic\"                  : True,          \n",
        "  \"max_bin_count\"              : 5,\n",
        "  \"select_type\"                : None,          \n",
        "  \"vif_th\"                     : 10.,\n",
        "  \"imp_th\"                     : 0,\n",
        "  \"th_const\"                   : 32,   \n",
        "  \"th_nan\"                     : 0.01,\n",
        "  \"th_cat\"                     : 0.005,\n",
        "  \"woe_diff_th\"                : 0.01,\n",
        "  \"min_bin_size\"               : 0.01,\n",
        "  \"min_bin_mults\"              : (2, 4),\n",
        "  \"min_gains_to_split\"         : (0.0, 0.5, 1.0),\n",
        "  \"auc_tol\"                    : 1e-4,\n",
        "  \"cat_alpha\"                  : 100,\n",
        "  \"cat_merge_to\"               : \"to_woe_0\",\n",
        "  \"nan_merge_to\"               : \"to_woe_0\",\n",
        "  \"n_folds\"                    : 6,\n",
        "  \"n_jobs\"                     : 4,\n",
        "  \"l1_grid_size\"               : 20,\n",
        "  \"l1_exp_scale\"               : 6,\n",
        "  \"regularized_refit\"          : False,\n",
        "  \"debug\"                      : False,\n",
        "  \"verbose\"                    : 0\n",
        "  }\n",
        "\n",
        "# search runs to retrieve the best model\n",
        "sampler = TPESampler(seed=72)\n",
        "study = optuna.create_study(sampler=sampler, direction=\"maximize\")\n",
        "func = lambda trial: objective(trial, X, y, skf, hyperparameters)\n",
        "study.optimize(func, n_trials=5)"
      ]
    },
    {
      "cell_type": "code",
      "execution_count": 46,
      "metadata": {
        "colab": {
          "base_uri": "https://localhost:8080/"
        },
        "id": "_Jfy0YgxVyMM",
        "outputId": "013bc901-10e0-4497-af1d-a4a3f9f39588"
      },
      "outputs": [
        {
          "output_type": "stream",
          "name": "stdout",
          "text": [
            "Best value: 53.07%, Best params: {'pearson_th': 0.5, 'metric_th': 0.5, 'force_single_split': True, 'oof_woe': False, 'imp_type': 'feature_imp', 'p_val': 0.1}\n"
          ]
        }
      ],
      "source": [
        "best_hyperparameters = study.best_trial.params\n",
        "print(f\"Best value: {study.best_value:.2%}, Best params: {best_hyperparameters}\")"
      ]
    },
    {
      "cell_type": "code",
      "execution_count": 47,
      "metadata": {
        "colab": {
          "base_uri": "https://localhost:8080/",
          "height": 542
        },
        "id": "At8Ab1QTVyMM",
        "outputId": "c0ebd1c8-a01b-4322-91aa-0a8b924657c0"
      },
      "outputs": [
        {
          "output_type": "display_data",
          "data": {
            "text/html": [
              "<html>\n",
              "<head><meta charset=\"utf-8\" /></head>\n",
              "<body>\n",
              "    <div>            <script src=\"https://cdnjs.cloudflare.com/ajax/libs/mathjax/2.7.5/MathJax.js?config=TeX-AMS-MML_SVG\"></script><script type=\"text/javascript\">if (window.MathJax) {MathJax.Hub.Config({SVG: {font: \"STIX-Web\"}});}</script>                <script type=\"text/javascript\">window.PlotlyConfig = {MathJaxConfig: 'local'};</script>\n",
              "        <script src=\"https://cdn.plot.ly/plotly-2.8.3.min.js\"></script>                <div id=\"34169de8-88e0-4082-94f8-dd196c440735\" class=\"plotly-graph-div\" style=\"height:525px; width:100%;\"></div>            <script type=\"text/javascript\">                                    window.PLOTLYENV=window.PLOTLYENV || {};                                    if (document.getElementById(\"34169de8-88e0-4082-94f8-dd196c440735\")) {                    Plotly.newPlot(                        \"34169de8-88e0-4082-94f8-dd196c440735\",                        [{\"dimensions\":[{\"label\":\"Objective Value\",\"range\":[0.48377201950457166,0.5307402298510921],\"values\":[0.48377201950457166,0.5307402298510921,0.5191214251954023,0.4863753190950198,0.5083842007012561]},{\"label\":\"force_single_split\",\"range\":[0,1],\"ticktext\":[\"True\",\"False\"],\"tickvals\":[0,1],\"values\":[0,0,1,0,0]},{\"label\":\"imp_type\",\"range\":[0,1],\"ticktext\":[\"perm_imp\",\"feature_imp\"],\"tickvals\":[0,1],\"values\":[1,1,1,0,0]},{\"label\":\"metric_th\",\"range\":[0,2],\"ticktext\":[\"0.5\",\"0.55\",\"0.6\"],\"tickvals\":[0,1,2],\"values\":[0,0,1,2,2]},{\"label\":\"oof_woe\",\"range\":[0,0],\"ticktext\":[\"False\"],\"tickvals\":[0],\"values\":[0,0,0,0,0]},{\"label\":\"p_val\",\"range\":[0,2],\"ticktext\":[\"0.01\",\"0.05\",\"0.1\"],\"tickvals\":[0,1,2],\"values\":[0,2,2,0,1]},{\"label\":\"pearson_th\",\"range\":[0,2],\"ticktext\":[\"0.5\",\"0.7\",\"0.9\"],\"tickvals\":[0,1,2],\"values\":[0,0,2,1,2]}],\"labelangle\":30,\"labelside\":\"bottom\",\"line\":{\"color\":[0.48377201950457166,0.5307402298510921,0.5191214251954023,0.4863753190950198,0.5083842007012561],\"colorbar\":{\"title\":{\"text\":\"Objective Value\"}},\"colorscale\":[[0.0,\"rgb(247,251,255)\"],[0.125,\"rgb(222,235,247)\"],[0.25,\"rgb(198,219,239)\"],[0.375,\"rgb(158,202,225)\"],[0.5,\"rgb(107,174,214)\"],[0.625,\"rgb(66,146,198)\"],[0.75,\"rgb(33,113,181)\"],[0.875,\"rgb(8,81,156)\"],[1.0,\"rgb(8,48,107)\"]],\"reversescale\":false,\"showscale\":true},\"type\":\"parcoords\"}],                        {\"title\":{\"text\":\"Parallel Coordinate Plot\"},\"template\":{\"data\":{\"bar\":[{\"error_x\":{\"color\":\"#2a3f5f\"},\"error_y\":{\"color\":\"#2a3f5f\"},\"marker\":{\"line\":{\"color\":\"#E5ECF6\",\"width\":0.5},\"pattern\":{\"fillmode\":\"overlay\",\"size\":10,\"solidity\":0.2}},\"type\":\"bar\"}],\"barpolar\":[{\"marker\":{\"line\":{\"color\":\"#E5ECF6\",\"width\":0.5},\"pattern\":{\"fillmode\":\"overlay\",\"size\":10,\"solidity\":0.2}},\"type\":\"barpolar\"}],\"carpet\":[{\"aaxis\":{\"endlinecolor\":\"#2a3f5f\",\"gridcolor\":\"white\",\"linecolor\":\"white\",\"minorgridcolor\":\"white\",\"startlinecolor\":\"#2a3f5f\"},\"baxis\":{\"endlinecolor\":\"#2a3f5f\",\"gridcolor\":\"white\",\"linecolor\":\"white\",\"minorgridcolor\":\"white\",\"startlinecolor\":\"#2a3f5f\"},\"type\":\"carpet\"}],\"choropleth\":[{\"colorbar\":{\"outlinewidth\":0,\"ticks\":\"\"},\"type\":\"choropleth\"}],\"contour\":[{\"colorbar\":{\"outlinewidth\":0,\"ticks\":\"\"},\"colorscale\":[[0.0,\"#0d0887\"],[0.1111111111111111,\"#46039f\"],[0.2222222222222222,\"#7201a8\"],[0.3333333333333333,\"#9c179e\"],[0.4444444444444444,\"#bd3786\"],[0.5555555555555556,\"#d8576b\"],[0.6666666666666666,\"#ed7953\"],[0.7777777777777778,\"#fb9f3a\"],[0.8888888888888888,\"#fdca26\"],[1.0,\"#f0f921\"]],\"type\":\"contour\"}],\"contourcarpet\":[{\"colorbar\":{\"outlinewidth\":0,\"ticks\":\"\"},\"type\":\"contourcarpet\"}],\"heatmap\":[{\"colorbar\":{\"outlinewidth\":0,\"ticks\":\"\"},\"colorscale\":[[0.0,\"#0d0887\"],[0.1111111111111111,\"#46039f\"],[0.2222222222222222,\"#7201a8\"],[0.3333333333333333,\"#9c179e\"],[0.4444444444444444,\"#bd3786\"],[0.5555555555555556,\"#d8576b\"],[0.6666666666666666,\"#ed7953\"],[0.7777777777777778,\"#fb9f3a\"],[0.8888888888888888,\"#fdca26\"],[1.0,\"#f0f921\"]],\"type\":\"heatmap\"}],\"heatmapgl\":[{\"colorbar\":{\"outlinewidth\":0,\"ticks\":\"\"},\"colorscale\":[[0.0,\"#0d0887\"],[0.1111111111111111,\"#46039f\"],[0.2222222222222222,\"#7201a8\"],[0.3333333333333333,\"#9c179e\"],[0.4444444444444444,\"#bd3786\"],[0.5555555555555556,\"#d8576b\"],[0.6666666666666666,\"#ed7953\"],[0.7777777777777778,\"#fb9f3a\"],[0.8888888888888888,\"#fdca26\"],[1.0,\"#f0f921\"]],\"type\":\"heatmapgl\"}],\"histogram\":[{\"marker\":{\"pattern\":{\"fillmode\":\"overlay\",\"size\":10,\"solidity\":0.2}},\"type\":\"histogram\"}],\"histogram2d\":[{\"colorbar\":{\"outlinewidth\":0,\"ticks\":\"\"},\"colorscale\":[[0.0,\"#0d0887\"],[0.1111111111111111,\"#46039f\"],[0.2222222222222222,\"#7201a8\"],[0.3333333333333333,\"#9c179e\"],[0.4444444444444444,\"#bd3786\"],[0.5555555555555556,\"#d8576b\"],[0.6666666666666666,\"#ed7953\"],[0.7777777777777778,\"#fb9f3a\"],[0.8888888888888888,\"#fdca26\"],[1.0,\"#f0f921\"]],\"type\":\"histogram2d\"}],\"histogram2dcontour\":[{\"colorbar\":{\"outlinewidth\":0,\"ticks\":\"\"},\"colorscale\":[[0.0,\"#0d0887\"],[0.1111111111111111,\"#46039f\"],[0.2222222222222222,\"#7201a8\"],[0.3333333333333333,\"#9c179e\"],[0.4444444444444444,\"#bd3786\"],[0.5555555555555556,\"#d8576b\"],[0.6666666666666666,\"#ed7953\"],[0.7777777777777778,\"#fb9f3a\"],[0.8888888888888888,\"#fdca26\"],[1.0,\"#f0f921\"]],\"type\":\"histogram2dcontour\"}],\"mesh3d\":[{\"colorbar\":{\"outlinewidth\":0,\"ticks\":\"\"},\"type\":\"mesh3d\"}],\"parcoords\":[{\"line\":{\"colorbar\":{\"outlinewidth\":0,\"ticks\":\"\"}},\"type\":\"parcoords\"}],\"pie\":[{\"automargin\":true,\"type\":\"pie\"}],\"scatter\":[{\"marker\":{\"colorbar\":{\"outlinewidth\":0,\"ticks\":\"\"}},\"type\":\"scatter\"}],\"scatter3d\":[{\"line\":{\"colorbar\":{\"outlinewidth\":0,\"ticks\":\"\"}},\"marker\":{\"colorbar\":{\"outlinewidth\":0,\"ticks\":\"\"}},\"type\":\"scatter3d\"}],\"scattercarpet\":[{\"marker\":{\"colorbar\":{\"outlinewidth\":0,\"ticks\":\"\"}},\"type\":\"scattercarpet\"}],\"scattergeo\":[{\"marker\":{\"colorbar\":{\"outlinewidth\":0,\"ticks\":\"\"}},\"type\":\"scattergeo\"}],\"scattergl\":[{\"marker\":{\"colorbar\":{\"outlinewidth\":0,\"ticks\":\"\"}},\"type\":\"scattergl\"}],\"scattermapbox\":[{\"marker\":{\"colorbar\":{\"outlinewidth\":0,\"ticks\":\"\"}},\"type\":\"scattermapbox\"}],\"scatterpolar\":[{\"marker\":{\"colorbar\":{\"outlinewidth\":0,\"ticks\":\"\"}},\"type\":\"scatterpolar\"}],\"scatterpolargl\":[{\"marker\":{\"colorbar\":{\"outlinewidth\":0,\"ticks\":\"\"}},\"type\":\"scatterpolargl\"}],\"scatterternary\":[{\"marker\":{\"colorbar\":{\"outlinewidth\":0,\"ticks\":\"\"}},\"type\":\"scatterternary\"}],\"surface\":[{\"colorbar\":{\"outlinewidth\":0,\"ticks\":\"\"},\"colorscale\":[[0.0,\"#0d0887\"],[0.1111111111111111,\"#46039f\"],[0.2222222222222222,\"#7201a8\"],[0.3333333333333333,\"#9c179e\"],[0.4444444444444444,\"#bd3786\"],[0.5555555555555556,\"#d8576b\"],[0.6666666666666666,\"#ed7953\"],[0.7777777777777778,\"#fb9f3a\"],[0.8888888888888888,\"#fdca26\"],[1.0,\"#f0f921\"]],\"type\":\"surface\"}],\"table\":[{\"cells\":{\"fill\":{\"color\":\"#EBF0F8\"},\"line\":{\"color\":\"white\"}},\"header\":{\"fill\":{\"color\":\"#C8D4E3\"},\"line\":{\"color\":\"white\"}},\"type\":\"table\"}]},\"layout\":{\"annotationdefaults\":{\"arrowcolor\":\"#2a3f5f\",\"arrowhead\":0,\"arrowwidth\":1},\"autotypenumbers\":\"strict\",\"coloraxis\":{\"colorbar\":{\"outlinewidth\":0,\"ticks\":\"\"}},\"colorscale\":{\"diverging\":[[0,\"#8e0152\"],[0.1,\"#c51b7d\"],[0.2,\"#de77ae\"],[0.3,\"#f1b6da\"],[0.4,\"#fde0ef\"],[0.5,\"#f7f7f7\"],[0.6,\"#e6f5d0\"],[0.7,\"#b8e186\"],[0.8,\"#7fbc41\"],[0.9,\"#4d9221\"],[1,\"#276419\"]],\"sequential\":[[0.0,\"#0d0887\"],[0.1111111111111111,\"#46039f\"],[0.2222222222222222,\"#7201a8\"],[0.3333333333333333,\"#9c179e\"],[0.4444444444444444,\"#bd3786\"],[0.5555555555555556,\"#d8576b\"],[0.6666666666666666,\"#ed7953\"],[0.7777777777777778,\"#fb9f3a\"],[0.8888888888888888,\"#fdca26\"],[1.0,\"#f0f921\"]],\"sequentialminus\":[[0.0,\"#0d0887\"],[0.1111111111111111,\"#46039f\"],[0.2222222222222222,\"#7201a8\"],[0.3333333333333333,\"#9c179e\"],[0.4444444444444444,\"#bd3786\"],[0.5555555555555556,\"#d8576b\"],[0.6666666666666666,\"#ed7953\"],[0.7777777777777778,\"#fb9f3a\"],[0.8888888888888888,\"#fdca26\"],[1.0,\"#f0f921\"]]},\"colorway\":[\"#636efa\",\"#EF553B\",\"#00cc96\",\"#ab63fa\",\"#FFA15A\",\"#19d3f3\",\"#FF6692\",\"#B6E880\",\"#FF97FF\",\"#FECB52\"],\"font\":{\"color\":\"#2a3f5f\"},\"geo\":{\"bgcolor\":\"white\",\"lakecolor\":\"white\",\"landcolor\":\"#E5ECF6\",\"showlakes\":true,\"showland\":true,\"subunitcolor\":\"white\"},\"hoverlabel\":{\"align\":\"left\"},\"hovermode\":\"closest\",\"mapbox\":{\"style\":\"light\"},\"paper_bgcolor\":\"white\",\"plot_bgcolor\":\"#E5ECF6\",\"polar\":{\"angularaxis\":{\"gridcolor\":\"white\",\"linecolor\":\"white\",\"ticks\":\"\"},\"bgcolor\":\"#E5ECF6\",\"radialaxis\":{\"gridcolor\":\"white\",\"linecolor\":\"white\",\"ticks\":\"\"}},\"scene\":{\"xaxis\":{\"backgroundcolor\":\"#E5ECF6\",\"gridcolor\":\"white\",\"gridwidth\":2,\"linecolor\":\"white\",\"showbackground\":true,\"ticks\":\"\",\"zerolinecolor\":\"white\"},\"yaxis\":{\"backgroundcolor\":\"#E5ECF6\",\"gridcolor\":\"white\",\"gridwidth\":2,\"linecolor\":\"white\",\"showbackground\":true,\"ticks\":\"\",\"zerolinecolor\":\"white\"},\"zaxis\":{\"backgroundcolor\":\"#E5ECF6\",\"gridcolor\":\"white\",\"gridwidth\":2,\"linecolor\":\"white\",\"showbackground\":true,\"ticks\":\"\",\"zerolinecolor\":\"white\"}},\"shapedefaults\":{\"line\":{\"color\":\"#2a3f5f\"}},\"ternary\":{\"aaxis\":{\"gridcolor\":\"white\",\"linecolor\":\"white\",\"ticks\":\"\"},\"baxis\":{\"gridcolor\":\"white\",\"linecolor\":\"white\",\"ticks\":\"\"},\"bgcolor\":\"#E5ECF6\",\"caxis\":{\"gridcolor\":\"white\",\"linecolor\":\"white\",\"ticks\":\"\"}},\"title\":{\"x\":0.05},\"xaxis\":{\"automargin\":true,\"gridcolor\":\"white\",\"linecolor\":\"white\",\"ticks\":\"\",\"title\":{\"standoff\":15},\"zerolinecolor\":\"white\",\"zerolinewidth\":2},\"yaxis\":{\"automargin\":true,\"gridcolor\":\"white\",\"linecolor\":\"white\",\"ticks\":\"\",\"title\":{\"standoff\":15},\"zerolinecolor\":\"white\",\"zerolinewidth\":2}}}},                        {\"responsive\": true}                    ).then(function(){\n",
              "                            \n",
              "var gd = document.getElementById('34169de8-88e0-4082-94f8-dd196c440735');\n",
              "var x = new MutationObserver(function (mutations, observer) {{\n",
              "        var display = window.getComputedStyle(gd).display;\n",
              "        if (!display || display === 'none') {{\n",
              "            console.log([gd, 'removed!']);\n",
              "            Plotly.purge(gd);\n",
              "            observer.disconnect();\n",
              "        }}\n",
              "}});\n",
              "\n",
              "// Listen for the removal of the full notebook cells\n",
              "var notebookContainer = gd.closest('#notebook-container');\n",
              "if (notebookContainer) {{\n",
              "    x.observe(notebookContainer, {childList: true});\n",
              "}}\n",
              "\n",
              "// Listen for the clearing of the current output cell\n",
              "var outputEl = gd.closest('.output');\n",
              "if (outputEl) {{\n",
              "    x.observe(outputEl, {childList: true});\n",
              "}}\n",
              "\n",
              "                        })                };                            </script>        </div>\n",
              "</body>\n",
              "</html>"
            ]
          },
          "metadata": {}
        }
      ],
      "source": [
        "fig = plot_parallel_coordinate(study)\n",
        "fig.show()"
      ]
    },
    {
      "cell_type": "code",
      "execution_count": 48,
      "metadata": {
        "colab": {
          "base_uri": "https://localhost:8080/",
          "height": 542
        },
        "id": "XSP_1wYLVyMM",
        "outputId": "b8adf099-1472-4d4b-81e6-0735bf7ce3c1"
      },
      "outputs": [
        {
          "output_type": "display_data",
          "data": {
            "text/html": [
              "<html>\n",
              "<head><meta charset=\"utf-8\" /></head>\n",
              "<body>\n",
              "    <div>            <script src=\"https://cdnjs.cloudflare.com/ajax/libs/mathjax/2.7.5/MathJax.js?config=TeX-AMS-MML_SVG\"></script><script type=\"text/javascript\">if (window.MathJax) {MathJax.Hub.Config({SVG: {font: \"STIX-Web\"}});}</script>                <script type=\"text/javascript\">window.PlotlyConfig = {MathJaxConfig: 'local'};</script>\n",
              "        <script src=\"https://cdn.plot.ly/plotly-2.8.3.min.js\"></script>                <div id=\"c006667b-5fda-4682-8a88-4d2a7ab6b1a0\" class=\"plotly-graph-div\" style=\"height:525px; width:100%;\"></div>            <script type=\"text/javascript\">                                    window.PLOTLYENV=window.PLOTLYENV || {};                                    if (document.getElementById(\"c006667b-5fda-4682-8a88-4d2a7ab6b1a0\")) {                    Plotly.newPlot(                        \"c006667b-5fda-4682-8a88-4d2a7ab6b1a0\",                        [{\"cliponaxis\":false,\"hovertemplate\":[\"oof_woe (CategoricalDistribution): 0.0<extra></extra>\",\"force_single_split (CategoricalDistribution): 0.006582170105912529<extra></extra>\",\"metric_th (CategoricalDistribution): 0.039008475341557616<extra></extra>\",\"imp_type (CategoricalDistribution): 0.05283781669810596<extra></extra>\",\"pearson_th (CategoricalDistribution): 0.22005989917657912<extra></extra>\",\"p_val (CategoricalDistribution): 0.6815116386778448<extra></extra>\"],\"marker\":{\"color\":\"rgb(66,146,198)\"},\"orientation\":\"h\",\"text\":[\"<0.01\",\"<0.01\",\"0.04\",\"0.05\",\"0.22\",\"0.68\"],\"textposition\":\"outside\",\"x\":[0.0,0.006582170105912529,0.039008475341557616,0.05283781669810596,0.22005989917657912,0.6815116386778448],\"y\":[\"oof_woe\",\"force_single_split\",\"metric_th\",\"imp_type\",\"pearson_th\",\"p_val\"],\"type\":\"bar\"}],                        {\"showlegend\":false,\"title\":{\"text\":\"Hyperparameter Importances\"},\"xaxis\":{\"title\":{\"text\":\"Importance for Objective Value\"}},\"yaxis\":{\"title\":{\"text\":\"Hyperparameter\"}},\"template\":{\"data\":{\"bar\":[{\"error_x\":{\"color\":\"#2a3f5f\"},\"error_y\":{\"color\":\"#2a3f5f\"},\"marker\":{\"line\":{\"color\":\"#E5ECF6\",\"width\":0.5},\"pattern\":{\"fillmode\":\"overlay\",\"size\":10,\"solidity\":0.2}},\"type\":\"bar\"}],\"barpolar\":[{\"marker\":{\"line\":{\"color\":\"#E5ECF6\",\"width\":0.5},\"pattern\":{\"fillmode\":\"overlay\",\"size\":10,\"solidity\":0.2}},\"type\":\"barpolar\"}],\"carpet\":[{\"aaxis\":{\"endlinecolor\":\"#2a3f5f\",\"gridcolor\":\"white\",\"linecolor\":\"white\",\"minorgridcolor\":\"white\",\"startlinecolor\":\"#2a3f5f\"},\"baxis\":{\"endlinecolor\":\"#2a3f5f\",\"gridcolor\":\"white\",\"linecolor\":\"white\",\"minorgridcolor\":\"white\",\"startlinecolor\":\"#2a3f5f\"},\"type\":\"carpet\"}],\"choropleth\":[{\"colorbar\":{\"outlinewidth\":0,\"ticks\":\"\"},\"type\":\"choropleth\"}],\"contour\":[{\"colorbar\":{\"outlinewidth\":0,\"ticks\":\"\"},\"colorscale\":[[0.0,\"#0d0887\"],[0.1111111111111111,\"#46039f\"],[0.2222222222222222,\"#7201a8\"],[0.3333333333333333,\"#9c179e\"],[0.4444444444444444,\"#bd3786\"],[0.5555555555555556,\"#d8576b\"],[0.6666666666666666,\"#ed7953\"],[0.7777777777777778,\"#fb9f3a\"],[0.8888888888888888,\"#fdca26\"],[1.0,\"#f0f921\"]],\"type\":\"contour\"}],\"contourcarpet\":[{\"colorbar\":{\"outlinewidth\":0,\"ticks\":\"\"},\"type\":\"contourcarpet\"}],\"heatmap\":[{\"colorbar\":{\"outlinewidth\":0,\"ticks\":\"\"},\"colorscale\":[[0.0,\"#0d0887\"],[0.1111111111111111,\"#46039f\"],[0.2222222222222222,\"#7201a8\"],[0.3333333333333333,\"#9c179e\"],[0.4444444444444444,\"#bd3786\"],[0.5555555555555556,\"#d8576b\"],[0.6666666666666666,\"#ed7953\"],[0.7777777777777778,\"#fb9f3a\"],[0.8888888888888888,\"#fdca26\"],[1.0,\"#f0f921\"]],\"type\":\"heatmap\"}],\"heatmapgl\":[{\"colorbar\":{\"outlinewidth\":0,\"ticks\":\"\"},\"colorscale\":[[0.0,\"#0d0887\"],[0.1111111111111111,\"#46039f\"],[0.2222222222222222,\"#7201a8\"],[0.3333333333333333,\"#9c179e\"],[0.4444444444444444,\"#bd3786\"],[0.5555555555555556,\"#d8576b\"],[0.6666666666666666,\"#ed7953\"],[0.7777777777777778,\"#fb9f3a\"],[0.8888888888888888,\"#fdca26\"],[1.0,\"#f0f921\"]],\"type\":\"heatmapgl\"}],\"histogram\":[{\"marker\":{\"pattern\":{\"fillmode\":\"overlay\",\"size\":10,\"solidity\":0.2}},\"type\":\"histogram\"}],\"histogram2d\":[{\"colorbar\":{\"outlinewidth\":0,\"ticks\":\"\"},\"colorscale\":[[0.0,\"#0d0887\"],[0.1111111111111111,\"#46039f\"],[0.2222222222222222,\"#7201a8\"],[0.3333333333333333,\"#9c179e\"],[0.4444444444444444,\"#bd3786\"],[0.5555555555555556,\"#d8576b\"],[0.6666666666666666,\"#ed7953\"],[0.7777777777777778,\"#fb9f3a\"],[0.8888888888888888,\"#fdca26\"],[1.0,\"#f0f921\"]],\"type\":\"histogram2d\"}],\"histogram2dcontour\":[{\"colorbar\":{\"outlinewidth\":0,\"ticks\":\"\"},\"colorscale\":[[0.0,\"#0d0887\"],[0.1111111111111111,\"#46039f\"],[0.2222222222222222,\"#7201a8\"],[0.3333333333333333,\"#9c179e\"],[0.4444444444444444,\"#bd3786\"],[0.5555555555555556,\"#d8576b\"],[0.6666666666666666,\"#ed7953\"],[0.7777777777777778,\"#fb9f3a\"],[0.8888888888888888,\"#fdca26\"],[1.0,\"#f0f921\"]],\"type\":\"histogram2dcontour\"}],\"mesh3d\":[{\"colorbar\":{\"outlinewidth\":0,\"ticks\":\"\"},\"type\":\"mesh3d\"}],\"parcoords\":[{\"line\":{\"colorbar\":{\"outlinewidth\":0,\"ticks\":\"\"}},\"type\":\"parcoords\"}],\"pie\":[{\"automargin\":true,\"type\":\"pie\"}],\"scatter\":[{\"marker\":{\"colorbar\":{\"outlinewidth\":0,\"ticks\":\"\"}},\"type\":\"scatter\"}],\"scatter3d\":[{\"line\":{\"colorbar\":{\"outlinewidth\":0,\"ticks\":\"\"}},\"marker\":{\"colorbar\":{\"outlinewidth\":0,\"ticks\":\"\"}},\"type\":\"scatter3d\"}],\"scattercarpet\":[{\"marker\":{\"colorbar\":{\"outlinewidth\":0,\"ticks\":\"\"}},\"type\":\"scattercarpet\"}],\"scattergeo\":[{\"marker\":{\"colorbar\":{\"outlinewidth\":0,\"ticks\":\"\"}},\"type\":\"scattergeo\"}],\"scattergl\":[{\"marker\":{\"colorbar\":{\"outlinewidth\":0,\"ticks\":\"\"}},\"type\":\"scattergl\"}],\"scattermapbox\":[{\"marker\":{\"colorbar\":{\"outlinewidth\":0,\"ticks\":\"\"}},\"type\":\"scattermapbox\"}],\"scatterpolar\":[{\"marker\":{\"colorbar\":{\"outlinewidth\":0,\"ticks\":\"\"}},\"type\":\"scatterpolar\"}],\"scatterpolargl\":[{\"marker\":{\"colorbar\":{\"outlinewidth\":0,\"ticks\":\"\"}},\"type\":\"scatterpolargl\"}],\"scatterternary\":[{\"marker\":{\"colorbar\":{\"outlinewidth\":0,\"ticks\":\"\"}},\"type\":\"scatterternary\"}],\"surface\":[{\"colorbar\":{\"outlinewidth\":0,\"ticks\":\"\"},\"colorscale\":[[0.0,\"#0d0887\"],[0.1111111111111111,\"#46039f\"],[0.2222222222222222,\"#7201a8\"],[0.3333333333333333,\"#9c179e\"],[0.4444444444444444,\"#bd3786\"],[0.5555555555555556,\"#d8576b\"],[0.6666666666666666,\"#ed7953\"],[0.7777777777777778,\"#fb9f3a\"],[0.8888888888888888,\"#fdca26\"],[1.0,\"#f0f921\"]],\"type\":\"surface\"}],\"table\":[{\"cells\":{\"fill\":{\"color\":\"#EBF0F8\"},\"line\":{\"color\":\"white\"}},\"header\":{\"fill\":{\"color\":\"#C8D4E3\"},\"line\":{\"color\":\"white\"}},\"type\":\"table\"}]},\"layout\":{\"annotationdefaults\":{\"arrowcolor\":\"#2a3f5f\",\"arrowhead\":0,\"arrowwidth\":1},\"autotypenumbers\":\"strict\",\"coloraxis\":{\"colorbar\":{\"outlinewidth\":0,\"ticks\":\"\"}},\"colorscale\":{\"diverging\":[[0,\"#8e0152\"],[0.1,\"#c51b7d\"],[0.2,\"#de77ae\"],[0.3,\"#f1b6da\"],[0.4,\"#fde0ef\"],[0.5,\"#f7f7f7\"],[0.6,\"#e6f5d0\"],[0.7,\"#b8e186\"],[0.8,\"#7fbc41\"],[0.9,\"#4d9221\"],[1,\"#276419\"]],\"sequential\":[[0.0,\"#0d0887\"],[0.1111111111111111,\"#46039f\"],[0.2222222222222222,\"#7201a8\"],[0.3333333333333333,\"#9c179e\"],[0.4444444444444444,\"#bd3786\"],[0.5555555555555556,\"#d8576b\"],[0.6666666666666666,\"#ed7953\"],[0.7777777777777778,\"#fb9f3a\"],[0.8888888888888888,\"#fdca26\"],[1.0,\"#f0f921\"]],\"sequentialminus\":[[0.0,\"#0d0887\"],[0.1111111111111111,\"#46039f\"],[0.2222222222222222,\"#7201a8\"],[0.3333333333333333,\"#9c179e\"],[0.4444444444444444,\"#bd3786\"],[0.5555555555555556,\"#d8576b\"],[0.6666666666666666,\"#ed7953\"],[0.7777777777777778,\"#fb9f3a\"],[0.8888888888888888,\"#fdca26\"],[1.0,\"#f0f921\"]]},\"colorway\":[\"#636efa\",\"#EF553B\",\"#00cc96\",\"#ab63fa\",\"#FFA15A\",\"#19d3f3\",\"#FF6692\",\"#B6E880\",\"#FF97FF\",\"#FECB52\"],\"font\":{\"color\":\"#2a3f5f\"},\"geo\":{\"bgcolor\":\"white\",\"lakecolor\":\"white\",\"landcolor\":\"#E5ECF6\",\"showlakes\":true,\"showland\":true,\"subunitcolor\":\"white\"},\"hoverlabel\":{\"align\":\"left\"},\"hovermode\":\"closest\",\"mapbox\":{\"style\":\"light\"},\"paper_bgcolor\":\"white\",\"plot_bgcolor\":\"#E5ECF6\",\"polar\":{\"angularaxis\":{\"gridcolor\":\"white\",\"linecolor\":\"white\",\"ticks\":\"\"},\"bgcolor\":\"#E5ECF6\",\"radialaxis\":{\"gridcolor\":\"white\",\"linecolor\":\"white\",\"ticks\":\"\"}},\"scene\":{\"xaxis\":{\"backgroundcolor\":\"#E5ECF6\",\"gridcolor\":\"white\",\"gridwidth\":2,\"linecolor\":\"white\",\"showbackground\":true,\"ticks\":\"\",\"zerolinecolor\":\"white\"},\"yaxis\":{\"backgroundcolor\":\"#E5ECF6\",\"gridcolor\":\"white\",\"gridwidth\":2,\"linecolor\":\"white\",\"showbackground\":true,\"ticks\":\"\",\"zerolinecolor\":\"white\"},\"zaxis\":{\"backgroundcolor\":\"#E5ECF6\",\"gridcolor\":\"white\",\"gridwidth\":2,\"linecolor\":\"white\",\"showbackground\":true,\"ticks\":\"\",\"zerolinecolor\":\"white\"}},\"shapedefaults\":{\"line\":{\"color\":\"#2a3f5f\"}},\"ternary\":{\"aaxis\":{\"gridcolor\":\"white\",\"linecolor\":\"white\",\"ticks\":\"\"},\"baxis\":{\"gridcolor\":\"white\",\"linecolor\":\"white\",\"ticks\":\"\"},\"bgcolor\":\"#E5ECF6\",\"caxis\":{\"gridcolor\":\"white\",\"linecolor\":\"white\",\"ticks\":\"\"}},\"title\":{\"x\":0.05},\"xaxis\":{\"automargin\":true,\"gridcolor\":\"white\",\"linecolor\":\"white\",\"ticks\":\"\",\"title\":{\"standoff\":15},\"zerolinecolor\":\"white\",\"zerolinewidth\":2},\"yaxis\":{\"automargin\":true,\"gridcolor\":\"white\",\"linecolor\":\"white\",\"ticks\":\"\",\"title\":{\"standoff\":15},\"zerolinecolor\":\"white\",\"zerolinewidth\":2}}}},                        {\"responsive\": true}                    ).then(function(){\n",
              "                            \n",
              "var gd = document.getElementById('c006667b-5fda-4682-8a88-4d2a7ab6b1a0');\n",
              "var x = new MutationObserver(function (mutations, observer) {{\n",
              "        var display = window.getComputedStyle(gd).display;\n",
              "        if (!display || display === 'none') {{\n",
              "            console.log([gd, 'removed!']);\n",
              "            Plotly.purge(gd);\n",
              "            observer.disconnect();\n",
              "        }}\n",
              "}});\n",
              "\n",
              "// Listen for the removal of the full notebook cells\n",
              "var notebookContainer = gd.closest('#notebook-container');\n",
              "if (notebookContainer) {{\n",
              "    x.observe(notebookContainer, {childList: true});\n",
              "}}\n",
              "\n",
              "// Listen for the clearing of the current output cell\n",
              "var outputEl = gd.closest('.output');\n",
              "if (outputEl) {{\n",
              "    x.observe(outputEl, {childList: true});\n",
              "}}\n",
              "\n",
              "                        })                };                            </script>        </div>\n",
              "</body>\n",
              "</html>"
            ]
          },
          "metadata": {}
        }
      ],
      "source": [
        "# report plots\n",
        "fig = plot_param_importances(study)\n",
        "fig.show()"
      ]
    },
    {
      "cell_type": "code",
      "execution_count": 49,
      "metadata": {
        "colab": {
          "base_uri": "https://localhost:8080/"
        },
        "id": "_AlW0yktWSrk",
        "outputId": "61f17de4-3623-4c25-c005-1a44c5f120a6"
      },
      "outputs": [
        {
          "output_type": "stream",
          "name": "stdout",
          "text": [
            "[LightGBM] [Info] Number of positive: 1013, number of negative: 3787\n",
            "[LightGBM] [Warning] Auto-choosing col-wise multi-threading, the overhead of testing was 0.001146 seconds.\n",
            "You can set `force_col_wise=true` to remove the overhead.\n",
            "[LightGBM] [Info] Total Bins 856\n",
            "[LightGBM] [Info] Number of data points in the train set: 4800, number of used features: 8\n",
            "[LightGBM] [Info] [binary:BoostFromScore]: pavg=0.211042 -> initscore=-1.318658\n",
            "[LightGBM] [Info] Start training from score -1.318658\n",
            "PAY_0 processing...\n",
            "LIMIT_BAL processing...\n",
            "PAY_AMT2 processing...\n",
            "PAY_AMT1 processing...\n",
            "PAY_3 processing...\n",
            "PAY_5 processing...\n",
            "PAY_AMT3 processing...\n",
            "PAY_6 processing...\n",
            "dict_keys(['PAY_0', 'PAY_3', 'LIMIT_BAL', 'PAY_AMT1', 'PAY_5', 'PAY_AMT2', 'PAY_AMT3', 'PAY_6']) to selector !!!!!\n",
            "Feature selection...\n",
            "PAY_0       -0.748906\n",
            "PAY_3       -0.308126\n",
            "PAY_AMT1    -0.488863\n",
            "LIMIT_BAL   -0.382960\n",
            "PAY_AMT2    -0.191314\n",
            "PAY_6       -0.317707\n",
            "PAY_AMT3    -0.219440\n",
            "dtype: float64\n",
            "Validation Test Gini : 54.72%\n",
            "Development Test Gini : 56.13%\n"
          ]
        }
      ],
      "source": [
        "# retraining based on the best parameters\n",
        "autowoe_best = AutoWoE(**best_hyperparameters)\n",
        "\n",
        "# fitting the model\n",
        "autowoe_best.fit(\n",
        "    validation[final_features + [target]], \n",
        "    target_name=str(target),\n",
        "    group_kf=None,\n",
        "    validation=test)\n",
        "\n",
        "# testing discriminatory power\n",
        "y_pred = autowoe_best.predict_proba(test)\n",
        "print(f\"Validation Test Gini : {roc_auc_score(test[target], y_pred)*2-1:.2%}\")\n",
        "\n",
        "# testing discriminatory power\n",
        "y_pred = model.predict_proba(test)\n",
        "print(f\"Development Test Gini : {roc_auc_score(test[target], y_pred)*2-1:.2%}\")"
      ]
    }
  ],
  "metadata": {
    "colab": {
      "provenance": [],
      "include_colab_link": true
    },
    "kernelspec": {
      "display_name": "Python 3 (ipykernel)",
      "language": "python",
      "name": "python3"
    },
    "language_info": {
      "codemirror_mode": {
        "name": "ipython",
        "version": 3
      },
      "file_extension": ".py",
      "mimetype": "text/x-python",
      "name": "python",
      "nbconvert_exporter": "python",
      "pygments_lexer": "ipython3",
      "version": "3.9.13"
    }
  },
  "nbformat": 4,
  "nbformat_minor": 0
}